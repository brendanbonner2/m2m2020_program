{
 "cells": [
  {
   "cell_type": "markdown",
   "source": [
    "This notebook is the tester for developing a system for recording models in a simplistic method"
   ],
   "metadata": {}
  },
  {
   "cell_type": "code",
   "execution_count": 1,
   "source": [
    "import numpy as np\n",
    "import pandas as pd\n",
    "import tensorflow as tf\n",
    "import matplotlib.pyplot as plt\n",
    "\n",
    "\n",
    "model_vgg16 = tf.keras.applications.VGG16(\n",
    "    include_top=True,\n",
    "    weights=None,\n",
    "    input_tensor=None,\n",
    "    input_shape=None,\n",
    "    pooling=None,\n",
    "    classes=1000,\n",
    "    classifier_activation=\"softmax\",\n",
    ")\n",
    "\n",
    "model_vgg16_imagenet = tf.keras.applications.VGG16(\n",
    "    include_top=True,\n",
    "    weights=\"imagenet\",\n",
    "    input_tensor=None,\n",
    "    input_shape=None,\n",
    "    pooling=None,\n",
    "    classes=1000,\n",
    "    classifier_activation=\"softmax\",\n",
    ")\n",
    "\n",
    "\n",
    "model_vgg16_test = tf.keras.applications.VGG16(\n",
    "    include_top=True,\n",
    "    weights=\"imagenet\",\n",
    "    input_tensor=None,\n",
    "    input_shape=None,\n",
    "    pooling=None,\n",
    "    classes=1000,\n",
    "    classifier_activation=\"softmax\",\n",
    ")\n",
    "\n",
    "model_resnet50 = tf.keras.applications.ResNet50(\n",
    "    include_top=True,\n",
    "    weights=None,\n",
    "    input_tensor=None,\n",
    "    input_shape=None,\n",
    "    pooling=None,\n",
    "    classes=500,\n",
    "    classifier_activation=\"softmax\",\n",
    ")\n",
    "\n",
    "\n",
    "model_resnet50_imagenet = tf.keras.applications.ResNet50(\n",
    "    include_top=True,\n",
    "    weights='imagenet',\n",
    "    input_tensor=None,\n",
    "    input_shape=None,\n",
    "    pooling=None,\n",
    "    classifier_activation=\"softmax\",\n",
    ")"
   ],
   "outputs": [],
   "metadata": {}
  },
  {
   "cell_type": "code",
   "execution_count": 3,
   "source": [
    "# From https://stackoverflow.com/questions/13530762/how-to-know-bytes-size-of-python-object-like-arrays-and-dictionaries-the-simp\n",
    "\n",
    "import gc\n",
    "import sys\n",
    "\n",
    "def get_obj_size(obj):\n",
    "    marked = {id(obj)}\n",
    "    obj_q = [obj]\n",
    "    sz = 0\n",
    "\n",
    "    while obj_q:\n",
    "        sz += sum(map(sys.getsizeof, obj_q))\n",
    "\n",
    "        # Lookup all the object referred to by the object in obj_q.\n",
    "        # See: https://docs.python.org/3.7/library/gc.html#gc.get_referents\n",
    "        all_refr = ((id(o), o) for o in gc.get_referents(*obj_q))\n",
    "\n",
    "        # Filter object that are already marked.\n",
    "        # Using dict notation will prevent repeated objects.\n",
    "        new_refr = {o_id: o for o_id, o in all_refr if o_id not in marked and not isinstance(o, type)}\n",
    "\n",
    "        # The new obj_q will be the ones that were not marked,\n",
    "        # and we will update marked with their ids so we will\n",
    "        # not traverse them again.\n",
    "        obj_q = new_refr.values()\n",
    "        marked.update(new_refr.keys())\n",
    "\n",
    "    return sz\n",
    "\n",
    "import sys\n",
    "   \n",
    "print(get_obj_size(model_vgg16))\n",
    "\n",
    "print(get_obj_size(model_resnet50))\n",
    "print(get_obj_size(model_resnet50_imagenet))\n",
    "\n"
   ],
   "outputs": [
    {
     "output_type": "stream",
     "name": "stdout",
     "text": [
      "60521064\n",
      "60521064\n",
      "60521064\n"
     ]
    }
   ],
   "metadata": {}
  },
  {
   "cell_type": "code",
   "execution_count": 2,
   "source": [
    "import hashlib\n",
    "from scipy.stats import skew"
   ],
   "outputs": [],
   "metadata": {}
  },
  {
   "cell_type": "code",
   "execution_count": 3,
   "source": [
    "\n",
    "\n",
    "def create_layer_data(layer):\n",
    "\n",
    "    # get structure array\n",
    "    layer_structure  = {\n",
    "        \"class\": layer.__class__.__name__,\n",
    "        \"input_shape\": layer.input_shape,\n",
    "        \"output_shape\": layer.output_shape,\n",
    "        \"trainable\": layer.trainable,\n",
    "        \"params\": layer.count_params(),\n",
    "        \"name\": layer.name\n",
    "    }\n",
    "\n",
    "    # get layer weights and bias\n",
    "    weights = layer.get_weights()\n",
    " \n",
    "\n",
    "    if len(weights) == 0:\n",
    "        calc_weight_std = 0\n",
    "        calc_weight_mean = 0\n",
    "        calc_bias_std = 0\n",
    "        calc_bias_mean = 0\n",
    "        calc_skew = 0\n",
    "\n",
    "    if len(weights) == 1:\n",
    "    #    weight_x = np.ndarray.flatten(weights[0])\n",
    "        calc_weight_std = np.std(weights[0]).astype(float)\n",
    "        calc_weight_mean = np.mean(weights[0]).astype(float)\n",
    "        calc_skew = skew(np.ndarray.flatten(weights[0]))\n",
    "        calc_bias_std = 0\n",
    "        calc_bias_mean = 0\n",
    "\n",
    "    if len(weights) > 1:\n",
    "    #    weight_x = np.ndarray.flatten(weights[0])\n",
    "    #    bias_x = np.ndarray.flatten(weights[1])\n",
    "        calc_weight_std = np.std(weights[0]).astype(float)\n",
    "        calc_weight_mean = np.mean(weights[0]).astype(float)\n",
    "        calc_skew = skew(np.ndarray.flatten(weights[0]))\n",
    "        calc_bias_std = np.std(weights[1]).astype(float)\n",
    "        calc_bias_mean = np.mean(weights[1]).astype(float)\n",
    "        #calc_skew = skew(weight_x)\n",
    "        \n",
    "    layer_values = {\n",
    "        \"weight_std\" : calc_weight_std,\n",
    "        \"weight_mean\" : calc_weight_mean,\n",
    "        \"bias_std\" : calc_bias_std,\n",
    "        \"bias_mean\" : calc_bias_mean,\n",
    "        \"skew\" : calc_skew\n",
    "    }\n",
    "\n",
    "    return layer_structure, layer_values\n",
    "\n",
    "def create_model_data(model):\n",
    "    # initiate hashing function\n",
    "    sha = hashlib.sha256()\n",
    "\n",
    "    layer_data_set = {}\n",
    "    layer_structure_set = {}\n",
    "    \n",
    "    for index, value in enumerate(model.layers):\n",
    "        # Run through the layers\n",
    "        layer_structure, layer_data = create_layer_data(value)\n",
    "        # print(layer_data, layer_values, hash(layer_values))\n",
    "        sha.update(repr(layer_structure).encode('utf-8'))\n",
    "        sha.update(repr(layer_data).encode('utf-8'))\n",
    "\n",
    "        layer_data_set[str(index)] = layer_data\n",
    "        layer_structure_set[str(index)] = layer_structure\n",
    "\n",
    "    \n",
    "    layer_data = {\"structure\":layer_structure_set, \"data\":layer_data_set}\n",
    "#    sha.update(repr(layer_data).encode('utf-8'))\n",
    "\n",
    "    return sha.hexdigest(), layer_data\n",
    "\n",
    "\n",
    "\n",
    "\n",
    "#     sha.update(repr(layer_data).encode('utf-8'))\n"
   ],
   "outputs": [],
   "metadata": {}
  },
  {
   "cell_type": "code",
   "execution_count": 7,
   "source": [
    "\n",
    "signature1, layer_data1 = create_model_data(model_vgg16_imagenet)\n",
    "print(signature1)\n",
    "signature2, layer_data2 = create_model_data(model_vgg16_test)\n",
    "print(signature2)\n",
    "\n",
    "'''\n",
    "0b4d6616162762f913eb7733446800441a7cb062be14be4ec33ea88e626672c8\n",
    "7d2e1000f78397c013e188154d747723871bd2749474d43688cb700cf542a49f\n",
    "'''"
   ],
   "outputs": [
    {
     "output_type": "stream",
     "name": "stdout",
     "text": [
      "0b4d6616162762f913eb7733446800441a7cb062be14be4ec33ea88e626672c8\n",
      "7d2e1000f78397c013e188154d747723871bd2749474d43688cb700cf542a49f\n"
     ]
    },
    {
     "output_type": "execute_result",
     "data": {
      "text/plain": [
       "'\\n0b4d6616162762f913eb7733446800441a7cb062be14be4ec33ea88e626672c8\\n7d2e1000f78397c013e188154d747723871bd2749474d43688cb700cf542a49f\\n'"
      ]
     },
     "metadata": {},
     "execution_count": 7
    }
   ],
   "metadata": {}
  },
  {
   "cell_type": "code",
   "execution_count": null,
   "source": [],
   "outputs": [],
   "metadata": {}
  },
  {
   "cell_type": "code",
   "execution_count": 8,
   "source": [
    "# setup global write variables\n",
    "bb_username = 'brendan.bonner@mail.dcu.ie'\n",
    "bb_organisation = 'DCU'\n",
    "bb_model_source = 'created in python'"
   ],
   "outputs": [],
   "metadata": {}
  },
  {
   "cell_type": "code",
   "execution_count": 10,
   "source": [
    "import pymongo\n",
    "import datetime\n",
    "from pymongo import MongoClient\n",
    "\n",
    "from bson.objectid import ObjectId\n",
    "\n",
    "def init_model_db():\n",
    "    global db_col_data\n",
    "    global db_col_signature\n",
    "\n",
    "\n",
    "    dbclient = pymongo.MongoClient(\"mongodb://localhost:27017/\")\n",
    "    dbclient_database = dbclient[\"model_database\"]\n",
    "    db_col_data = dbclient_database[\"modeldata\"]\n",
    "    db_col_signature = dbclient_database[\"signature\"]\n",
    "\n",
    "\n",
    "    # Make sure signatures are unique on both\n",
    "    db_col_signature.create_index(\n",
    "        [(\"signature\", pymongo.DESCENDING)],\n",
    "        unique=True\n",
    "    )\n",
    "\n",
    "\n",
    "    remote_user = False\n",
    "    if(remote_user):\n",
    "\n",
    "\n",
    "        remote_client = MongoClient('mongodb+srv://cluster0.7ilyj.mongodb.net/myFirstDatabase')\n",
    "        dbclient_database_r = remote_client[\"model_database\"]\n",
    "        db_col_data_r = dbclient_database_r[\"modeldata\"]\n",
    "        db_col_signature_r = dbclient_database_r[\"signature\"]\n",
    "        \n",
    "    \n",
    "        # Only if there is a remote account, allow writing, otherwise read only\n",
    "        db_col_signature_r.create_index(\n",
    "            [(\"signature\", pymongo.DESCENDING)],\n",
    "            unique=True\n",
    "        )\n",
    "\n",
    "\n",
    "def write_model_db(\n",
    "    signature,\n",
    "    model_data,\n",
    "    username = bb_username,\n",
    "    organisation = bb_organisation,\n",
    "    model_source=bb_model_source,\n",
    "    parent = '',\n",
    "    local=True):\n",
    "\n",
    "    if (local):\n",
    "        db_data = db_col_data\n",
    "        db_sig = db_col_signature\n",
    "    else:\n",
    "        db_data = db_col_data_r\n",
    "        db_sig = db_col_signature_r\n",
    "\n",
    "    # Insert Signature to Database (signatures)\n",
    "    if get_model(signature) == None:\n",
    "        x = db_col_data.insert_one(model_data)\n",
    "        model_id = x.inserted_id\n",
    "        # print(model_id, 'for sig: ', signature)\n",
    "\n",
    "        # Inset Model Data to Database (modeldata)\n",
    "        signature_data =  {\n",
    "            'signature': signature,\n",
    "            'parent': parent,\n",
    "            'username': username,\n",
    "            'organisation':organisation,\n",
    "            'model_source': model_source,\n",
    "            'model_data': model_id\n",
    "        }\n",
    "\n",
    "        x = db_col_signature.insert_one(signature_data)\n",
    "        signature_model_id = x.inserted_id\n",
    "        return signature_model_id\n",
    "    else:\n",
    "        print('signature: ', signature, ' already in database')\n",
    "        return None\n",
    "\n",
    "\n",
    "def push_model(model, local=True, parent=None, username=bb_username, organisation = bb_organisation):\n",
    "    signature, layer_data = create_model_data(model)\n",
    "\n",
    "    write_model_db(\n",
    "        signature=signature,\n",
    "        model_data=layer_data,\n",
    "        parent=parent,\n",
    "        username=username,\n",
    "        organisation=organisation,\n",
    "        local=local\n",
    "    )\n",
    "    return signature\n",
    "\n",
    "\n",
    "\n",
    "def get_model(signature):\n",
    "    signature_data = db_col_signature.find_one({'signature': signature})\n",
    "    if(signature_data):\n",
    "        return signature_data\n",
    "    else:\n",
    "        return None\n",
    "\n",
    "\n",
    "# The web framework gets post_id from the URL and passes it as a string\n",
    "def get_model_data(model_id):\n",
    "    document = db_col_data.find_one({'_id': ObjectId(model_id)})\n",
    "    return document\n"
   ],
   "outputs": [],
   "metadata": {}
  },
  {
   "cell_type": "code",
   "execution_count": 11,
   "source": [
    "#initialise model database\n",
    "init_model_db()"
   ],
   "outputs": [],
   "metadata": {}
  },
  {
   "cell_type": "code",
   "execution_count": null,
   "source": [],
   "outputs": [],
   "metadata": {}
  },
  {
   "cell_type": "code",
   "execution_count": 13,
   "source": [
    "# get a signature and write it to the model\n",
    "\n",
    "\n",
    "parent = push_model(model_resnet50)\n",
    "last = push_model(model_resnet50_imagenet,parent=parent)\n",
    "print(parent, last)\n",
    "parent = push_model(model_vgg16_imagenet)\n",
    "last = push_model(model_vgg16_test, parent=parent)\n",
    "print(parent, last)\n"
   ],
   "outputs": [
    {
     "output_type": "stream",
     "name": "stdout",
     "text": [
      "signature:  988fd7709184edd28b8764c84cd0f978d5ec4c549d7be4f16ea4bc781dff6ff6  already in database\n",
      "signature:  c7e952212c1c260c0bba4d0624ef0baad6082470a18aa51798d33ea708874930  already in database\n",
      "988fd7709184edd28b8764c84cd0f978d5ec4c549d7be4f16ea4bc781dff6ff6 c7e952212c1c260c0bba4d0624ef0baad6082470a18aa51798d33ea708874930\n",
      "signature:  0b4d6616162762f913eb7733446800441a7cb062be14be4ec33ea88e626672c8  already in database\n",
      "signature:  7d2e1000f78397c013e188154d747723871bd2749474d43688cb700cf542a49f  already in database\n",
      "0b4d6616162762f913eb7733446800441a7cb062be14be4ec33ea88e626672c8 7d2e1000f78397c013e188154d747723871bd2749474d43688cb700cf542a49f\n"
     ]
    }
   ],
   "metadata": {}
  },
  {
   "cell_type": "code",
   "execution_count": 14,
   "source": [
    "# Make a small adjustment to test the SHA change\n",
    "test_repeat = push_model(model_vgg16_test, parent=last, username='brendanboner@gmail.com')\n",
    "\n",
    "for x in range(5):\n",
    "    weights = model_vgg16_test.layers[1].get_weights()\n",
    "    weights[0][0][0][0] = weights[0][0][0][0] * 1.004\n",
    "    model_vgg16_test.layers[1].set_weights(weights)\n",
    "    last = push_model(model_vgg16_test, parent=last)\n",
    "    print(last)\n"
   ],
   "outputs": [
    {
     "output_type": "stream",
     "name": "stdout",
     "text": [
      "signature:  7d2e1000f78397c013e188154d747723871bd2749474d43688cb700cf542a49f  already in database\n",
      "8b43cb2a9c073f150dc8d7c7bfa84ab34a83d34bcdf3a4a88d532e1ac37612b8\n",
      "9d04c2c13efbe66031aeb42dd9ac4415d2f235140167f65b35b6385d7907797c\n",
      "96a1908c17231d4276b28a46034fedc521539749e4ad49e6ab9c8eb251f46f77\n",
      "4413bf22292518b7d711ea24eafef7d95002cc07b2e028313f183ec42fa90cda\n",
      "362379f5579177a418827f27fe331bfde7fa038569f266aee39f6eca3c97febb\n"
     ]
    }
   ],
   "metadata": {}
  },
  {
   "cell_type": "code",
   "execution_count": null,
   "source": [
    "\n"
   ],
   "outputs": [],
   "metadata": {}
  },
  {
   "cell_type": "code",
   "execution_count": 15,
   "source": [
    "# Get model and write to layer\n",
    "\n",
    "def show_history(signature):\n",
    "\n",
    "    print(\"Getting Signature: \",signature)\n",
    "    signature_data = get_model(signature)\n",
    "    if (signature_data):\n",
    "        baseline_model_data = get_model_data(signature_data['model_data'])\n",
    "\n",
    "        if baseline_model_data == None:\n",
    "            print ('no model data for : ', signature_data['model_data'])\n",
    "        else:\n",
    "            print('Layers: ', len(baseline_model_data['data']))\n",
    "            print( signature_data['_id'].generation_time, ' : Model Id ', signature_data['model_data'])\n",
    "            old_data = baseline_model_data['data']\n",
    "\n",
    "            history = []\n",
    "            while signature_data['parent'] != None:\n",
    "\n",
    "                # get model\n",
    "                signature_data = get_model(signature_data['parent'])\n",
    "                print( signature_data['_id'].generation_time, ' : Model Id ', signature_data['model_data'])\n",
    "\n",
    "                new_model_data = get_model_data(signature_data['model_data'])\n",
    "                if new_model_data == None:\n",
    "                    print ('no model data for : ', signature_data['model_data'])\n",
    "                else:\n",
    "                    history_layer = []\n",
    "                    data = new_model_data['data']\n",
    "                    for key, value in data.items():\n",
    "                        if (old_data[key]['weight_std'] == 0):\n",
    "                            history_layer.append(old_data[key]['weight_std'])\n",
    "                        else:\n",
    "                            history_layer.append(\n",
    "                                value['weight_std']  / old_data[key]['weight_std']\n",
    "                            )\n",
    "\n",
    "                    history.append(history_layer)\n",
    "                    old_data = new_model_data['data']\n",
    "\n",
    "\n",
    "    \n",
    "\n",
    "            print(signature_data['username'], signature_data['organisation'])\n",
    "            print(history[0])\n",
    "    else:\n",
    "        print('signature not found')\n",
    "\n",
    "\n",
    "\n",
    "\n",
    "show_history('392c5e4066e80f3f23390731c410843fe010c9baff3d9fc784dc7f4c4840f96c')\n",
    "\n",
    "show_history('c7e952212c1c260c0bba4d0624ef0baad6082470a18aa51798d33ea708874930') # ResNet50"
   ],
   "outputs": [
    {
     "output_type": "stream",
     "name": "stdout",
     "text": [
      "Getting Signature:  392c5e4066e80f3f23390731c410843fe010c9baff3d9fc784dc7f4c4840f96c\n",
      "Layers:  23\n",
      "2021-08-03 02:53:34+00:00  : Model Id  6108afaea4950939dcc07cf4\n",
      "2021-08-03 02:53:31+00:00  : Model Id  6108afaba4950939dcc07cf2\n",
      "2021-08-03 02:53:28+00:00  : Model Id  6108afa8a4950939dcc07cf0\n",
      "2021-08-03 02:53:25+00:00  : Model Id  6108afa5a4950939dcc07cee\n",
      "2021-08-03 02:53:22+00:00  : Model Id  6108afa2a4950939dcc07cec\n",
      "2021-08-03 02:53:03+00:00  : Model Id  6108af8fa4950939dcc07cea\n",
      "2021-08-03 02:53:00+00:00  : Model Id  6108af8ca4950939dcc07ce8\n",
      "brendan.bonner@mail.dcu.ie DCU\n",
      "[0, 0.9998682486613316, 1.0, 0, 1.0, 1.0, 0, 1.0, 1.0, 1.0, 0, 1.0, 1.0, 1.0, 0, 1.0, 1.0, 1.0, 0, 0, 1.0, 1.0, 1.0]\n",
      "Getting Signature:  c7e952212c1c260c0bba4d0624ef0baad6082470a18aa51798d33ea708874930\n",
      "Layers:  177\n",
      "2021-08-03 02:52:55+00:00  : Model Id  6108af87a4950939dcc07ce6\n",
      "2021-08-03 02:52:54+00:00  : Model Id  6108af86a4950939dcc07ce4\n",
      "brendan.bonner@mail.dcu.ie DCU\n",
      "[0, 0, 0.22031386583862042, 0.0, 0, 0, 0, 1.7352226939343653, 0.0, 0, 1.3723350128707519, 0.0, 0, 1.4185519045063026, 2.0046285256863023, 0.0, 0.0, 0, 0, 2.2901231886454045, 0.0, 0, 1.2909807654227283, 0.0, 0, 2.128950828230386, 0.0, 0, 0, 2.2608304508477355, 0.0, 0, 1.3122852001142933, 0.0, 0, 2.1941309278439065, 0.0, 0, 0, 2.3857222586322533, 0.0, 0, 1.3124130816618829, 0.0, 0, 1.9089617086880541, 1.905780904467665, 0.0, 0.0, 0, 0, 2.3783241900901237, 0.0, 0, 1.387248214883314, 0.0, 0, 2.212278519918497, 0.0, 0, 0, 2.8734096769400894, 0.0, 0, 1.5518270349664804, 0.0, 0, 2.653769029558263, 0.0, 0, 0, 1.7167714579157543, 0.0, 0, 1.2776738486555361, 0.0, 0, 2.1127531916309685, 0.0, 0, 0, 2.4487152336075484, 0.0, 0, 1.3506208786337892, 0.0, 0, 1.8580512030713128, 1.8381336514050304, 0.0, 0.0, 0, 0, 2.644374166361656, 0.0, 0, 1.5167905631832896, 0.0, 0, 2.1723421486092653, 0.0, 0, 0, 2.239819912330739, 0.0, 0, 1.4522688890654016, 0.0, 0, 2.1967630601806363, 0.0, 0, 0, 2.297289028725927, 0.0, 0, 1.447711735962449, 0.0, 0, 2.2956520910693086, 0.0, 0, 0, 1.9886964878399709, 0.0, 0, 1.4648043157526636, 0.0, 0, 2.2248972350611136, 0.0, 0, 0, 1.8600406384599097, 0.0, 0, 1.4423317015009045, 0.0, 0, 2.167329513948156, 0.0, 0, 0, 2.004458872425809, 0.0, 0, 1.2255065746489815, 0.0, 0, 1.8877462609741769, 1.7174976915287485, 0.0, 0.0, 0, 0, 1.9344088662171421, 0.0, 0, 1.3196784851955994, 0.0, 0, 1.9604376221974802, 0.0, 0, 0, 1.5920088410582958, 0.0, 0, 1.3993165077517107, 0.0, 0, 1.8971712460865642, 0.0, 0, 0, 0, 0.8358967256117493]\n"
     ]
    }
   ],
   "metadata": {}
  },
  {
   "cell_type": "code",
   "execution_count": 6,
   "source": [
    "def diff_model(model_vgg16, model_resnet50):\n",
    "    for l1, l2 in zip(model_vgg16.layers, model_resnet50.layers):\n",
    "        w1 = l1.get_weights()\n",
    "        w2 = l2.get_weights()\n",
    "        if len(w1) > 0:\n",
    "            wa1 = np.ndarray.flatten(w1[0])\n",
    "            wa2 = np.ndarray.flatten(w2[0])\n",
    "            # Weights available\n",
    "            print(l1.get_config()['name'],\n",
    "                w1[0].shape,\n",
    "                np.std(wa1), np.median(wa1),\n",
    "                w2[0].shape,\n",
    "                np.std(wa2), np.median(wa2),\n",
    "                np.std(wa1) == np.std(wa2)\n",
    "            )\n",
    "            \n",
    "        else:\n",
    "            print(l1.get_config()['name'],len(w1))"
   ],
   "outputs": [],
   "metadata": {}
  },
  {
   "cell_type": "code",
   "execution_count": 16,
   "source": [
    "#Display a comparison of multiple layers\n",
    "def get_weights_print_stats(layer):\n",
    "    W = layer.get_weights()\n",
    "    if len(W) > 0:\n",
    "        print(len(W))\n",
    "        print(W[0].shape)\n",
    "    return W\n",
    "\n",
    "def hist_weights(weights, bins=100, label='default'):\n",
    "    for weight in weights:\n",
    "        \n",
    "        plt.hist(np.ndarray.flatten(weight), bins=bins, label=label)\n",
    "\n",
    "'''\n",
    "for l1, l2 in zip(model_vgg16.layers, model_resnet50.layers):\n",
    "    print(l1.get_config()['name'])\n",
    "    W = get_weights_print_stats(l1)\n",
    "    hist_weights(W, label='Model 1')\n",
    "    W = get_weights_print_stats(l2)\n",
    "    hist_weights(W, label='Model 2')\n",
    "    plt.show()\n",
    "'''\n",
    "\n",
    "show_all = False\n",
    "\n",
    "hist_std1 = []\n",
    "hist_std2 = []\n",
    "hist_skew1 = []\n",
    "hist_skew2 = []\n",
    "\n",
    "for l1, l2 in zip(model_vgg16_imagenet.layers, model_vgg16.layers):\n",
    "\n",
    "    w1 = l1.get_weights()\n",
    "    w2 = l2.get_weights()\n",
    "\n",
    "\n",
    "    if len(w1) > 0:\n",
    "        # Layers available\n",
    "\n",
    "        weight1_value   = np.ndarray.flatten(w1[0])\n",
    "        weight1_skew  = skew(np.ndarray.flatten(w1[0]))\n",
    "        weight1_std     = np.std(weight1_value).item()\n",
    "        # print('std1 {:.4f}, skew1 {:.4f}'.format(weight1_std, weight1_skew))\n",
    "        \n",
    "        weight2_value   = np.ndarray.flatten(w2[0])\n",
    "        weight2_skew  = skew(np.ndarray.flatten(w2[0]))\n",
    "        weight2_std     = np.std(weight2_value).item()\n",
    "        # print('std2 {:.4f}, skew2 {:.4f}'.format(weight2_std, weight2_skew))\n",
    "\n",
    "        hist_std1.append(weight1_std)\n",
    "        hist_std2.append(weight2_std)\n",
    "        hist_skew1.append(weight1_skew)\n",
    "        hist_skew2.append(weight2_skew)\n",
    "        \n",
    "        if show_all:\n",
    "            print(l1.get_config()['name'],len(w1), w1[0].shape)\n",
    "            plt.hist(\n",
    "                [ np.ndarray.flatten(w1[0]),\n",
    "                np.ndarray.flatten(w2[0])],\n",
    "                alpha=0.5, bins=1000, label=['X','Y'])\n",
    "            plt.legend(loc='upper right')\n",
    "\n",
    "            plt.show()\n",
    "\n"
   ],
   "outputs": [],
   "metadata": {}
  },
  {
   "cell_type": "code",
   "execution_count": 17,
   "source": [
    "hist_std = 1\n",
    "hist_skew = 1\n",
    "for i,v in enumerate(hist_std1):\n",
    "    if (v != 0):\n",
    "        hist_std = (hist_std2[i] / v) * hist_std\n",
    "    if (hist_skew1[i] != 0):\n",
    "        hist_skew = (hist_skew2[i] / hist_skew1[i]) * hist_skew\n",
    "\n",
    "print ('std diff : {:.4f} %'.format((1-hist_std) * 100))\n",
    "print ('skw diff : {:.4f} %'.format((1-hist_skew) * 100))\n",
    "\n",
    "layers = len(hist_std1)\n",
    "plt.bar( np.arange(layers) * 2, hist_std1, color = 'red' , alpha=0.5, label='std1')\n",
    "plt.bar( np.arange(layers)* 2 + 1, hist_std2, color = 'blue', alpha=0.5, label='std2' )\n",
    "plt.legend(loc='upper right')\n",
    "\n",
    "plt.show\n",
    "\n"
   ],
   "outputs": [
    {
     "output_type": "stream",
     "name": "stdout",
     "text": [
      "std diff : -129403.4156 %\n",
      "skw diff : 100.0000 %\n"
     ]
    },
    {
     "output_type": "execute_result",
     "data": {
      "text/plain": [
       "<function matplotlib.pyplot.show(close=None, block=None)>"
      ]
     },
     "metadata": {},
     "execution_count": 17
    },
    {
     "output_type": "display_data",
     "data": {
      "text/plain": [
       "<Figure size 432x288 with 1 Axes>"
      ],
      "image/png": "[encoded data removed]"
     },
     "metadata": {
      "needs_background": "light"
     }
    }
   ],
   "metadata": {}
  },
  {
   "cell_type": "code",
   "execution_count": 18,
   "source": [
    "layers = len(hist_skew1)\n",
    "print(layers)\n",
    "plt.bar( np.arange(layers) * 2, hist_skew1, color = 'red' , alpha=0.5, label='skew1')\n",
    "plt.bar( np.arange(layers)* 2 + 1, hist_skew2, color = 'blue', alpha=0.5, label='skew2' )\n",
    "plt.legend(loc='upper right')\n",
    "plt.show"
   ],
   "outputs": [
    {
     "output_type": "stream",
     "name": "stdout",
     "text": [
      "16\n"
     ]
    },
    {
     "output_type": "execute_result",
     "data": {
      "text/plain": [
       "<function matplotlib.pyplot.show(close=None, block=None)>"
      ]
     },
     "metadata": {},
     "execution_count": 18
    },
    {
     "output_type": "display_data",
     "data": {
      "text/plain": [
       "<Figure size 432x288 with 1 Axes>"
      ],
      "image/png": "[encoded data removed]"
     },
     "metadata": {
      "needs_background": "light"
     }
    }
   ],
   "metadata": {}
  },
  {
   "cell_type": "code",
   "execution_count": null,
   "source": [],
   "outputs": [],
   "metadata": {}
  }
 ],
 "metadata": {
  "orig_nbformat": 4,
  "language_info": {
   "name": "python",
   "version": "3.8.10",
   "mimetype": "text/x-python",
   "codemirror_mode": {
    "name": "ipython",
    "version": 3
   },
   "pygments_lexer": "ipython3",
   "nbconvert_exporter": "python",
   "file_extension": ".py"
  },
  "kernelspec": {
   "name": "python3",
   "display_name": "Python 3.8.10 64-bit ('base': conda)"
  },
  "interpreter": {
   "hash": "90948722effb0dbfc6ba9cb222e51e19b083ecb130b6edbb8e1b374c6a2c8c07"
  }
 },
 "nbformat": 4,
 "nbformat_minor": 2
}