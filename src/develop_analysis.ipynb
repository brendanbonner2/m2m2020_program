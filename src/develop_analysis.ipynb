{
 "cells": [
  {
   "cell_type": "markdown",
   "source": [
    "This notebook is the tester for developing a system for recording models in a simplistic method"
   ],
   "metadata": {}
  },
  {
   "cell_type": "code",
   "execution_count": 1,
   "source": [
    "import numpy as np\n",
    "import pandas as pd\n",
    "import tensorflow as tf\n",
    "import matplotlib.pyplot as plt\n",
    "\n",
    "\n",
    "model_vgg16 = tf.keras.applications.VGG16(\n",
    "    include_top=True,\n",
    "    weights=None,\n",
    "    input_tensor=None,\n",
    "    input_shape=None,\n",
    "    pooling=None,\n",
    "    classes=1000,\n",
    "    classifier_activation=\"softmax\",\n",
    ")\n",
    "\n",
    "model_vgg16_imagenet = tf.keras.applications.VGG16(\n",
    "    include_top=True,\n",
    "    weights=\"imagenet\",\n",
    "    input_tensor=None,\n",
    "    input_shape=None,\n",
    "    pooling=None,\n",
    "    classes=1000,\n",
    "    classifier_activation=\"softmax\",\n",
    ")\n",
    "\n",
    "\n",
    "model_vgg16_test = tf.keras.applications.VGG16(\n",
    "    include_top=True,\n",
    "    weights=\"imagenet\",\n",
    "    input_tensor=None,\n",
    "    input_shape=None,\n",
    "    pooling=None,\n",
    "    classes=1000,\n",
    "    classifier_activation=\"softmax\",\n",
    ")\n",
    "\n",
    "model_resnet50 = tf.keras.applications.ResNet50(\n",
    "    include_top=True,\n",
    "    weights=None,\n",
    "    input_tensor=None,\n",
    "    input_shape=None,\n",
    "    pooling=None,\n",
    "    classes=500,\n",
    "    classifier_activation=\"softmax\",\n",
    ")\n",
    "\n",
    "\n",
    "model_resnet50_imagenet = tf.keras.applications.ResNet50(\n",
    "    include_top=True,\n",
    "    weights='imagenet',\n",
    "    input_tensor=None,\n",
    "    input_shape=None,\n",
    "    pooling=None,\n",
    "    classifier_activation=\"softmax\",\n",
    ")"
   ],
   "outputs": [],
   "metadata": {}
  },
  {
   "cell_type": "code",
   "execution_count": 2,
   "source": [
    "# From https://stackoverflow.com/questions/13530762/how-to-know-bytes-size-of-python-object-like-arrays-and-dictionaries-the-simp\n",
    "\n",
    "import gc\n",
    "import sys\n",
    "\n",
    "def get_obj_size(obj):\n",
    "    marked = {id(obj)}\n",
    "    obj_q = [obj]\n",
    "    sz = 0\n",
    "\n",
    "    while obj_q:\n",
    "        sz += sum(map(sys.getsizeof, obj_q))\n",
    "\n",
    "        # Lookup all the object referred to by the object in obj_q.\n",
    "        # See: https://docs.python.org/3.7/library/gc.html#gc.get_referents\n",
    "        all_refr = ((id(o), o) for o in gc.get_referents(*obj_q))\n",
    "\n",
    "        # Filter object that are already marked.\n",
    "        # Using dict notation will prevent repeated objects.\n",
    "        new_refr = {o_id: o for o_id, o in all_refr if o_id not in marked and not isinstance(o, type)}\n",
    "\n",
    "        # The new obj_q will be the ones that were not marked,\n",
    "        # and we will update marked with their ids so we will\n",
    "        # not traverse them again.\n",
    "        obj_q = new_refr.values()\n",
    "        marked.update(new_refr.keys())\n",
    "\n",
    "    return sz\n",
    "\n",
    "import sys\n",
    "   \n",
    "print(get_obj_size(model_vgg16))\n",
    "\n",
    "print(get_obj_size(model_resnet50))\n",
    "print(get_obj_size(model_resnet50_imagenet))\n",
    "\n"
   ],
   "outputs": [
    {
     "output_type": "stream",
     "name": "stdout",
     "text": [
      "60524500\n",
      "60524500\n",
      "60524500\n"
     ]
    }
   ],
   "metadata": {}
  },
  {
   "cell_type": "code",
   "execution_count": 3,
   "source": [
    "import hashlib\n",
    "from scipy.stats import skew"
   ],
   "outputs": [],
   "metadata": {}
  },
  {
   "cell_type": "code",
   "execution_count": 20,
   "source": [
    "\n",
    "\n",
    "def create_layer_data(layer):\n",
    "\n",
    "    # get structure array\n",
    "    layer_structure  = {\n",
    "        \"class\": layer.__class__.__name__,\n",
    "        \"input_shape\": layer.input_shape,\n",
    "        \"output_shape\": layer.output_shape,\n",
    "        \"trainable\": layer.trainable,\n",
    "        \"params\": layer.count_params()\n",
    "#        ,\n",
    "#        \"name\": layer.name\n",
    "    }\n",
    "\n",
    "    # get layer weights and bias\n",
    "    weights = layer.get_weights()\n",
    " \n",
    "\n",
    "    if len(weights) == 0:\n",
    "        calc_weight_std = 0\n",
    "        calc_weight_mean = 0\n",
    "        calc_bias_std = 0\n",
    "        calc_bias_mean = 0\n",
    "        calc_skew = 0\n",
    "\n",
    "    if len(weights) == 1:\n",
    "    #    weight_x = np.ndarray.flatten(weights[0])\n",
    "        calc_weight_std = np.std(weights[0]).astype(float)\n",
    "        calc_weight_mean = np.mean(weights[0]).astype(float)\n",
    "        calc_skew = skew(np.ndarray.flatten(weights[0]))\n",
    "        calc_bias_std = 0\n",
    "        calc_bias_mean = 0\n",
    "\n",
    "    if len(weights) > 1:\n",
    "    #    weight_x = np.ndarray.flatten(weights[0])\n",
    "    #    bias_x = np.ndarray.flatten(weights[1])\n",
    "        calc_weight_std = np.std(weights[0]).astype(float)\n",
    "        calc_weight_mean = np.mean(weights[0]).astype(float)\n",
    "        calc_skew = skew(np.ndarray.flatten(weights[0]))\n",
    "        calc_bias_std = np.std(weights[1]).astype(float)\n",
    "        calc_bias_mean = np.mean(weights[1]).astype(float)\n",
    "        #calc_skew = skew(weight_x)\n",
    "        \n",
    "    layer_values = {\n",
    "        \"weight_std\" : calc_weight_std,\n",
    "        \"weight_mean\" : calc_weight_mean,\n",
    "        \"bias_std\" : calc_bias_std,\n",
    "        \"bias_mean\" : calc_bias_mean,\n",
    "        \"skew\" : calc_skew\n",
    "    }\n",
    "\n",
    "    return layer_structure, layer_values\n",
    "\n",
    "def create_model_data(model):\n",
    "    # initiate hashing function\n",
    "    sha = hashlib.sha256()\n",
    "\n",
    "    layer_data_set = {}\n",
    "    layer_structure_set = {}\n",
    "    \n",
    "    for index, value in enumerate(model.layers):\n",
    "        # Run through the layers\n",
    "        layer_structure, layer_data = create_layer_data(value)\n",
    "        # print(layer_data, layer_values, hash(layer_values))\n",
    "        sha.update(repr(layer_structure).encode('utf-8'))\n",
    "        sha.update(repr(layer_data).encode('utf-8'))\n",
    "\n",
    "        layer_data_set[str(index)] = layer_data\n",
    "        layer_structure_set[str(index)] = layer_structure\n",
    "\n",
    "    \n",
    "    layer_data = {\"structure\":layer_structure_set, \"data\":layer_data_set}\n",
    "#    sha.update(repr(layer_data).encode('utf-8'))\n",
    "\n",
    "    return sha.hexdigest(), layer_data\n",
    "\n",
    "\n",
    "\n",
    "\n",
    "#     sha.update(repr(layer_data).encode('utf-8'))\n"
   ],
   "outputs": [],
   "metadata": {}
  },
  {
   "cell_type": "code",
   "execution_count": 21,
   "source": [
    "\n",
    "signature1, layer_data1 = create_model_data(model_vgg16_imagenet)\n",
    "print(signature1)\n",
    "signature2, layer_data2 = create_model_data(model_vgg16_test)\n",
    "print(signature2)\n",
    "\n",
    "'''\n",
    "0b4d6616162762f913eb7733446800441a7cb062be14be4ec33ea88e626672c8\n",
    "7d2e1000f78397c013e188154d747723871bd2749474d43688cb700cf542a49f\n",
    "'''"
   ],
   "outputs": [
    {
     "output_type": "stream",
     "name": "stdout",
     "text": [
      "ede69fca86a03c780a98dcec6fc1cfe406a3448dcba95663baa18bf853bc2f0f\n",
      "d5bdacfc8c24d32299dd824118356c0056116130038533efa185a8758a991618\n"
     ]
    },
    {
     "output_type": "execute_result",
     "data": {
      "text/plain": [
       "'\\n0b4d6616162762f913eb7733446800441a7cb062be14be4ec33ea88e626672c8\\n7d2e1000f78397c013e188154d747723871bd2749474d43688cb700cf542a49f\\n'"
      ]
     },
     "metadata": {},
     "execution_count": 21
    }
   ],
   "metadata": {}
  },
  {
   "cell_type": "code",
   "execution_count": null,
   "source": [],
   "outputs": [],
   "metadata": {}
  },
  {
   "cell_type": "code",
   "execution_count": 6,
   "source": [
    "# setup global write variables\n",
    "bb_username = 'brendan.bonner@mail.dcu.ie'\n",
    "bb_organisation = 'DCU'\n",
    "bb_model_source = 'created in python'"
   ],
   "outputs": [],
   "metadata": {}
  },
  {
   "cell_type": "code",
   "execution_count": 7,
   "source": [
    "import pymongo\n",
    "import datetime\n",
    "from pymongo import MongoClient\n",
    "\n",
    "from bson.objectid import ObjectId\n",
    "\n",
    "def init_model_db():\n",
    "    global db_col_data\n",
    "    global db_col_signature\n",
    "\n",
    "\n",
    "    dbclient = pymongo.MongoClient(\"mongodb://localhost:27017/\")\n",
    "    dbclient_database = dbclient[\"model_database\"]\n",
    "    db_col_data = dbclient_database[\"modeldata\"]\n",
    "    db_col_signature = dbclient_database[\"signature\"]\n",
    "\n",
    "\n",
    "    # Make sure signatures are unique on both\n",
    "    db_col_signature.create_index(\n",
    "        [(\"signature\", pymongo.DESCENDING)],\n",
    "        unique=True\n",
    "    )\n",
    "\n",
    "\n",
    "    remote_user = False\n",
    "    if(remote_user):\n",
    "\n",
    "\n",
    "        remote_client = MongoClient('mongodb+srv://cluster0.7ilyj.mongodb.net/myFirstDatabase')\n",
    "        dbclient_database_r = remote_client[\"model_database\"]\n",
    "        db_col_data_r = dbclient_database_r[\"modeldata\"]\n",
    "        db_col_signature_r = dbclient_database_r[\"signature\"]\n",
    "        \n",
    "    \n",
    "        # Only if there is a remote account, allow writing, otherwise read only\n",
    "        db_col_signature_r.create_index(\n",
    "            [(\"signature\", pymongo.DESCENDING)],\n",
    "            unique=True\n",
    "        )\n",
    "\n",
    "\n",
    "def write_model_db(\n",
    "    signature,\n",
    "    model_data,\n",
    "    username = bb_username,\n",
    "    organisation = bb_organisation,\n",
    "    model_source=bb_model_source,\n",
    "    parent = '',\n",
    "    local=True):\n",
    "\n",
    "    if (local):\n",
    "        db_data = db_col_data\n",
    "        db_sig = db_col_signature\n",
    "    else:\n",
    "        db_data = db_col_data_r\n",
    "        db_sig = db_col_signature_r\n",
    "\n",
    "    # Insert Signature to Database (signatures)\n",
    "    if get_model(signature) == None:\n",
    "        x = db_col_data.insert_one(model_data)\n",
    "        model_id = x.inserted_id\n",
    "        # print(model_id, 'for sig: ', signature)\n",
    "\n",
    "        # Inset Model Data to Database (modeldata)\n",
    "        signature_data =  {\n",
    "            'signature': signature,\n",
    "            'parent': parent,\n",
    "            'username': username,\n",
    "            'organisation':organisation,\n",
    "            'model_source': model_source,\n",
    "            'model_data': model_id\n",
    "        }\n",
    "\n",
    "        x = db_col_signature.insert_one(signature_data)\n",
    "        signature_model_id = x.inserted_id\n",
    "        return signature_model_id\n",
    "    else:\n",
    "        print('signature: ', signature, ' already in database')\n",
    "        return None\n",
    "\n",
    "\n",
    "def push_model(model, local=True, parent=None, username=bb_username, organisation = bb_organisation, model_source=bb_model_source):\n",
    "    signature, layer_data = create_model_data(model)\n",
    "\n",
    "    write_model_db(\n",
    "        signature=signature,\n",
    "        model_data=layer_data,\n",
    "        parent=parent,\n",
    "        username=username,\n",
    "        organisation=organisation,\n",
    "        local=local,\n",
    "        model_source=model_source\n",
    "    )\n",
    "    return signature\n",
    "\n",
    "\n",
    "\n",
    "def get_model(signature):\n",
    "    signature_data = db_col_signature.find_one({'signature': signature})\n",
    "    if(signature_data):\n",
    "        return signature_data\n",
    "    else:\n",
    "        return None\n",
    "\n",
    "\n",
    "# The web framework gets post_id from the URL and passes it as a string\n",
    "def get_model_data(model_id):\n",
    "    document = db_col_data.find_one({'_id': ObjectId(model_id)})\n",
    "    return document\n"
   ],
   "outputs": [],
   "metadata": {}
  },
  {
   "cell_type": "code",
   "execution_count": 8,
   "source": [
    "#initialise model database\n",
    "init_model_db()"
   ],
   "outputs": [],
   "metadata": {}
  },
  {
   "cell_type": "code",
   "execution_count": null,
   "source": [],
   "outputs": [],
   "metadata": {}
  },
  {
   "cell_type": "code",
   "execution_count": 23,
   "source": [
    "# get a signature and write it to the model\n",
    "\n",
    "\n",
    "parent = push_model(model_resnet50)\n",
    "last = push_model(model_resnet50_imagenet,parent=parent)\n",
    "print(parent, last)\n",
    "parent = push_model(model_vgg16_imagenet)\n",
    "last = push_model(model_vgg16_test, parent=parent)\n",
    "print(parent, last)\n"
   ],
   "outputs": [
    {
     "output_type": "stream",
     "name": "stdout",
     "text": [
      "signature:  45d7ab99b40c162bfea7e0840960704a27474c13a12916d5223ba0756e808e1c  already in database\n",
      "signature:  11038ddd9667dc41fdda32191266367a344ac28c0dde3bb3f5a86d8c7b67f0b0  already in database\n",
      "45d7ab99b40c162bfea7e0840960704a27474c13a12916d5223ba0756e808e1c 11038ddd9667dc41fdda32191266367a344ac28c0dde3bb3f5a86d8c7b67f0b0\n",
      "signature:  ede69fca86a03c780a98dcec6fc1cfe406a3448dcba95663baa18bf853bc2f0f  already in database\n",
      "signature:  d5bdacfc8c24d32299dd824118356c0056116130038533efa185a8758a991618  already in database\n",
      "ede69fca86a03c780a98dcec6fc1cfe406a3448dcba95663baa18bf853bc2f0f d5bdacfc8c24d32299dd824118356c0056116130038533efa185a8758a991618\n"
     ]
    }
   ],
   "metadata": {}
  },
  {
   "cell_type": "code",
   "execution_count": 25,
   "source": [
    "# Push all default models from Keras\n",
    "keras_model_list = {\n",
    "    'VGG16': tf.keras.applications.VGG16,\n",
    "    'DenseNet121': tf.keras.applications.DenseNet121,\n",
    "    'Xception': tf.keras.applications.Xception\n",
    "}\n",
    "\n",
    "for name, model_type in enumerate(keras_model_list):\n",
    "    print(model_type)\n",
    "    model = keras_model_list[model_type]()\n",
    "    print(push_model(model,model_source = model_type, organisation='Keras'))\n",
    "\n",
    "'''\n",
    "VGG16\n",
    "a0931e2bc85028b73ad38f37eb89fe998d679171d37661e2c966e3b2337bc0a8\n",
    "DenseNet121\n",
    "b317cf35f26386b1d532a28191c560cc71deb3d1bba41553ef6164e0ab00a080\n",
    "Xception\n",
    "da406d87b9cc2c3bf1159311a8f8f35bd57811f8c28e9c02440895d8c48707a5\n",
    "'''"
   ],
   "outputs": [
    {
     "output_type": "stream",
     "name": "stdout",
     "text": [
      "VGG16\n",
      "signature:  ede69fca86a03c780a98dcec6fc1cfe406a3448dcba95663baa18bf853bc2f0f  already in database\n",
      "ede69fca86a03c780a98dcec6fc1cfe406a3448dcba95663baa18bf853bc2f0f\n",
      "DenseNet121\n",
      "signature:  42f9a65180edde3acf9eb4a0ff56659d79e2f7093e62d5a2de315555307b5e96  already in database\n",
      "42f9a65180edde3acf9eb4a0ff56659d79e2f7093e62d5a2de315555307b5e96\n",
      "Xception\n",
      "signature:  bbd930cc56dfa39dc55e1318d9b5da2571d9eff0eeb96de7648faacb69c253cd  already in database\n",
      "bbd930cc56dfa39dc55e1318d9b5da2571d9eff0eeb96de7648faacb69c253cd\n"
     ]
    },
    {
     "output_type": "execute_result",
     "data": {
      "text/plain": [
       "'\\nVGG16\\na0931e2bc85028b73ad38f37eb89fe998d679171d37661e2c966e3b2337bc0a8\\nDenseNet121\\nb317cf35f26386b1d532a28191c560cc71deb3d1bba41553ef6164e0ab00a080\\nXception\\nda406d87b9cc2c3bf1159311a8f8f35bd57811f8c28e9c02440895d8c48707a5\\n'"
      ]
     },
     "metadata": {},
     "execution_count": 25
    }
   ],
   "metadata": {}
  },
  {
   "cell_type": "code",
   "execution_count": 28,
   "source": [
    "xception1 = get_model_data(get_model('bbd930cc56dfa39dc55e1318d9b5da2571d9eff0eeb96de7648faacb69c253cd')['model_data'])\n",
    "xception2 = get_model_data(get_model('bbd930cc56dfa39dc55e1318d9b5da2571d9eff0eeb96de7648faacb69c253cd')['model_data'])\n",
    "\n",
    "x = xception1['structure']\n",
    "y = xception2['structure']\n",
    "\n",
    "shared_items = {k: x[k] for k in x if k in y and x[k] == y[k]}\n",
    "print (len(shared_items))\n",
    "unshared_items = {k: x[k] for k in x if k in y and x[k] != y[k]}\n",
    "print (len(unshared_items))\n"
   ],
   "outputs": [
    {
     "output_type": "stream",
     "name": "stdout",
     "text": [
      "134\n",
      "0\n"
     ]
    }
   ],
   "metadata": {}
  },
  {
   "cell_type": "code",
   "execution_count": 30,
   "source": [
    "# Make a small adjustment to test the SHA change\n",
    "test_repeat = push_model(model_vgg16_test, parent=last, username='brendanboner@gmail.com')\n",
    "\n",
    "for x in range(5):\n",
    "    weights = model_vgg16_test.layers[1].get_weights()\n",
    "    weights[0][0][0][0] = weights[0][0][0][0] * 1.004\n",
    "    model_vgg16_test.layers[1].set_weights(weights)\n",
    "    last = push_model(model_vgg16_test, parent=last)\n",
    "    print(last)\n"
   ],
   "outputs": [
    {
     "output_type": "stream",
     "name": "stdout",
     "text": [
      "signature:  1a2697b83588684f3d8b72172ba20e319f74f46941424e65ba284183ca65d912  already in database\n",
      "419819c6898c183177fec527b2aa838bf1cb581eff20425a77244713b26fc90e\n",
      "4b79229140ccd6795b2205e776dafc234bf5be0a124bf8cc8263bdd46f462a42\n",
      "64343e4c30484dc28140922881ede74e3e8147feb2694d38c60e6d6efad2039f\n",
      "0c9df8de6f88b3b526851b5a4915136d841171decd9ab8c2469ebc6a7d284555\n",
      "1b377489074e7144ce069d395403b0f0f93a2d69f7f2605d2361f1dd14162c99\n"
     ]
    }
   ],
   "metadata": {}
  },
  {
   "cell_type": "code",
   "execution_count": null,
   "source": [
    "\n"
   ],
   "outputs": [],
   "metadata": {}
  },
  {
   "cell_type": "code",
   "execution_count": 31,
   "source": [
    "# Get model and write to layer\n",
    "\n",
    "def show_history(signature):\n",
    "\n",
    "    print(\"Getting Signature: \",signature)\n",
    "    signature_data = get_model(signature)\n",
    "    if (signature_data):\n",
    "        baseline_model_data = get_model_data(signature_data['model_data'])\n",
    "\n",
    "        if baseline_model_data == None:\n",
    "            print ('no model data for : ', signature_data['model_data'])\n",
    "        else:\n",
    "            print('Layers: ', len(baseline_model_data['data']))\n",
    "            print( signature_data['_id'].generation_time, ' : Model Id ', signature_data['model_data'])\n",
    "            old_data = baseline_model_data['data']\n",
    "\n",
    "            history = []\n",
    "            while signature_data['parent'] != None:\n",
    "\n",
    "                # get model\n",
    "                signature_data = get_model(signature_data['parent'])\n",
    "                print( signature_data['_id'].generation_time, ' : Model Id ', signature_data['model_data'])\n",
    "\n",
    "                new_model_data = get_model_data(signature_data['model_data'])\n",
    "                if new_model_data == None:\n",
    "                    print ('no model data for : ', signature_data['model_data'])\n",
    "                else:\n",
    "                    history_layer = []\n",
    "                    data = new_model_data['data']\n",
    "                    for key, value in data.items():\n",
    "                        if (old_data[key]['weight_std'] == 0):\n",
    "                            history_layer.append(old_data[key]['weight_std'])\n",
    "                        else:\n",
    "                            history_layer.append(\n",
    "                                value['weight_std']  / old_data[key]['weight_std']\n",
    "                            )\n",
    "\n",
    "                    history.append(history_layer)\n",
    "                    old_data = new_model_data['data']\n",
    "\n",
    "\n",
    "    \n",
    "\n",
    "            print(signature_data['username'], signature_data['organisation'])\n",
    "            print(history)\n",
    "    else:\n",
    "        print('signature not found')\n",
    "\n",
    "\n",
    "\n",
    "\n",
    "show_history('1b377489074e7144ce069d395403b0f0f93a2d69f7f2605d2361f1dd14162c99')\n",
    "\n",
    "# show_history('c7e952212c1c260c0bba4d0624ef0baad6082470a18aa51798d33ea708874930') # ResNet50"
   ],
   "outputs": [
    {
     "output_type": "stream",
     "name": "stdout",
     "text": [
      "Getting Signature:  1b377489074e7144ce069d395403b0f0f93a2d69f7f2605d2361f1dd14162c99\n",
      "Layers:  23\n",
      "2021-08-03 03:59:49+00:00  : Model Id  6108bf3536bdde888dcbec2d\n",
      "2021-08-03 03:59:46+00:00  : Model Id  6108bf3236bdde888dcbec2b\n",
      "2021-08-03 03:59:43+00:00  : Model Id  6108bf2f36bdde888dcbec29\n",
      "2021-08-03 03:59:40+00:00  : Model Id  6108bf2c36bdde888dcbec27\n",
      "2021-08-03 03:59:37+00:00  : Model Id  6108bf2936bdde888dcbec25\n",
      "2021-08-03 03:59:29+00:00  : Model Id  6108bf2136bdde888dcbec23\n",
      "2021-08-03 03:59:26+00:00  : Model Id  6108bf1e36bdde888dcbec21\n",
      "2021-08-03 03:59:24+00:00  : Model Id  6108bf1c36bdde888dcbec1f\n",
      "2021-08-03 03:59:21+00:00  : Model Id  6108bf1936bdde888dcbec1d\n",
      "2021-08-03 03:59:18+00:00  : Model Id  6108bf1636bdde888dcbec1b\n",
      "2021-08-03 03:54:24+00:00  : Model Id  6108bdf036bdde888dcbec15\n",
      "2021-08-03 03:54:21+00:00  : Model Id  6108bded36bdde888dcbec13\n",
      "brendan.bonner@mail.dcu.ie DCU\n",
      "[[0, 0.9998682486613316, 1.0, 0, 1.0, 1.0, 0, 1.0, 1.0, 1.0, 0, 1.0, 1.0, 1.0, 0, 1.0, 1.0, 1.0, 0, 0, 1.0, 1.0, 1.0], [0, 0.999869166851198, 1.0, 0, 1.0, 1.0, 0, 1.0, 1.0, 1.0, 0, 1.0, 1.0, 1.0, 0, 1.0, 1.0, 1.0, 0, 0, 1.0, 1.0, 1.0], [0, 0.9998702293543216, 1.0, 0, 1.0, 1.0, 0, 1.0, 1.0, 1.0, 0, 1.0, 1.0, 1.0, 0, 1.0, 1.0, 1.0, 0, 0, 1.0, 1.0, 1.0], [0, 0.9998711483061401, 1.0, 0, 1.0, 1.0, 0, 1.0, 1.0, 1.0, 0, 1.0, 1.0, 1.0, 0, 1.0, 1.0, 1.0, 0, 0, 1.0, 1.0, 1.0], [0, 0.9998722116031864, 1.0, 0, 1.0, 1.0, 0, 1.0, 1.0, 1.0, 0, 1.0, 1.0, 1.0, 0, 1.0, 1.0, 1.0, 0, 0, 1.0, 1.0, 1.0], [0, 0.9998731313058583, 1.0, 0, 1.0, 1.0, 0, 1.0, 1.0, 1.0, 0, 1.0, 1.0, 1.0, 0, 1.0, 1.0, 1.0, 0, 0, 1.0, 1.0, 1.0], [0, 0.9998741233733525, 1.0, 0, 1.0, 1.0, 0, 1.0, 1.0, 1.0, 0, 1.0, 1.0, 1.0, 0, 1.0, 1.0, 1.0, 0, 0, 1.0, 1.0, 1.0], [0, 0.9998750437976891, 1.0, 0, 1.0, 1.0, 0, 1.0, 1.0, 1.0, 0, 1.0, 1.0, 1.0, 0, 1.0, 1.0, 1.0, 0, 0, 1.0, 1.0, 1.0], [0, 0.9998761086296822, 1.0, 0, 1.0, 1.0, 0, 1.0, 1.0, 1.0, 0, 1.0, 1.0, 1.0, 0, 1.0, 1.0, 1.0, 0, 0, 1.0, 1.0, 1.0], [0, 0.9998770297829975, 1.0, 0, 1.0, 1.0, 0, 1.0, 1.0, 1.0, 0, 1.0, 1.0, 1.0, 0, 1.0, 1.0, 1.0, 0, 0, 1.0, 1.0, 1.0], [0, 0.9993992666845969, 1.0, 0, 1.0, 1.0, 0, 1.0, 1.0, 1.0, 0, 1.0, 1.0, 1.0, 0, 1.0, 1.0, 1.0, 0, 0, 1.0, 1.0, 1.0]]\n"
     ]
    }
   ],
   "metadata": {}
  },
  {
   "cell_type": "code",
   "execution_count": null,
   "source": [
    "def diff_model(model_vgg16, model_resnet50):\n",
    "    for l1, l2 in zip(model_vgg16.layers, model_resnet50.layers):\n",
    "        w1 = l1.get_weights()\n",
    "        w2 = l2.get_weights()\n",
    "        if len(w1) > 0:\n",
    "            wa1 = np.ndarray.flatten(w1[0])\n",
    "            wa2 = np.ndarray.flatten(w2[0])\n",
    "            # Weights available\n",
    "            print(l1.get_config()['name'],\n",
    "                w1[0].shape,\n",
    "                np.std(wa1), np.median(wa1),\n",
    "                w2[0].shape,\n",
    "                np.std(wa2), np.median(wa2),\n",
    "                np.std(wa1) == np.std(wa2)\n",
    "            )\n",
    "            \n",
    "        else:\n",
    "            print(l1.get_config()['name'],len(w1))"
   ],
   "outputs": [],
   "metadata": {}
  },
  {
   "cell_type": "code",
   "execution_count": 16,
   "source": [
    "#Display a comparison of multiple layers\n",
    "def get_weights_print_stats(layer):\n",
    "    W = layer.get_weights()\n",
    "    if len(W) > 0:\n",
    "        print(len(W))\n",
    "        print(W[0].shape)\n",
    "    return W\n",
    "\n",
    "def hist_weights(weights, bins=100, label='default'):\n",
    "    for weight in weights:\n",
    "        \n",
    "        plt.hist(np.ndarray.flatten(weight), bins=bins, label=label)\n",
    "\n",
    "'''\n",
    "for l1, l2 in zip(model_vgg16.layers, model_resnet50.layers):\n",
    "    print(l1.get_config()['name'])\n",
    "    W = get_weights_print_stats(l1)\n",
    "    hist_weights(W, label='Model 1')\n",
    "    W = get_weights_print_stats(l2)\n",
    "    hist_weights(W, label='Model 2')\n",
    "    plt.show()\n",
    "'''\n",
    "\n",
    "show_all = False\n",
    "\n",
    "hist_std1 = []\n",
    "hist_std2 = []\n",
    "hist_skew1 = []\n",
    "hist_skew2 = []\n",
    "\n",
    "for l1, l2 in zip(model_vgg16_imagenet.layers, model_vgg16.layers):\n",
    "\n",
    "    w1 = l1.get_weights()\n",
    "    w2 = l2.get_weights()\n",
    "\n",
    "\n",
    "    if len(w1) > 0:\n",
    "        # Layers available\n",
    "\n",
    "        weight1_value   = np.ndarray.flatten(w1[0])\n",
    "        weight1_skew  = skew(np.ndarray.flatten(w1[0]))\n",
    "        weight1_std     = np.std(weight1_value).item()\n",
    "        # print('std1 {:.4f}, skew1 {:.4f}'.format(weight1_std, weight1_skew))\n",
    "        \n",
    "        weight2_value   = np.ndarray.flatten(w2[0])\n",
    "        weight2_skew  = skew(np.ndarray.flatten(w2[0]))\n",
    "        weight2_std     = np.std(weight2_value).item()\n",
    "        # print('std2 {:.4f}, skew2 {:.4f}'.format(weight2_std, weight2_skew))\n",
    "\n",
    "        hist_std1.append(weight1_std)\n",
    "        hist_std2.append(weight2_std)\n",
    "        hist_skew1.append(weight1_skew)\n",
    "        hist_skew2.append(weight2_skew)\n",
    "        \n",
    "        if show_all:\n",
    "            print(l1.get_config()['name'],len(w1), w1[0].shape)\n",
    "            plt.hist(\n",
    "                [ np.ndarray.flatten(w1[0]),\n",
    "                np.ndarray.flatten(w2[0])],\n",
    "                alpha=0.5, bins=1000, label=['X','Y'])\n",
    "            plt.legend(loc='upper right')\n",
    "\n",
    "            plt.show()\n",
    "\n"
   ],
   "outputs": [],
   "metadata": {}
  },
  {
   "cell_type": "code",
   "execution_count": null,
   "source": [
    "hist_std = 1\n",
    "hist_skew = 1\n",
    "for i,v in enumerate(hist_std1):\n",
    "    if (v != 0):\n",
    "        hist_std = (hist_std2[i] / v) * hist_std\n",
    "    if (hist_skew1[i] != 0):\n",
    "        hist_skew = (hist_skew2[i] / hist_skew1[i]) * hist_skew\n",
    "\n",
    "print ('std diff : {:.4f} %'.format((1-hist_std) * 100))\n",
    "print ('skw diff : {:.4f} %'.format((1-hist_skew) * 100))\n",
    "\n",
    "layers = len(hist_std1)\n",
    "plt.bar( np.arange(layers) * 2, hist_std1, color = 'red' , alpha=0.5, label='std1')\n",
    "plt.bar( np.arange(layers)* 2 + 1, hist_std2, color = 'blue', alpha=0.5, label='std2' )\n",
    "plt.legend(loc='upper right')\n",
    "\n",
    "plt.show\n",
    "\n"
   ],
   "outputs": [
    {
     "output_type": "stream",
     "name": "stdout",
     "text": [
      "std diff : -126595.3922 %\n",
      "skw diff : 100.0000 %\n"
     ]
    },
    {
     "output_type": "execute_result",
     "data": {
      "text/plain": [
       "<function matplotlib.pyplot.show(close=None, block=None)>"
      ]
     },
     "metadata": {},
     "execution_count": 15
    },
    {
     "output_type": "display_data",
     "data": {
      "text/plain": [
       "<Figure size 432x288 with 1 Axes>"
      ],
      "image/png": "[encoded data removed]"
     },
     "metadata": {
      "needs_background": "light"
     }
    }
   ],
   "metadata": {}
  },
  {
   "cell_type": "code",
   "execution_count": null,
   "source": [
    "layers = len(hist_skew1)\n",
    "print(layers)\n",
    "plt.bar( np.arange(layers) * 2, hist_skew1, color = 'red' , alpha=0.5, label='skew1')\n",
    "plt.bar( np.arange(layers)* 2 + 1, hist_skew2, color = 'blue', alpha=0.5, label='skew2' )\n",
    "plt.legend(loc='upper right')\n",
    "plt.show"
   ],
   "outputs": [
    {
     "output_type": "stream",
     "name": "stdout",
     "text": [
      "16\n"
     ]
    },
    {
     "output_type": "execute_result",
     "data": {
      "text/plain": [
       "<function matplotlib.pyplot.show(close=None, block=None)>"
      ]
     },
     "metadata": {},
     "execution_count": 16
    },
    {
     "output_type": "display_data",
     "data": {
      "text/plain": [
       "<Figure size 432x288 with 1 Axes>"
      ],
      "image/png": "[encoded data removed]"
     },
     "metadata": {
      "needs_background": "light"
     }
    }
   ],
   "metadata": {}
  },
  {
   "cell_type": "code",
   "execution_count": null,
   "source": [],
   "outputs": [],
   "metadata": {}
  }
 ],
 "metadata": {
  "orig_nbformat": 4,
  "language_info": {
   "name": "python",
   "version": "3.8.10",
   "mimetype": "text/x-python",
   "codemirror_mode": {
    "name": "ipython",
    "version": 3
   },
   "pygments_lexer": "ipython3",
   "nbconvert_exporter": "python",
   "file_extension": ".py"
  },
  "kernelspec": {
   "name": "python3",
   "display_name": "Python 3.8.10 64-bit ('base': conda)"
  },
  "interpreter": {
   "hash": "90948722effb0dbfc6ba9cb222e51e19b083ecb130b6edbb8e1b374c6a2c8c07"
  }
 },
 "nbformat": 4,
 "nbformat_minor": 2
}