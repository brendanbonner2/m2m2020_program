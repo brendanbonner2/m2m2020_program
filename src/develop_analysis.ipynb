{
 "cells": [
  {
   "cell_type": "markdown",
   "source": [
    "This notebook is the tester for developing a system for recording models in a simplistic method"
   ],
   "metadata": {}
  },
  {
   "cell_type": "code",
   "execution_count": 377,
   "source": [
    "import numpy as np\n",
    "import pandas as pd\n",
    "import tensorflow as tf\n",
    "import matplotlib.pyplot as plt\n",
    "\n",
    "\n",
    "model_vgg16 = tf.keras.applications.VGG16(\n",
    "    include_top=True,\n",
    "    weights=None,\n",
    "    input_tensor=None,\n",
    "    input_shape=None,\n",
    "    pooling=None,\n",
    "    classes=1000,\n",
    "    classifier_activation=\"softmax\",\n",
    ")\n",
    "\n",
    "model_vgg16_imagenet = tf.keras.applications.VGG16(\n",
    "    include_top=True,\n",
    "    weights=\"imagenet\",\n",
    "    input_tensor=None,\n",
    "    input_shape=None,\n",
    "    pooling=None,\n",
    "    classes=1000,\n",
    "    classifier_activation=\"softmax\",\n",
    ")\n",
    "\n",
    "\n",
    "model_vgg16_test = tf.keras.applications.VGG16(\n",
    "    include_top=True,\n",
    "    weights=\"imagenet\",\n",
    "    input_tensor=None,\n",
    "    input_shape=None,\n",
    "    pooling=None,\n",
    "    classes=1000,\n",
    "    classifier_activation=\"softmax\",\n",
    ")\n",
    "\n",
    "model_resnet50 = tf.keras.applications.ResNet50(\n",
    "    include_top=True,\n",
    "    weights=None,\n",
    "    input_tensor=None,\n",
    "    input_shape=None,\n",
    "    pooling=None,\n",
    "    classes=500,\n",
    "    classifier_activation=\"softmax\",\n",
    ")\n",
    "\n",
    "\n",
    "model_resnet50_imagenet = tf.keras.applications.ResNet50(\n",
    "    include_top=True,\n",
    "    weights='imagenet',\n",
    "    input_tensor=None,\n",
    "    input_shape=None,\n",
    "    pooling=None,\n",
    "    classifier_activation=\"softmax\",\n",
    ")"
   ],
   "outputs": [],
   "metadata": {}
  },
  {
   "cell_type": "code",
   "execution_count": 227,
   "source": [
    "# From https://stackoverflow.com/questions/13530762/how-to-know-bytes-size-of-python-object-like-arrays-and-dictionaries-the-simp\n",
    "\n",
    "import gc\n",
    "import sys\n",
    "\n",
    "def get_obj_size(obj):\n",
    "    marked = {id(obj)}\n",
    "    obj_q = [obj]\n",
    "    sz = 0\n",
    "\n",
    "    while obj_q:\n",
    "        sz += sum(map(sys.getsizeof, obj_q))\n",
    "\n",
    "        # Lookup all the object referred to by the object in obj_q.\n",
    "        # See: https://docs.python.org/3.7/library/gc.html#gc.get_referents\n",
    "        all_refr = ((id(o), o) for o in gc.get_referents(*obj_q))\n",
    "\n",
    "        # Filter object that are already marked.\n",
    "        # Using dict notation will prevent repeated objects.\n",
    "        new_refr = {o_id: o for o_id, o in all_refr if o_id not in marked and not isinstance(o, type)}\n",
    "\n",
    "        # The new obj_q will be the ones that were not marked,\n",
    "        # and we will update marked with their ids so we will\n",
    "        # not traverse them again.\n",
    "        obj_q = new_refr.values()\n",
    "        marked.update(new_refr.keys())\n",
    "\n",
    "    return sz\n",
    "\n",
    "import sys\n",
    "   \n",
    "print(get_obj_size(model_vgg16))\n",
    "\n",
    "print(get_obj_size(model_resnet50))\n",
    "print(get_obj_size(model_resnet50_imagenet))\n",
    "\n"
   ],
   "outputs": [
    {
     "output_type": "stream",
     "name": "stdout",
     "text": [
      "157474351\n",
      "157474327\n",
      "157481324\n"
     ]
    }
   ],
   "metadata": {}
  },
  {
   "cell_type": "code",
   "execution_count": 228,
   "source": [
    "for l1, l2 in zip(model_vgg16.layers, model_resnet50.layers):\n",
    "    conf1 = l1.get_config()\n",
    "    conf2 = l2.get_config()\n",
    "\n",
    "    if ('batch_input_shape' in conf1) or ('units' in conf1):\n",
    "        print(conf1 == conf2)\n",
    "        print(conf1['name'])\n"
   ],
   "outputs": [
    {
     "output_type": "stream",
     "name": "stdout",
     "text": [
      "False\n",
      "input_24\n",
      "False\n",
      "fc1\n",
      "False\n",
      "fc2\n",
      "False\n",
      "predictions\n"
     ]
    }
   ],
   "metadata": {}
  },
  {
   "cell_type": "code",
   "execution_count": 229,
   "source": [
    "layer = model_vgg16.layers[1]\n",
    "\n",
    "layer_data  = (\n",
    "    layer.__class__.__name__,\n",
    "    layer.input_shape,\n",
    "    layer.output_shape,\n",
    "    layer.trainable,\n",
    "    layer.count_params()\n",
    ")\n",
    "print(layer_data)\n"
   ],
   "outputs": [
    {
     "output_type": "stream",
     "name": "stdout",
     "text": [
      "('Conv2D', (None, 224, 224, 3), (None, 224, 224, 64), True, 1792)\n"
     ]
    }
   ],
   "metadata": {}
  },
  {
   "cell_type": "code",
   "execution_count": 230,
   "source": [
    "import hashlib\n",
    "from scipy.stats import skew"
   ],
   "outputs": [],
   "metadata": {}
  },
  {
   "cell_type": "code",
   "execution_count": 231,
   "source": [
    "\n",
    "\n",
    "def create_layer_data(layer):\n",
    "\n",
    "    # get structure array\n",
    "    layer_structure  = {\n",
    "        \"class\": layer.__class__.__name__,\n",
    "        \"input_shape\": layer.input_shape,\n",
    "        \"output_shape\": layer.output_shape,\n",
    "        \"trainable\": layer.trainable,\n",
    "        \"params\": layer.count_params(),\n",
    "        \"name\": layer.name\n",
    "    }\n",
    "\n",
    "    # get layer weights and bias\n",
    "    weights = layer.get_weights()\n",
    "    if len(weights) == 1:\n",
    "        weight_x = np.ndarray.flatten(weights[0])\n",
    "        bias_x = np.array([])\n",
    "        skew_x = skew(np.ndarray.flatten(weights[0]))\n",
    "\n",
    "    if len(weights) > 1:\n",
    "        weight_x = np.ndarray.flatten(weights[0])\n",
    "        bias_x = np.ndarray.flatten(weights[1])\n",
    "        skew_x = skew(np.ndarray.flatten(weights[0]))\n",
    "\n",
    "    else:\n",
    "        weight_x = np.array([0])\n",
    "        bias_x = np.array([0])\n",
    "        skew_x = 0\n",
    "\n",
    "    layer_values = {\n",
    "        \"weight_std\" : np.std(weight_x).item(),\n",
    "        \"weight_mean\" : np.mean(weight_x).item(),\n",
    "        \"bias_std\" : np.std(bias_x).item(),\n",
    "        \"bias_mean\" : np.mean(bias_x).item(),\n",
    "        \"skew\" : skew_x\n",
    "    }\n",
    "\n",
    "    return layer_structure, layer_values\n",
    "\n",
    "def create_model_data(model):\n",
    "    # initiate hashing function\n",
    "    sha = hashlib.sha256()\n",
    "\n",
    "    layer_data_set = {}\n",
    "    layer_structure_set = {}\n",
    "    \n",
    "    for index, value in enumerate(model.layers):\n",
    "        # Run through the layers\n",
    "        layer_structure, layer_data = create_layer_data(value)\n",
    "        # print(layer_data, layer_values, hash(layer_values))\n",
    "        sha.update(repr(layer_structure).encode('utf-8'))\n",
    "        sha.update(repr(layer_data).encode('utf-8'))\n",
    "\n",
    "        layer_data_set[str(index)] = layer_data\n",
    "        layer_structure_set[str(index)] = layer_structure\n",
    "\n",
    "    \n",
    "    layer_data = {\"structure\":layer_structure_set, \"data\":layer_data_set}\n",
    "#    sha.update(repr(layer_data).encode('utf-8'))\n",
    "\n",
    "    return sha.hexdigest(), layer_data\n",
    "\n",
    "\n",
    "\n",
    "\n",
    "#     sha.update(repr(layer_data).encode('utf-8'))\n"
   ],
   "outputs": [],
   "metadata": {}
  },
  {
   "cell_type": "code",
   "execution_count": 233,
   "source": [
    "\n",
    "signature1, layer_data1 = create_model_data(model_vgg16)\n",
    "print(signature1)\n",
    "signature2, layer_data2 = create_model_data(model_vgg16_test)\n",
    "print(signature2)\n",
    "\n",
    "# 5334e90eb169d941ae8c699abb32f0999d44ea058e221dd207f568a68c65835b\n",
    "# 5030bac61995e80abd7377ac917fa7ca81378245203fa3ae4dce2c4a5804cf4d"
   ],
   "outputs": [
    {
     "output_type": "stream",
     "name": "stdout",
     "text": [
      "f59bec808340052cb5065878c815d1d46d2826b61cd907d9c6ab1ca159665750\n",
      "e0c0e5bce1e5a7dc9323e09a24ca4acf2d2d7237e8298986cec71f44a2430b53\n"
     ]
    }
   ],
   "metadata": {}
  },
  {
   "cell_type": "code",
   "execution_count": null,
   "source": [],
   "outputs": [],
   "metadata": {}
  },
  {
   "cell_type": "code",
   "execution_count": 211,
   "source": [
    "# setup global write variables\n",
    "bb_username = 'brendan.bonner@mail.dcu.ie'\n",
    "bb_organisation = 'DCU'\n",
    "bb_model_source = 'created in python'"
   ],
   "outputs": [],
   "metadata": {}
  },
  {
   "cell_type": "code",
   "execution_count": 315,
   "source": [
    "import pymongo\n",
    "from bson.objectid import ObjectId\n",
    "\n",
    "def init_model_db():\n",
    "    global db_col_data\n",
    "    global db_col_signature\n",
    "\n",
    "\n",
    "    dbclient = pymongo.MongoClient(\"mongodb://localhost:27017/\")\n",
    "    dbclient_database = dbclient[\"model_database\"]\n",
    "    db_col_data = dbclient_database[\"modeldata\"]\n",
    "    db_col_signature = dbclient_database[\"signature\"]\n",
    "\n",
    "\n",
    "    # Make sure signatures are unique on both\n",
    "    db_col_signature.create_index(\n",
    "        [(\"signature\", pymongo.DESCENDING)],\n",
    "        unique=True\n",
    "    )\n",
    "\n",
    "\n",
    "    remote_client = MongoClient('mongodb+srv://cluster0.7ilyj.mongodb.net/myFirstDatabase')\n",
    "    dbclient_database_r = remote_client[\"model_database\"]\n",
    "    db_col_data_r = dbclient_database_r[\"modeldata\"]\n",
    "    db_col_signature_r = dbclient_database_r[\"signature\"]\n",
    "    \n",
    "    \n",
    "    remote_user = False\n",
    "    if(remote_user):\n",
    "        # Only if there is a remote account, allow writing, otherwise read only\n",
    "        db_col_signature_r.create_index(\n",
    "            [(\"signature\", pymongo.DESCENDING)],\n",
    "            unique=True\n",
    "        )\n",
    "\n",
    "\n",
    "def write_model_db(\n",
    "    signature,\n",
    "    model_data,\n",
    "    username = bb_username,\n",
    "    organisation = bb_organisation,\n",
    "    model_source=bb_model_source,\n",
    "    parent = '',\n",
    "    local=True):\n",
    "\n",
    "    if (local):\n",
    "        db_data = db_col_data\n",
    "        db_sig = db_col_signature\n",
    "    else:\n",
    "        db_data = db_col_data_r\n",
    "        db_sig = db_col_signature_r\n",
    "\n",
    "    # Insert Signature to Database (signatures)\n",
    "    if get_model(signature) == None:\n",
    "        x = db_col_data.insert_one(model_data)\n",
    "        model_id = x.inserted_id\n",
    "        # print(model_id, 'for sig: ', signature)\n",
    "\n",
    "        # Inset Model Data to Database (modeldata)\n",
    "        signature_data =  {\n",
    "            'signature': signature,\n",
    "            'parent': parent,\n",
    "            'username': username,\n",
    "            'organisation':organisation,\n",
    "            'model_source': model_source,\n",
    "            'model_data': model_id\n",
    "        }\n",
    "\n",
    "        x = db_col_signature.insert_one(signature_data)\n",
    "        signature_model_id = x.inserted_id\n",
    "        return signature_model_id\n",
    "    else:\n",
    "        print('signature: ', signature, ' already in database')\n",
    "        return None\n",
    "\n",
    "\n",
    "def push_model(model, local=True, parent=None, username=bb_username, organisation = bb_organisation):\n",
    "    signature, layer_data = create_model_data(model)\n",
    "\n",
    "    write_model_db(\n",
    "        signature=signature,\n",
    "        model_data=layer_data,\n",
    "        parent=parent,\n",
    "        username=username,\n",
    "        organisation=organisation,\n",
    "        local=local\n",
    "    )\n",
    "    return signature\n",
    "\n",
    "\n",
    "\n",
    "def get_model(signature):\n",
    "    signature_data = db_col_signature.find_one({'signature': signature})\n",
    "    if(signature_data):\n",
    "        return signature_data\n",
    "    else:\n",
    "        return None\n",
    "\n",
    "\n",
    "# The web framework gets post_id from the URL and passes it as a string\n",
    "def get_model_data(model_id):\n",
    "    document = db_col_data.find_one({'_id': ObjectId(model_id)})\n",
    "    return document\n"
   ],
   "outputs": [],
   "metadata": {}
  },
  {
   "cell_type": "code",
   "execution_count": 316,
   "source": [
    "#initialise model database\n",
    "init_model_db()"
   ],
   "outputs": [],
   "metadata": {}
  },
  {
   "cell_type": "code",
   "execution_count": null,
   "source": [],
   "outputs": [],
   "metadata": {}
  },
  {
   "cell_type": "code",
   "execution_count": 317,
   "source": [
    "# get a signature and write it to the model\n",
    "\n",
    "\n",
    "parent = push_model(model_resnet50)\n",
    "last = push_model(model_resnet50_imagenet,parent=parent)\n",
    "parent = push_model(model_vgg16)\n",
    "last = push_model(model_vgg16_test, parent=parent)\n"
   ],
   "outputs": [
    {
     "output_type": "stream",
     "name": "stdout",
     "text": [
      "signature:  3fb925563160909dbe1a0e46fe2ab86b5ffae097938687c0527a1a2d79602299  already in database\n",
      "signature:  071a8536a9a01f58cefab7281f075aa99738392932a85b85ed936b30dc875c5d  already in database\n",
      "signature:  f59bec808340052cb5065878c815d1d46d2826b61cd907d9c6ab1ca159665750  already in database\n",
      "signature:  fefd9fe33486456cfa94b9d0f188e394d41b38577b052e09f0082c366369192e  already in database\n"
     ]
    },
    {
     "output_type": "execute_result",
     "data": {
      "text/plain": [
       "\"\\nsignature, layer_data = create_model_data(model_vgg16)\\nlast_signature = write_model_db(\\n    signature=signature,\\n    model_data=layer_data,\\n    model_source='https://github.com/keras-team/keras-applications/blob/master/keras_applications/vgg16.py'\\n)\\n\\n\\nsignature, layer_data = create_model_data(model_vgg16_test)\\nnew_signature = write_model_db(\\n    signature=signature,\\n    model_data=layer_data,\\n    parent = last_signature\\n)\\n\""
      ]
     },
     "metadata": {},
     "execution_count": 317
    }
   ],
   "metadata": {}
  },
  {
   "cell_type": "code",
   "execution_count": 281,
   "source": [
    "# Make a small adjustment to test the SHA change\n",
    "\n",
    "\n",
    "for x in range(5):\n",
    "    weights = model_vgg16_test.layers[1].get_weights()\n",
    "    weights[0][0][0][0] = weights[0][0][0][0] * 1.004\n",
    "    model_vgg16_test.layers[1].set_weights(weights)\n",
    "    last = push_model(model_vgg16_test, parent=last, username='brendanboner@gmail.com')\n",
    "    print(last)\n"
   ],
   "outputs": [
    {
     "output_type": "stream",
     "name": "stdout",
     "text": [
      "53af1f4959137db767ba817f3e74d899431badfe02a0ddeb0ed67c7ba6d32481\n",
      "331ebee95ee365303ddb855d2f11fe216dcac08f7e31222d8281bf960e4e8b90\n",
      "d08398ab16003cd3da407c6c0069fb6e7ebc6f1e8fba86e494e67a5df659f5b3\n",
      "83b75799aacffa45eed32af1f71373223a24d6d4c2c5eb9a6250f9e5b9fdfe57\n",
      "fefd9fe33486456cfa94b9d0f188e394d41b38577b052e09f0082c366369192e\n"
     ]
    }
   ],
   "metadata": {}
  },
  {
   "cell_type": "code",
   "execution_count": null,
   "source": [
    "\n"
   ],
   "outputs": [],
   "metadata": {}
  },
  {
   "cell_type": "code",
   "execution_count": 367,
   "source": [
    "# Get model and write to layer\n",
    "\n",
    "def show_history(signature):\n",
    "\n",
    "    print(\"Getting Signature: \",signature)\n",
    "    signature_data = get_model(signature)\n",
    "    baseline_model_data = get_model_data(signature_data['model_data'])\n",
    "\n",
    "    if baseline_model_data == None:\n",
    "        print ('no model data for : ', signature_data['model_data'])\n",
    "    else:\n",
    "        print('Layers: ', len(baseline_model_data['data']))\n",
    "        print( signature_data['_id'].generation_time, ' : Model Id ', signature_data['model_data'])\n",
    "        old_data = baseline_model_data['data']\n",
    "\n",
    "        history = []\n",
    "        while signature_data['parent'] != None:\n",
    "\n",
    "            # get model\n",
    "            signature_data = get_model(signature_data['parent'])\n",
    "            print( signature_data['_id'].generation_time, ' : Model Id ', signature_data['model_data'])\n",
    "\n",
    "            new_model_data = get_model_data(signature_data['model_data'])\n",
    "            if new_model_data == None:\n",
    "                print ('no model data for : ', signature_data['model_data'])\n",
    "            else:\n",
    "                history_layer = []\n",
    "                data = new_model_data['data']\n",
    "                for key, value in data.items():\n",
    "                    if (old_data[key]['weight_std'] == 0):\n",
    "                        history_layer.append(old_data[key]['weight_std'])\n",
    "                    else:\n",
    "                        history_layer.append(\n",
    "                            value['weight_std']  / old_data[key]['weight_std'],\n",
    "                        )\n",
    "\n",
    "                history.append(history_layer)\n",
    "                old_data = new_model_data['data']\n",
    "\n",
    "\n",
    " \n",
    "\n",
    "        print(signature_data['username'], signature_data['organisation'])\n",
    "        print(history[0])\n",
    "\n",
    "\n",
    "show_history('5c6b29d372e51b3a95c245d851322f0b3b8387a02fbb6b680e3ccd48fdba7f45') # trained VGG16\n",
    "\n",
    "# show_history('071a8536a9a01f58cefab7281f075aa99738392932a85b85ed936b30dc875c5d') # ResNet50 "
   ],
   "outputs": [
    {
     "output_type": "stream",
     "name": "stdout",
     "text": [
      "Getting Signature:  5c6b29d372e51b3a95c245d851322f0b3b8387a02fbb6b680e3ccd48fdba7f45\n",
      "Layers:  23\n",
      "2021-08-02 21:51:50+00:00  : Model Id  610868f69f6c9bb4ee1ce411\n",
      "2021-08-02 21:51:47+00:00  : Model Id  610868f39f6c9bb4ee1ce40f\n",
      "2021-08-02 21:51:43+00:00  : Model Id  610868ef9f6c9bb4ee1ce40d\n",
      "2021-08-02 21:51:40+00:00  : Model Id  610868ec9f6c9bb4ee1ce40b\n",
      "2021-08-02 21:50:31+00:00  : Model Id  610868a79f6c9bb4ee1ce409\n",
      "2021-08-02 21:50:25+00:00  : Model Id  610868a19f6c9bb4ee1ce407\n",
      "2021-08-02 21:49:41+00:00  : Model Id  610868759f6c9bb4ee1ce405\n",
      "2021-08-02 21:46:32+00:00  : Model Id  610867b89f6c9bb4ee1ce403\n",
      "2021-08-02 21:46:26+00:00  : Model Id  610867b29f6c9bb4ee1ce401\n",
      "brendan.bonner@mail.dcu.ie DCU\n",
      "[0.0, 0.9999393971930307, 1.0, 0.0, 1.0, 1.0, 0.0, 1.0, 1.0, 1.0, 0.0, 1.0, 1.0, 1.0, 0.0, 1.0, 1.0, 1.0, 0.0, 0.0, 1.0, 1.0, 1.0]\n"
     ]
    }
   ],
   "metadata": {}
  },
  {
   "cell_type": "code",
   "execution_count": 6,
   "source": [
    "def diff_model(model_vgg16, model_resnet50):\n",
    "    for l1, l2 in zip(model_vgg16.layers, model_resnet50.layers):\n",
    "        w1 = l1.get_weights()\n",
    "        w2 = l2.get_weights()\n",
    "        if len(w1) > 0:\n",
    "            wa1 = np.ndarray.flatten(w1[0])\n",
    "            wa2 = np.ndarray.flatten(w2[0])\n",
    "            # Weights available\n",
    "            print(l1.get_config()['name'],\n",
    "                w1[0].shape,\n",
    "                np.std(wa1), np.median(wa1),\n",
    "                w2[0].shape,\n",
    "                np.std(wa2), np.median(wa2),\n",
    "                np.std(wa1) == np.std(wa2)\n",
    "            )\n",
    "            \n",
    "        else:\n",
    "            print(l1.get_config()['name'],len(w1))"
   ],
   "outputs": [],
   "metadata": {}
  },
  {
   "cell_type": "code",
   "execution_count": null,
   "source": [],
   "outputs": [],
   "metadata": {}
  },
  {
   "cell_type": "code",
   "execution_count": null,
   "source": [
    "print(layer_data['structure'])"
   ],
   "outputs": [],
   "metadata": {}
  },
  {
   "cell_type": "code",
   "execution_count": null,
   "source": [],
   "outputs": [],
   "metadata": {}
  },
  {
   "cell_type": "code",
   "execution_count": null,
   "source": [],
   "outputs": [],
   "metadata": {}
  },
  {
   "cell_type": "code",
   "execution_count": 8,
   "source": [
    " # Database functions\n",
    "\n",
    "import pymongo\n",
    "import datetime\n",
    "\n",
    "from pymongo import MongoClient\n",
    "\n",
    "client = MongoClient('mongodb+srv://cluster0.7ilyj.mongodb.net/myFirstDatabase')\n"
   ],
   "outputs": [],
   "metadata": {}
  },
  {
   "cell_type": "code",
   "execution_count": 81,
   "source": [
    "db = client.model\n",
    "db.model.list_indexes()"
   ],
   "outputs": [
    {
     "output_type": "execute_result",
     "data": {
      "text/plain": [
       "<pymongo.command_cursor.CommandCursor at 0x7f94c6876a30>"
      ]
     },
     "metadata": {},
     "execution_count": 81
    }
   ],
   "metadata": {}
  },
  {
   "cell_type": "code",
   "execution_count": null,
   "source": [
    "\n",
    "\n",
    "\n",
    "\n",
    "\n",
    "\n",
    "\n",
    "\n",
    "\n",
    "\n",
    "\n",
    "\n"
   ],
   "outputs": [],
   "metadata": {}
  },
  {
   "cell_type": "code",
   "execution_count": 378,
   "source": [
    "#Display a comparison of multiple layers\n",
    "def get_weights_print_stats(layer):\n",
    "    W = layer.get_weights()\n",
    "    if len(W) > 0:\n",
    "        print(len(W))\n",
    "        print(W[0].shape)\n",
    "    return W\n",
    "\n",
    "def hist_weights(weights, bins=100, label='default'):\n",
    "    for weight in weights:\n",
    "        \n",
    "        plt.hist(np.ndarray.flatten(weight), bins=bins, label=label)\n",
    "\n",
    "'''\n",
    "for l1, l2 in zip(model_vgg16.layers, model_resnet50.layers):\n",
    "    print(l1.get_config()['name'])\n",
    "    W = get_weights_print_stats(l1)\n",
    "    hist_weights(W, label='Model 1')\n",
    "    W = get_weights_print_stats(l2)\n",
    "    hist_weights(W, label='Model 2')\n",
    "    plt.show()\n",
    "'''\n",
    "for l1, l2 in zip(model_vgg16.layers, model_vgg16_imagenet.layers):\n",
    "\n",
    "    w1 = l1.get_weights()\n",
    "    w2 = l2.get_weights()\n",
    "\n",
    "    if len(w1) > 0:\n",
    "        # Layers available\n",
    "\n",
    "        weight1_value   = np.ndarray.flatten(w1[0])\n",
    "        weight1_skew  = skew(np.ndarray.flatten(w1[0]))\n",
    "        weight1_std     = np.std(weight1_value).item()\n",
    "        print('std {:.4f}, skew {:.4f}'.format(weight1_std, weight1_skew))\n",
    "        \n",
    "        weight2_value   = np.ndarray.flatten(w2[0])\n",
    "        weight2_skew  = skew(np.ndarray.flatten(w2[0]))\n",
    "        weight2_std     = np.std(weight2_value).item()\n",
    "        print('std {:.4f}, skew {:.4f}'.format(weight2_std, weight2_skew))\n",
    "        \n",
    "        print(l1.get_config()['name'],len(w1), w1[0].shape)\n",
    "        plt.hist(\n",
    "            [ np.ndarray.flatten(w1[0]),\n",
    "            np.ndarray.flatten(w2[0])],\n",
    "            alpha=0.5, bins=1000, label=['X','Y'])\n",
    "        plt.legend(loc='upper right')\n",
    "\n",
    "        plt.show()\n",
    "\n",
    "    else:\n",
    "        print(l1.get_config()['name'],len(w1))\n",
    "    "
   ],
   "outputs": [
    {
     "output_type": "stream",
     "name": "stdout",
     "text": [
      "input_33 0\n",
      "std 0.0583, skew -0.0330\n",
      "std 0.2067, skew -0.0145\n",
      "block1_conv1 2 (3, 3, 3, 64)\n"
     ]
    },
    {
     "output_type": "display_data",
     "data": {
      "text/plain": [
       "<Figure size 432x288 with 1 Axes>"
      ],
      "image/png": "[encoded data removed]"
     },
     "metadata": {
      "needs_background": "light"
     }
    },
    {
     "output_type": "stream",
     "name": "stdout",
     "text": [
      "std 0.0417, skew -0.0045\n",
      "std 0.0425, skew 0.9093\n",
      "block1_conv2 2 (3, 3, 64, 64)\n"
     ]
    },
    {
     "output_type": "display_data",
     "data": {
      "text/plain": [
       "<Figure size 432x288 with 1 Axes>"
      ],
      "image/png": "[encoded data removed]"
     },
     "metadata": {
      "needs_background": "light"
     }
    },
    {
     "output_type": "stream",
     "name": "stdout",
     "text": [
      "block1_pool 0\n",
      "std 0.0339, skew -0.0074\n",
      "std 0.0322, skew 0.1505\n",
      "block2_conv1 2 (3, 3, 64, 128)\n"
     ]
    },
    {
     "output_type": "display_data",
     "data": {
      "text/plain": [
       "<Figure size 432x288 with 1 Axes>"
      ],
      "image/png": "[encoded data removed]"
     },
     "metadata": {
      "needs_background": "light"
     }
    },
    {
     "output_type": "stream",
     "name": "stdout",
     "text": [
      "std 0.0295, skew -0.0051\n",
      "std 0.0235, skew 0.3855\n",
      "block2_conv2 2 (3, 3, 128, 128)\n"
     ]
    },
    {
     "output_type": "display_data",
     "data": {
      "text/plain": [
       "<Figure size 432x288 with 1 Axes>"
      ],
      "image/png": "[encoded data removed]"
     },
     "metadata": {
      "needs_background": "light"
     }
    },
    {
     "output_type": "stream",
     "name": "stdout",
     "text": [
      "block2_pool 0\n",
      "std 0.0241, skew -0.0033\n",
      "std 0.0174, skew 0.6235\n",
      "block3_conv1 2 (3, 3, 128, 256)\n"
     ]
    },
    {
     "output_type": "display_data",
     "data": {
      "text/plain": [
       "<Figure size 432x288 with 1 Axes>"
      ],
      "image/png": "[encoded data removed]"
     },
     "metadata": {
      "needs_background": "light"
     }
    },
    {
     "output_type": "stream",
     "name": "stdout",
     "text": [
      "std 0.0208, skew -0.0021\n",
      "std 0.0123, skew 0.7575\n",
      "block3_conv2 2 (3, 3, 256, 256)\n"
     ]
    },
    {
     "output_type": "display_data",
     "data": {
      "text/plain": [
       "<Figure size 432x288 with 1 Axes>"
      ],
      "image/png": "[encoded data removed]"
     },
     "metadata": {
      "needs_background": "light"
     }
    },
    {
     "output_type": "stream",
     "name": "stdout",
     "text": [
      "std 0.0209, skew 0.0007\n",
      "std 0.0127, skew 1.0946\n",
      "block3_conv3 2 (3, 3, 256, 256)\n"
     ]
    },
    {
     "output_type": "display_data",
     "data": {
      "text/plain": [
       "<Figure size 432x288 with 1 Axes>"
      ],
      "image/png": "[encoded data removed]"
     },
     "metadata": {
      "needs_background": "light"
     }
    },
    {
     "output_type": "stream",
     "name": "stdout",
     "text": [
      "block3_pool 0\n",
      "std 0.0170, skew 0.0000\n",
      "std 0.0101, skew 0.6153\n",
      "block4_conv1 2 (3, 3, 256, 512)\n"
     ]
    },
    {
     "output_type": "display_data",
     "data": {
      "text/plain": [
       "<Figure size 432x288 with 1 Axes>"
      ],
      "image/png": "[encoded data removed]"
     },
     "metadata": {
      "needs_background": "light"
     }
    },
    {
     "output_type": "stream",
     "name": "stdout",
     "text": [
      "std 0.0147, skew -0.0001\n",
      "std 0.0076, skew 0.5342\n",
      "block4_conv2 2 (3, 3, 512, 512)\n"
     ]
    },
    {
     "output_type": "display_data",
     "data": {
      "text/plain": [
       "<Figure size 432x288 with 1 Axes>"
      ],
      "image/png": "[encoded data removed]"
     },
     "metadata": {
      "needs_background": "light"
     }
    },
    {
     "output_type": "stream",
     "name": "stdout",
     "text": [
      "std 0.0147, skew -0.0003\n",
      "std 0.0080, skew 0.7202\n",
      "block4_conv3 2 (3, 3, 512, 512)\n"
     ]
    },
    {
     "output_type": "display_data",
     "data": {
      "text/plain": [
       "<Figure size 432x288 with 1 Axes>"
      ],
      "image/png": "[encoded data removed]"
     },
     "metadata": {
      "needs_background": "light"
     }
    },
    {
     "output_type": "stream",
     "name": "stdout",
     "text": [
      "block4_pool 0\n",
      "std 0.0147, skew -0.0018\n",
      "std 0.0087, skew 0.5710\n",
      "block5_conv1 2 (3, 3, 512, 512)\n"
     ]
    },
    {
     "output_type": "display_data",
     "data": {
      "text/plain": [
       "<Figure size 432x288 with 1 Axes>"
      ],
      "image/png": "[encoded data removed]"
     },
     "metadata": {
      "needs_background": "light"
     }
    },
    {
     "output_type": "stream",
     "name": "stdout",
     "text": [
      "std 0.0147, skew 0.0002\n",
      "std 0.0088, skew 0.4924\n",
      "block5_conv2 2 (3, 3, 512, 512)\n"
     ]
    },
    {
     "output_type": "display_data",
     "data": {
      "text/plain": [
       "<Figure size 432x288 with 1 Axes>"
      ],
      "image/png": "[encoded data removed]"
     },
     "metadata": {
      "needs_background": "light"
     }
    },
    {
     "output_type": "stream",
     "name": "stdout",
     "text": [
      "std 0.0147, skew 0.0008\n",
      "std 0.0085, skew 0.6390\n",
      "block5_conv3 2 (3, 3, 512, 512)\n"
     ]
    },
    {
     "output_type": "display_data",
     "data": {
      "text/plain": [
       "<Figure size 432x288 with 1 Axes>"
      ],
      "image/png": "[encoded data removed]"
     },
     "metadata": {
      "needs_background": "light"
     }
    },
    {
     "output_type": "stream",
     "name": "stdout",
     "text": [
      "block5_pool 0\n",
      "flatten 0\n",
      "std 0.0083, skew -0.0003\n",
      "std 0.0023, skew 0.2392\n",
      "fc1 2 (25088, 4096)\n"
     ]
    },
    {
     "output_type": "display_data",
     "data": {
      "text/plain": [
       "<Figure size 432x288 with 1 Axes>"
      ],
      "image/png": "[encoded data removed]"
     },
     "metadata": {
      "needs_background": "light"
     }
    },
    {
     "output_type": "stream",
     "name": "stdout",
     "text": [
      "std 0.0156, skew 0.0003\n",
      "std 0.0044, skew 0.1923\n",
      "fc2 2 (4096, 4096)\n"
     ]
    },
    {
     "output_type": "display_data",
     "data": {
      "text/plain": [
       "<Figure size 432x288 with 1 Axes>"
      ],
      "image/png": "[encoded data removed]"
     },
     "metadata": {
      "needs_background": "light"
     }
    },
    {
     "output_type": "stream",
     "name": "stdout",
     "text": [
      "std 0.0198, skew -0.0000\n",
      "std 0.0083, skew 0.4478\n",
      "predictions 2 (4096, 1000)\n"
     ]
    },
    {
     "output_type": "display_data",
     "data": {
      "text/plain": [
       "<Figure size 432x288 with 1 Axes>"
      ],
      "image/png": "[encoded data removed]"
     },
     "metadata": {
      "needs_background": "light"
     }
    }
   ],
   "metadata": {}
  },
  {
   "cell_type": "code",
   "execution_count": null,
   "source": [],
   "outputs": [],
   "metadata": {}
  }
 ],
 "metadata": {
  "orig_nbformat": 4,
  "language_info": {
   "name": "python",
   "version": "3.8.10",
   "mimetype": "text/x-python",
   "codemirror_mode": {
    "name": "ipython",
    "version": 3
   },
   "pygments_lexer": "ipython3",
   "nbconvert_exporter": "python",
   "file_extension": ".py"
  },
  "kernelspec": {
   "name": "python3",
   "display_name": "Python 3.8.10 64-bit ('base': conda)"
  },
  "interpreter": {
   "hash": "90948722effb0dbfc6ba9cb222e51e19b083ecb130b6edbb8e1b374c6a2c8c07"
  }
 },
 "nbformat": 4,
 "nbformat_minor": 2
}