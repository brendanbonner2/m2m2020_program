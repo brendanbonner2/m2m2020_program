{
 "cells": [
  {
   "cell_type": "markdown",
   "source": [
    "This notebook is the tester for developing a system for recording models in a simplistic method"
   ],
   "metadata": {}
  },
  {
   "cell_type": "code",
   "execution_count": 1,
   "source": [
    "import numpy as np\n",
    "import pandas as pd\n",
    "import tensorflow as tf\n",
    "import matplotlib.pyplot as plt\n",
    "\n",
    "\n",
    "model_vgg16 = tf.keras.applications.VGG16(\n",
    "    include_top=True,\n",
    "    weights=None,\n",
    "    input_tensor=None,\n",
    "    input_shape=None,\n",
    "    pooling=None,\n",
    "    classes=1000,\n",
    "    classifier_activation=\"softmax\",\n",
    ")\n",
    "\n",
    "model_vgg16_imagenet = tf.keras.applications.VGG16(\n",
    "    include_top=True,\n",
    "    weights=\"imagenet\",\n",
    "    input_tensor=None,\n",
    "    input_shape=None,\n",
    "    pooling=None,\n",
    "    classes=1000,\n",
    "    classifier_activation=\"softmax\",\n",
    ")\n",
    "\n",
    "\n",
    "model_vgg16_test = tf.keras.applications.VGG16(\n",
    "    include_top=True,\n",
    "    weights=\"imagenet\",\n",
    "    input_tensor=None,\n",
    "    input_shape=None,\n",
    "    pooling=None,\n",
    "    classes=1000,\n",
    "    classifier_activation=\"softmax\",\n",
    ")\n",
    "\n",
    "model_resnet50 = tf.keras.applications.ResNet50(\n",
    "    include_top=True,\n",
    "    weights=None,\n",
    "    input_tensor=None,\n",
    "    input_shape=None,\n",
    "    pooling=None,\n",
    "    classes=500,\n",
    "    classifier_activation=\"softmax\",\n",
    ")\n",
    "\n",
    "\n",
    "model_resnet50_imagenet = tf.keras.applications.ResNet50(\n",
    "    include_top=True,\n",
    "    weights='imagenet',\n",
    "    input_tensor=None,\n",
    "    input_shape=None,\n",
    "    pooling=None,\n",
    "    classifier_activation=\"softmax\",\n",
    ")"
   ],
   "outputs": [],
   "metadata": {}
  },
  {
   "cell_type": "code",
   "execution_count": 227,
   "source": [
    "# From https://stackoverflow.com/questions/13530762/how-to-know-bytes-size-of-python-object-like-arrays-and-dictionaries-the-simp\n",
    "\n",
    "import gc\n",
    "import sys\n",
    "\n",
    "def get_obj_size(obj):\n",
    "    marked = {id(obj)}\n",
    "    obj_q = [obj]\n",
    "    sz = 0\n",
    "\n",
    "    while obj_q:\n",
    "        sz += sum(map(sys.getsizeof, obj_q))\n",
    "\n",
    "        # Lookup all the object referred to by the object in obj_q.\n",
    "        # See: https://docs.python.org/3.7/library/gc.html#gc.get_referents\n",
    "        all_refr = ((id(o), o) for o in gc.get_referents(*obj_q))\n",
    "\n",
    "        # Filter object that are already marked.\n",
    "        # Using dict notation will prevent repeated objects.\n",
    "        new_refr = {o_id: o for o_id, o in all_refr if o_id not in marked and not isinstance(o, type)}\n",
    "\n",
    "        # The new obj_q will be the ones that were not marked,\n",
    "        # and we will update marked with their ids so we will\n",
    "        # not traverse them again.\n",
    "        obj_q = new_refr.values()\n",
    "        marked.update(new_refr.keys())\n",
    "\n",
    "    return sz\n",
    "\n",
    "import sys\n",
    "   \n",
    "print(get_obj_size(model_vgg16))\n",
    "\n",
    "print(get_obj_size(model_resnet50))\n",
    "print(get_obj_size(model_resnet50_imagenet))\n",
    "\n"
   ],
   "outputs": [
    {
     "output_type": "stream",
     "name": "stdout",
     "text": [
      "157474351\n",
      "157474327\n",
      "157481324\n"
     ]
    }
   ],
   "metadata": {}
  },
  {
   "cell_type": "code",
   "execution_count": 228,
   "source": [
    "for l1, l2 in zip(model_vgg16.layers, model_resnet50.layers):\n",
    "    conf1 = l1.get_config()\n",
    "    conf2 = l2.get_config()\n",
    "\n",
    "    if ('batch_input_shape' in conf1) or ('units' in conf1):\n",
    "        print(conf1 == conf2)\n",
    "        print(conf1['name'])\n"
   ],
   "outputs": [
    {
     "output_type": "stream",
     "name": "stdout",
     "text": [
      "False\n",
      "input_24\n",
      "False\n",
      "fc1\n",
      "False\n",
      "fc2\n",
      "False\n",
      "predictions\n"
     ]
    }
   ],
   "metadata": {}
  },
  {
   "cell_type": "code",
   "execution_count": 229,
   "source": [
    "layer = model_vgg16.layers[1]\n",
    "\n",
    "layer_data  = (\n",
    "    layer.__class__.__name__,\n",
    "    layer.input_shape,\n",
    "    layer.output_shape,\n",
    "    layer.trainable,\n",
    "    layer.count_params()\n",
    ")\n",
    "print(layer_data)\n"
   ],
   "outputs": [
    {
     "output_type": "stream",
     "name": "stdout",
     "text": [
      "('Conv2D', (None, 224, 224, 3), (None, 224, 224, 64), True, 1792)\n"
     ]
    }
   ],
   "metadata": {}
  },
  {
   "cell_type": "code",
   "execution_count": 2,
   "source": [
    "import hashlib\n",
    "from scipy.stats import skew"
   ],
   "outputs": [],
   "metadata": {}
  },
  {
   "cell_type": "code",
   "execution_count": 3,
   "source": [
    "\n",
    "\n",
    "def create_layer_data(layer):\n",
    "\n",
    "    # get structure array\n",
    "    layer_structure  = {\n",
    "        \"class\": layer.__class__.__name__,\n",
    "        \"input_shape\": layer.input_shape,\n",
    "        \"output_shape\": layer.output_shape,\n",
    "        \"trainable\": layer.trainable,\n",
    "        \"params\": layer.count_params(),\n",
    "        \"name\": layer.name\n",
    "    }\n",
    "\n",
    "    # get layer weights and bias\n",
    "    weights = layer.get_weights()\n",
    "    if len(weights) == 1:\n",
    "        weight_x = np.ndarray.flatten(weights[0])\n",
    "        bias_x = np.array([])\n",
    "        skew_x = skew(np.ndarray.flatten(weights[0]))\n",
    "\n",
    "    if len(weights) > 1:\n",
    "        weight_x = np.ndarray.flatten(weights[0])\n",
    "        bias_x = np.ndarray.flatten(weights[1])\n",
    "        skew_x = skew(np.ndarray.flatten(weights[0]))\n",
    "\n",
    "    else:\n",
    "        weight_x = np.array([0])\n",
    "        bias_x = np.array([0])\n",
    "        skew_x = 0\n",
    "\n",
    "    layer_values = {\n",
    "        \"weight_std\" : np.std(weight_x).item(),\n",
    "        \"weight_mean\" : np.mean(weight_x).item(),\n",
    "        \"bias_std\" : np.std(bias_x).item(),\n",
    "        \"bias_mean\" : np.mean(bias_x).item(),\n",
    "        \"skew\" : skew_x\n",
    "    }\n",
    "\n",
    "    return layer_structure, layer_values\n",
    "\n",
    "def create_model_data(model):\n",
    "    # initiate hashing function\n",
    "    sha = hashlib.sha256()\n",
    "\n",
    "    layer_data_set = {}\n",
    "    layer_structure_set = {}\n",
    "    \n",
    "    for index, value in enumerate(model.layers):\n",
    "        # Run through the layers\n",
    "        layer_structure, layer_data = create_layer_data(value)\n",
    "        # print(layer_data, layer_values, hash(layer_values))\n",
    "        sha.update(repr(layer_structure).encode('utf-8'))\n",
    "        sha.update(repr(layer_data).encode('utf-8'))\n",
    "\n",
    "        layer_data_set[str(index)] = layer_data\n",
    "        layer_structure_set[str(index)] = layer_structure\n",
    "\n",
    "    \n",
    "    layer_data = {\"structure\":layer_structure_set, \"data\":layer_data_set}\n",
    "#    sha.update(repr(layer_data).encode('utf-8'))\n",
    "\n",
    "    return sha.hexdigest(), layer_data\n",
    "\n",
    "\n",
    "\n",
    "\n",
    "#     sha.update(repr(layer_data).encode('utf-8'))\n"
   ],
   "outputs": [],
   "metadata": {}
  },
  {
   "cell_type": "code",
   "execution_count": 4,
   "source": [
    "\n",
    "signature1, layer_data1 = create_model_data(model_vgg16)\n",
    "print(signature1)\n",
    "signature2, layer_data2 = create_model_data(model_vgg16_test)\n",
    "print(signature2)\n",
    "\n",
    "# 5334e90eb169d941ae8c699abb32f0999d44ea058e221dd207f568a68c65835b\n",
    "# 5030bac61995e80abd7377ac917fa7ca81378245203fa3ae4dce2c4a5804cf4d"
   ],
   "outputs": [
    {
     "output_type": "stream",
     "name": "stdout",
     "text": [
      "bfb5e7bb8de4c038ec4620c043546a92f568461323588c8319004dc97e154764\n",
      "909234d068f8adb11e8f76e080babffa4826cae5a6ead054e4b5053f5b1ba1d0\n"
     ]
    }
   ],
   "metadata": {}
  },
  {
   "cell_type": "code",
   "execution_count": null,
   "source": [],
   "outputs": [],
   "metadata": {}
  },
  {
   "cell_type": "code",
   "execution_count": 5,
   "source": [
    "# setup global write variables\n",
    "bb_username = 'brendan.bonner@mail.dcu.ie'\n",
    "bb_organisation = 'DCU'\n",
    "bb_model_source = 'created in python'"
   ],
   "outputs": [],
   "metadata": {}
  },
  {
   "cell_type": "code",
   "execution_count": 8,
   "source": [
    "import pymongo\n",
    "import datetime\n",
    "from pymongo import MongoClient\n",
    "\n",
    "from bson.objectid import ObjectId\n",
    "\n",
    "def init_model_db():\n",
    "    global db_col_data\n",
    "    global db_col_signature\n",
    "\n",
    "\n",
    "    dbclient = pymongo.MongoClient(\"mongodb://localhost:27017/\")\n",
    "    dbclient_database = dbclient[\"model_database\"]\n",
    "    db_col_data = dbclient_database[\"modeldata\"]\n",
    "    db_col_signature = dbclient_database[\"signature\"]\n",
    "\n",
    "\n",
    "    # Make sure signatures are unique on both\n",
    "    db_col_signature.create_index(\n",
    "        [(\"signature\", pymongo.DESCENDING)],\n",
    "        unique=True\n",
    "    )\n",
    "\n",
    "\n",
    "    remote_client = MongoClient('mongodb+srv://cluster0.7ilyj.mongodb.net/myFirstDatabase')\n",
    "    dbclient_database_r = remote_client[\"model_database\"]\n",
    "    db_col_data_r = dbclient_database_r[\"modeldata\"]\n",
    "    db_col_signature_r = dbclient_database_r[\"signature\"]\n",
    "    \n",
    "    \n",
    "    remote_user = False\n",
    "    if(remote_user):\n",
    "        # Only if there is a remote account, allow writing, otherwise read only\n",
    "        db_col_signature_r.create_index(\n",
    "            [(\"signature\", pymongo.DESCENDING)],\n",
    "            unique=True\n",
    "        )\n",
    "\n",
    "\n",
    "def write_model_db(\n",
    "    signature,\n",
    "    model_data,\n",
    "    username = bb_username,\n",
    "    organisation = bb_organisation,\n",
    "    model_source=bb_model_source,\n",
    "    parent = '',\n",
    "    local=True):\n",
    "\n",
    "    if (local):\n",
    "        db_data = db_col_data\n",
    "        db_sig = db_col_signature\n",
    "    else:\n",
    "        db_data = db_col_data_r\n",
    "        db_sig = db_col_signature_r\n",
    "\n",
    "    # Insert Signature to Database (signatures)\n",
    "    if get_model(signature) == None:\n",
    "        x = db_col_data.insert_one(model_data)\n",
    "        model_id = x.inserted_id\n",
    "        # print(model_id, 'for sig: ', signature)\n",
    "\n",
    "        # Inset Model Data to Database (modeldata)\n",
    "        signature_data =  {\n",
    "            'signature': signature,\n",
    "            'parent': parent,\n",
    "            'username': username,\n",
    "            'organisation':organisation,\n",
    "            'model_source': model_source,\n",
    "            'model_data': model_id\n",
    "        }\n",
    "\n",
    "        x = db_col_signature.insert_one(signature_data)\n",
    "        signature_model_id = x.inserted_id\n",
    "        return signature_model_id\n",
    "    else:\n",
    "        print('signature: ', signature, ' already in database')\n",
    "        return None\n",
    "\n",
    "\n",
    "def push_model(model, local=True, parent=None, username=bb_username, organisation = bb_organisation):\n",
    "    signature, layer_data = create_model_data(model)\n",
    "\n",
    "    write_model_db(\n",
    "        signature=signature,\n",
    "        model_data=layer_data,\n",
    "        parent=parent,\n",
    "        username=username,\n",
    "        organisation=organisation,\n",
    "        local=local\n",
    "    )\n",
    "    return signature\n",
    "\n",
    "\n",
    "\n",
    "def get_model(signature):\n",
    "    signature_data = db_col_signature.find_one({'signature': signature})\n",
    "    if(signature_data):\n",
    "        return signature_data\n",
    "    else:\n",
    "        return None\n",
    "\n",
    "\n",
    "# The web framework gets post_id from the URL and passes it as a string\n",
    "def get_model_data(model_id):\n",
    "    document = db_col_data.find_one({'_id': ObjectId(model_id)})\n",
    "    return document\n"
   ],
   "outputs": [],
   "metadata": {}
  },
  {
   "cell_type": "code",
   "execution_count": 9,
   "source": [
    "#initialise model database\n",
    "init_model_db()"
   ],
   "outputs": [],
   "metadata": {}
  },
  {
   "cell_type": "code",
   "execution_count": null,
   "source": [],
   "outputs": [],
   "metadata": {}
  },
  {
   "cell_type": "code",
   "execution_count": 10,
   "source": [
    "# get a signature and write it to the model\n",
    "\n",
    "\n",
    "parent = push_model(model_resnet50)\n",
    "last = push_model(model_resnet50_imagenet,parent=parent)\n",
    "parent = push_model(model_vgg16)\n",
    "last = push_model(model_vgg16_test, parent=parent)\n"
   ],
   "outputs": [],
   "metadata": {}
  },
  {
   "cell_type": "code",
   "execution_count": 11,
   "source": [
    "# Make a small adjustment to test the SHA change\n",
    "\n",
    "\n",
    "for x in range(5):\n",
    "    weights = model_vgg16_test.layers[1].get_weights()\n",
    "    weights[0][0][0][0] = weights[0][0][0][0] * 1.004\n",
    "    model_vgg16_test.layers[1].set_weights(weights)\n",
    "    last = push_model(model_vgg16_test, parent=last, username='brendanboner@gmail.com')\n",
    "    print(last)\n"
   ],
   "outputs": [
    {
     "output_type": "stream",
     "name": "stdout",
     "text": [
      "9a11959ca3ccc4a4630496009d9f2ec91322860aba85dbdfdf7183aa2dd421e7\n",
      "b0fe13fd81b208c8f45af40b25796995bffb99bd21d16a365db9d26c88742fee\n",
      "b24d3115dbf5c4d6bc2caa6ec56a311520848a5424269ba8cc1c380bb11863b1\n",
      "a8c975d545e933677cc8c176dcce4e90fc71c4ac05bc1fe4f5b0ba063fc607cb\n",
      "f56da1d129fcbfa5e67de07c3677c81f76813d96aa4845b2d7bc908e3b7120e9\n"
     ]
    }
   ],
   "metadata": {}
  },
  {
   "cell_type": "code",
   "execution_count": null,
   "source": [
    "\n"
   ],
   "outputs": [],
   "metadata": {}
  },
  {
   "cell_type": "code",
   "execution_count": 14,
   "source": [
    "# Get model and write to layer\n",
    "\n",
    "def show_history(signature):\n",
    "\n",
    "    print(\"Getting Signature: \",signature)\n",
    "    signature_data = get_model(signature)\n",
    "    baseline_model_data = get_model_data(signature_data['model_data'])\n",
    "\n",
    "    if baseline_model_data == None:\n",
    "        print ('no model data for : ', signature_data['model_data'])\n",
    "    else:\n",
    "        print('Layers: ', len(baseline_model_data['data']))\n",
    "        print( signature_data['_id'].generation_time, ' : Model Id ', signature_data['model_data'])\n",
    "        old_data = baseline_model_data['data']\n",
    "\n",
    "        history = []\n",
    "        while signature_data['parent'] != None:\n",
    "\n",
    "            # get model\n",
    "            signature_data = get_model(signature_data['parent'])\n",
    "            print( signature_data['_id'].generation_time, ' : Model Id ', signature_data['model_data'])\n",
    "\n",
    "            new_model_data = get_model_data(signature_data['model_data'])\n",
    "            if new_model_data == None:\n",
    "                print ('no model data for : ', signature_data['model_data'])\n",
    "            else:\n",
    "                history_layer = []\n",
    "                data = new_model_data['data']\n",
    "                for key, value in data.items():\n",
    "                    if (old_data[key]['weight_std'] == 0):\n",
    "                        history_layer.append(old_data[key]['weight_std'])\n",
    "                    else:\n",
    "                        history_layer.append(\n",
    "                            value['weight_std']  / old_data[key]['weight_std'],\n",
    "                        )\n",
    "\n",
    "                history.append(history_layer)\n",
    "                old_data = new_model_data['data']\n",
    "\n",
    "\n",
    " \n",
    "\n",
    "        print(signature_data['username'], signature_data['organisation'])\n",
    "        print(history[0])\n",
    "\n",
    "\n",
    "# show_history('5c6b29d372e51b3a95c245d851322f0b3b8387a02fbb6b680e3ccd48fdba7f45') # trained VGG16\n",
    "show_history('f56da1d129fcbfa5e67de07c3677c81f76813d96aa4845b2d7bc908e3b7120e9')\n",
    "\n",
    "# show_history('071a8536a9a01f58cefab7281f075aa99738392932a85b85ed936b30dc875c5d') # ResNet50"
   ],
   "outputs": [
    {
     "output_type": "stream",
     "name": "stdout",
     "text": [
      "Getting Signature:  f56da1d129fcbfa5e67de07c3677c81f76813d96aa4845b2d7bc908e3b7120e9\n",
      "Layers:  23\n",
      "2021-08-03 01:05:30+00:00  : Model Id  6108965aadfdf2d304fbf905\n",
      "2021-08-03 01:05:26+00:00  : Model Id  61089656adfdf2d304fbf903\n",
      "2021-08-03 01:05:23+00:00  : Model Id  61089653adfdf2d304fbf901\n",
      "2021-08-03 01:05:20+00:00  : Model Id  61089650adfdf2d304fbf8ff\n",
      "2021-08-03 01:05:17+00:00  : Model Id  6108964dadfdf2d304fbf8fd\n",
      "2021-08-03 01:02:04+00:00  : Model Id  6108958cadfdf2d304fbf8fb\n",
      "2021-08-03 01:01:59+00:00  : Model Id  61089587adfdf2d304fbf8f9\n",
      "brendan.bonner@mail.dcu.ie DCU\n",
      "[0.0, 0.9998779512789286, 1.0, 0.0, 1.0, 1.0, 0.0, 1.0, 1.0, 1.0, 0.0, 1.0, 1.0, 1.0, 0.0, 1.0, 1.0, 1.0, 0.0, 0.0, 1.0, 1.0, 1.0]\n"
     ]
    }
   ],
   "metadata": {}
  },
  {
   "cell_type": "code",
   "execution_count": 6,
   "source": [
    "def diff_model(model_vgg16, model_resnet50):\n",
    "    for l1, l2 in zip(model_vgg16.layers, model_resnet50.layers):\n",
    "        w1 = l1.get_weights()\n",
    "        w2 = l2.get_weights()\n",
    "        if len(w1) > 0:\n",
    "            wa1 = np.ndarray.flatten(w1[0])\n",
    "            wa2 = np.ndarray.flatten(w2[0])\n",
    "            # Weights available\n",
    "            print(l1.get_config()['name'],\n",
    "                w1[0].shape,\n",
    "                np.std(wa1), np.median(wa1),\n",
    "                w2[0].shape,\n",
    "                np.std(wa2), np.median(wa2),\n",
    "                np.std(wa1) == np.std(wa2)\n",
    "            )\n",
    "            \n",
    "        else:\n",
    "            print(l1.get_config()['name'],len(w1))"
   ],
   "outputs": [],
   "metadata": {}
  },
  {
   "cell_type": "code",
   "execution_count": null,
   "source": [],
   "outputs": [],
   "metadata": {}
  },
  {
   "cell_type": "code",
   "execution_count": null,
   "source": [
    "print(layer_data['structure'])"
   ],
   "outputs": [],
   "metadata": {}
  },
  {
   "cell_type": "code",
   "execution_count": null,
   "source": [],
   "outputs": [],
   "metadata": {}
  },
  {
   "cell_type": "code",
   "execution_count": null,
   "source": [],
   "outputs": [],
   "metadata": {}
  },
  {
   "cell_type": "code",
   "execution_count": null,
   "source": [
    "\n",
    "\n",
    "\n",
    "\n",
    "\n",
    "\n",
    "\n",
    "\n",
    "\n",
    "\n",
    "\n",
    "\n"
   ],
   "outputs": [],
   "metadata": {}
  },
  {
   "cell_type": "code",
   "execution_count": 15,
   "source": [
    "#Display a comparison of multiple layers\n",
    "def get_weights_print_stats(layer):\n",
    "    W = layer.get_weights()\n",
    "    if len(W) > 0:\n",
    "        print(len(W))\n",
    "        print(W[0].shape)\n",
    "    return W\n",
    "\n",
    "def hist_weights(weights, bins=100, label='default'):\n",
    "    for weight in weights:\n",
    "        \n",
    "        plt.hist(np.ndarray.flatten(weight), bins=bins, label=label)\n",
    "\n",
    "'''\n",
    "for l1, l2 in zip(model_vgg16.layers, model_resnet50.layers):\n",
    "    print(l1.get_config()['name'])\n",
    "    W = get_weights_print_stats(l1)\n",
    "    hist_weights(W, label='Model 1')\n",
    "    W = get_weights_print_stats(l2)\n",
    "    hist_weights(W, label='Model 2')\n",
    "    plt.show()\n",
    "'''\n",
    "\n",
    "show_all = False\n",
    "\n",
    "std1 = []\n",
    "std2 = []\n",
    "skew1 = []\n",
    "skew2 = []\n",
    "\n",
    "for l1, l2 in zip(model_vgg16.layers, model_vgg16_test.layers):\n",
    "\n",
    "    w1 = l1.get_weights()\n",
    "    w2 = l2.get_weights()\n",
    "\n",
    "\n",
    "    if len(w1) > 0:\n",
    "        # Layers available\n",
    "\n",
    "        weight1_value   = np.ndarray.flatten(w1[0])\n",
    "        weight1_skew  = skew(np.ndarray.flatten(w1[0]))\n",
    "        weight1_std     = np.std(weight1_value).item()\n",
    "        # print('std1 {:.4f}, skew1 {:.4f}'.format(weight1_std, weight1_skew))\n",
    "        \n",
    "        weight2_value   = np.ndarray.flatten(w2[0])\n",
    "        weight2_skew  = skew(np.ndarray.flatten(w2[0]))\n",
    "        weight2_std     = np.std(weight2_value).item()\n",
    "        # print('std2 {:.4f}, skew2 {:.4f}'.format(weight2_std, weight2_skew))\n",
    "\n",
    "        std1.append(weight1_std)\n",
    "        std2.append(weight2_std)\n",
    "        skew1.append(weight1_skew)\n",
    "        skew2.append(weight2_skew)\n",
    "        \n",
    "        if show_all:\n",
    "            print(l1.get_config()['name'],len(w1), w1[0].shape)\n",
    "            plt.hist(\n",
    "                [ np.ndarray.flatten(w1[0]),\n",
    "                np.ndarray.flatten(w2[0])],\n",
    "                alpha=0.5, bins=1000, label=['X','Y'])\n",
    "            plt.legend(loc='upper right')\n",
    "\n",
    "            plt.show()\n",
    "\n",
    "    else:\n",
    "        print(l1.get_config()['name'],len(w1))\n",
    "\n",
    "\n",
    "layers = len(model_vgg16.layers)\n"
   ],
   "outputs": [
    {
     "output_type": "stream",
     "name": "stdout",
     "text": [
      "input_1 0\n",
      "block1_pool 0\n",
      "block2_pool 0\n",
      "block3_pool 0\n",
      "block4_pool 0\n",
      "block5_pool 0\n",
      "flatten 0\n"
     ]
    }
   ],
   "metadata": {}
  },
  {
   "cell_type": "code",
   "execution_count": 16,
   "source": [
    "layers = len(std1)\n",
    "print(layers)\n",
    "plt.bar( np.arange(layers) * 2, std1, color = 'red' , alpha=0.5, label='std1')\n",
    "plt.bar( np.arange(layers)* 2 + 1, std2, color = 'blue', alpha=0.5, label='std2' )\n",
    "plt.legend(loc='upper right')\n",
    "\n",
    "plt.show\n",
    "\n"
   ],
   "outputs": [
    {
     "output_type": "stream",
     "name": "stdout",
     "text": [
      "16\n"
     ]
    },
    {
     "output_type": "execute_result",
     "data": {
      "text/plain": [
       "<function matplotlib.pyplot.show(close=None, block=None)>"
      ]
     },
     "metadata": {},
     "execution_count": 16
    },
    {
     "output_type": "display_data",
     "data": {
      "text/plain": [
       "<Figure size 432x288 with 1 Axes>"
      ],
      "image/png": "[encoded data removed]"
     },
     "metadata": {
      "needs_background": "light"
     }
    }
   ],
   "metadata": {}
  },
  {
   "cell_type": "code",
   "execution_count": 17,
   "source": [
    "layers = len(skew1)\n",
    "print(layers)\n",
    "plt.bar( np.arange(layers) * 2, skew1, color = 'red' , alpha=0.5, label='skew1')\n",
    "plt.bar( np.arange(layers)* 2 + 1, skew2, color = 'blue', alpha=0.5, label='skew2' )\n",
    "plt.legend(loc='upper right')\n",
    "plt.show"
   ],
   "outputs": [
    {
     "output_type": "stream",
     "name": "stdout",
     "text": [
      "16\n"
     ]
    },
    {
     "output_type": "execute_result",
     "data": {
      "text/plain": [
       "<function matplotlib.pyplot.show(close=None, block=None)>"
      ]
     },
     "metadata": {},
     "execution_count": 17
    },
    {
     "output_type": "display_data",
     "data": {
      "text/plain": [
       "<Figure size 432x288 with 1 Axes>"
      ],
      "image/png": "[encoded data removed]"
     },
     "metadata": {
      "needs_background": "light"
     }
    }
   ],
   "metadata": {}
  }
 ],
 "metadata": {
  "orig_nbformat": 4,
  "language_info": {
   "name": "python",
   "version": "3.8.10",
   "mimetype": "text/x-python",
   "codemirror_mode": {
    "name": "ipython",
    "version": 3
   },
   "pygments_lexer": "ipython3",
   "nbconvert_exporter": "python",
   "file_extension": ".py"
  },
  "kernelspec": {
   "name": "python3",
   "display_name": "Python 3.8.10 64-bit ('base': conda)"
  },
  "interpreter": {
   "hash": "90948722effb0dbfc6ba9cb222e51e19b083ecb130b6edbb8e1b374c6a2c8c07"
  }
 },
 "nbformat": 4,
 "nbformat_minor": 2
}