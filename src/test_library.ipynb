{
 "cells": [
  {
   "cell_type": "markdown",
   "source": [
    "This notebook is the tester for developing a system for recording models in a simplistic method"
   ],
   "metadata": {}
  },
  {
   "cell_type": "code",
   "execution_count": 1,
   "source": [
    "import numpy as np\n",
    "import pandas as pd\n",
    "import tensorflow as tf\n",
    "import matplotlib.pyplot as plt\n"
   ],
   "outputs": [],
   "metadata": {}
  },
  {
   "cell_type": "code",
   "execution_count": 33,
   "source": [
    "from lifecycle import database\n",
    "from lifecycle import models\n",
    "\n",
    "\n",
    "%load_ext autoreload\n",
    "%autoreload 2\n",
    "from lifecycle import database\n",
    "\n",
    "my_life = models.lifecycle()\n",
    "mydb = database.lifecycle_db (\n",
    "    username = 'projectUser',password = 'DCUpassword',\n",
    "    user='brendan.bonner2@mail.dcu.ie', organisation='Dublin City University',\n",
    "    lifecycle=my_life)\n",
    "mydb.init_model_db()\n"
   ],
   "outputs": [
    {
     "output_type": "stream",
     "name": "stdout",
     "text": [
      "The autoreload extension is already loaded. To reload it, use:\n",
      "  %reload_ext autoreload\n"
     ]
    }
   ],
   "metadata": {}
  },
  {
   "cell_type": "code",
   "execution_count": 3,
   "source": [
    "model_vgg16 = tf.keras.applications.VGG16(\n",
    "    include_top=True,\n",
    "    weights=None,\n",
    "    input_tensor=None,\n",
    "    input_shape=None,\n",
    "    pooling=None,\n",
    "    classes=1000\n",
    ")\n",
    "\n",
    "model_vgg16_imagenet = tf.keras.applications.VGG16(\n",
    "    include_top=True,\n",
    "    weights=\"imagenet\",\n",
    "    input_tensor=None,\n",
    "    input_shape=None,\n",
    "    pooling=None,\n",
    "    classes=1000\n",
    ")\n",
    "\n",
    "\n",
    "model_vgg16_test = tf.keras.applications.VGG16(\n",
    "    include_top=True,\n",
    "    weights=\"imagenet\",\n",
    "    input_tensor=None,\n",
    "    input_shape=None,\n",
    "    pooling=None,\n",
    "    classes=1000\n",
    ")\n",
    "\n",
    "model_resnet50 = tf.keras.applications.ResNet50(\n",
    "    include_top=True,\n",
    "    weights=None,\n",
    "    input_tensor=None,\n",
    "    input_shape=None,\n",
    "    pooling=None,\n",
    "    classes=500\n",
    ")\n",
    "\n",
    "\n",
    "model_resnet50_imagenet = tf.keras.applications.ResNet50(\n",
    "    include_top=True,\n",
    "    weights='imagenet',\n",
    "    input_tensor=None,\n",
    "    input_shape=None,\n",
    "    pooling=None\n",
    ")"
   ],
   "outputs": [],
   "metadata": {}
  },
  {
   "cell_type": "code",
   "execution_count": 5,
   "source": [
    "\n"
   ],
   "outputs": [],
   "metadata": {}
  },
  {
   "cell_type": "code",
   "execution_count": 34,
   "source": [
    "\n",
    "signature1, layer_data1 = my_life.create_model_data(model_vgg16)\n",
    "print(signature1)\n",
    "signature2, layer_data2 = my_life.create_model_data(model_vgg16_test)\n",
    "print(signature2)\n",
    "\n",
    "'''\n",
    "639f6c10531158279d29f277bce0b7791315b45037069ab4d2952b73a94eeb09\n",
    "ede69fca86a03c780a98dcec6fc1cfe406a3448dcba95663baa18bf853bc2f0f\n",
    "'''"
   ],
   "outputs": [
    {
     "output_type": "stream",
     "name": "stdout",
     "text": [
      "639f6c10531158279d29f277bce0b7791315b45037069ab4d2952b73a94eeb09\n",
      "ede69fca86a03c780a98dcec6fc1cfe406a3448dcba95663baa18bf853bc2f0f\n"
     ]
    },
    {
     "output_type": "execute_result",
     "data": {
      "text/plain": [
       "'\\n639f6c10531158279d29f277bce0b7791315b45037069ab4d2952b73a94eeb09\\nede69fca86a03c780a98dcec6fc1cfe406a3448dcba95663baa18bf853bc2f0f\\n'"
      ]
     },
     "metadata": {},
     "execution_count": 34
    }
   ],
   "metadata": {}
  },
  {
   "cell_type": "code",
   "execution_count": 36,
   "source": [
    "# get a signature and write it to the model\n",
    "\n",
    "local = True\n",
    "parent = mydb.push_model(model_resnet50,local=local)\n",
    "last = mydb.push_model(model_resnet50_imagenet,parent=parent,local=local)\n",
    "print(parent, last)\n",
    "parent = mydb.push_model(model_vgg16_imagenet,local=local)\n",
    "last = mydb.push_model(model_vgg16_test, parent=parent,local=local)\n",
    "print(parent, last)\n"
   ],
   "outputs": [
    {
     "output_type": "stream",
     "name": "stdout",
     "text": [
      "signature:  dfb42f093ee7cf4dac160cb6c4e33a4b5f86f466db7e953d5a8677dd7f508132  already in database\n",
      "signature:  11038ddd9667dc41fdda32191266367a344ac28c0dde3bb3f5a86d8c7b67f0b0  already in database\n",
      "dfb42f093ee7cf4dac160cb6c4e33a4b5f86f466db7e953d5a8677dd7f508132 11038ddd9667dc41fdda32191266367a344ac28c0dde3bb3f5a86d8c7b67f0b0\n",
      "signature:  ede69fca86a03c780a98dcec6fc1cfe406a3448dcba95663baa18bf853bc2f0f  already in database\n",
      "signature:  ede69fca86a03c780a98dcec6fc1cfe406a3448dcba95663baa18bf853bc2f0f  already in database\n",
      "ede69fca86a03c780a98dcec6fc1cfe406a3448dcba95663baa18bf853bc2f0f ede69fca86a03c780a98dcec6fc1cfe406a3448dcba95663baa18bf853bc2f0f\n"
     ]
    }
   ],
   "metadata": {}
  },
  {
   "cell_type": "code",
   "execution_count": 37,
   "source": [
    "# Push all default models from Keras\n",
    "keras_model_list = {\n",
    "    'VGG16': tf.keras.applications.VGG16,\n",
    "    'DenseNet121': tf.keras.applications.DenseNet121,\n",
    "    'Xception': tf.keras.applications.Xception\n",
    "}\n",
    "\n",
    "for name, model_type in enumerate(keras_model_list):\n",
    "    print(model_type)\n",
    "    model = keras_model_list[model_type]()\n",
    "    print(mydb.push_model(model,model_source = model_type, organisation='Keras',local=local))\n",
    "\n"
   ],
   "outputs": [
    {
     "output_type": "stream",
     "name": "stdout",
     "text": [
      "VGG16\n",
      "signature:  ede69fca86a03c780a98dcec6fc1cfe406a3448dcba95663baa18bf853bc2f0f  already in database\n",
      "ede69fca86a03c780a98dcec6fc1cfe406a3448dcba95663baa18bf853bc2f0f\n",
      "DenseNet121\n",
      "signature:  42f9a65180edde3acf9eb4a0ff56659d79e2f7093e62d5a2de315555307b5e96  already in database\n",
      "42f9a65180edde3acf9eb4a0ff56659d79e2f7093e62d5a2de315555307b5e96\n",
      "Xception\n",
      "signature:  bbd930cc56dfa39dc55e1318d9b5da2571d9eff0eeb96de7648faacb69c253cd  already in database\n",
      "bbd930cc56dfa39dc55e1318d9b5da2571d9eff0eeb96de7648faacb69c253cd\n"
     ]
    }
   ],
   "metadata": {}
  },
  {
   "cell_type": "code",
   "execution_count": 39,
   "source": [
    "xception1 = mydb.get_model_data(signature='bbd930cc56dfa39dc55e1318d9b5da2571d9eff0eeb96de7648faacb69c253cd')\n",
    "xception2 = mydb.get_model_data(signature='bbd930cc56dfa39dc55e1318d9b5da2571d9eff0eeb96de7648faacb69c253cd')\n",
    "\n",
    "x = xception1['structure']\n",
    "y = xception2['structure']\n",
    "\n",
    "shared_items = {k: x[k] for k in x if k in y and x[k] == y[k]}\n",
    "print (len(shared_items))\n",
    "unshared_items = {k: x[k] for k in x if k in y and x[k] != y[k]}\n",
    "print (len(unshared_items))\n"
   ],
   "outputs": [
    {
     "output_type": "stream",
     "name": "stdout",
     "text": [
      "signatture bbd930cc56dfa39dc55e1318d9b5da2571d9eff0eeb96de7648faacb69c253cd\n",
      "signatture bbd930cc56dfa39dc55e1318d9b5da2571d9eff0eeb96de7648faacb69c253cd\n",
      "134\n",
      "0\n"
     ]
    }
   ],
   "metadata": {}
  },
  {
   "cell_type": "code",
   "execution_count": 41,
   "source": [
    "# Make a small adjustment to test the SHA change\n",
    "last = mydb.push_model(model_vgg16_test, parent=last, user='brendanboner@gmail.com', local=False)\n",
    "\n",
    "for x in range(5):\n",
    "    weights = model_vgg16_test.layers[1].get_weights()\n",
    "    weights[0][0][0][0] = weights[0][0][0][0] * 1.004\n",
    "    model_vgg16_test.layers[1].set_weights(weights)\n",
    "    last = mydb.push_model(model_vgg16_test, parent=last)\n",
    "    print(last)\n"
   ],
   "outputs": [
    {
     "output_type": "stream",
     "name": "stdout",
     "text": [
      "signature:  ede69fca86a03c780a98dcec6fc1cfe406a3448dcba95663baa18bf853bc2f0f  already in database\n",
      "f93ad7c257c280ee7bdf2e3ac74166c785174e33d7e43cf066fa91f6c623db42\n",
      "bfb6f85b578bc1a768c941ca25765af982712ab9a36c23968a73bcc7c3511853\n",
      "f569e9b42874e1d9c4123ae231cc7629fa92459630fdf6bcd9b1a8e318cb34a9\n",
      "96130c2c370d9a5719da42d3354aa887db4f1ce8ae2fdb40e04fbad6cd704c26\n",
      "d5bdacfc8c24d32299dd824118356c0056116130038533efa185a8758a991618\n"
     ]
    }
   ],
   "metadata": {}
  },
  {
   "cell_type": "code",
   "execution_count": null,
   "source": [
    "\n"
   ],
   "outputs": [],
   "metadata": {}
  },
  {
   "cell_type": "code",
   "execution_count": 43,
   "source": [
    "# Get model and write to layer\n",
    "\n",
    "def show_history(signature):\n",
    "\n",
    "    print(\"Getting Signature: \",signature)\n",
    "    signature_data = mydb.get_model(signature)\n",
    "    if (signature_data):\n",
    "        baseline_model_data = mydb.get_model_data(signature_data['model_data'])\n",
    "\n",
    "        if baseline_model_data == None:\n",
    "            print ('no model data for : ', signature_data['model_data'])\n",
    "        else:\n",
    "            print('Layers: ', len(baseline_model_data['data']))\n",
    "            print( signature_data['_id'].generation_time, ' : Model Id ', signature_data['model_data'])\n",
    "            old_data = baseline_model_data['data']\n",
    "\n",
    "            history = []\n",
    "            while signature_data['parent'] != None:\n",
    "\n",
    "                # get model\n",
    "                signature_data = mydb.get_model(signature_data['parent'])\n",
    "                print( signature_data['_id'].generation_time, ' : Model Id ', signature_data['model_data'])\n",
    "\n",
    "                new_model_data = mydb.get_model_data(signature_data['model_data'])\n",
    "                if new_model_data == None:\n",
    "                    print ('no model data for : ', signature_data['model_data'])\n",
    "                else:\n",
    "                    history_layer = []\n",
    "                    data = new_model_data['data']\n",
    "                    for key, value in data.items():\n",
    "                        if (old_data[key]['weight_std'] == 0):\n",
    "                            history_layer.append(old_data[key]['weight_std'])\n",
    "                        else:\n",
    "                            history_layer.append(\n",
    "                                value['weight_std']  / old_data[key]['weight_std']\n",
    "                            )\n",
    "\n",
    "                    history.append(history_layer)\n",
    "                    old_data = new_model_data['data']\n",
    "\n",
    "\n",
    "    \n",
    "\n",
    "            print(signature_data['username'], signature_data['organisation'])\n",
    "            print(history)\n",
    "    else:\n",
    "        print('signature not found')\n",
    "\n",
    "\n",
    "\n",
    "\n",
    "show_history('d5bdacfc8c24d32299dd824118356c0056116130038533efa185a8758a991618')\n",
    "\n",
    "# show_history('c7e952212c1c260c0bba4d0624ef0baad6082470a18aa51798d33ea708874930') # ResNet50"
   ],
   "outputs": [
    {
     "output_type": "stream",
     "name": "stdout",
     "text": [
      "Getting Signature:  d5bdacfc8c24d32299dd824118356c0056116130038533efa185a8758a991618\n",
      "Layers:  23\n",
      "2021-08-04 00:38:37+00:00  : Model Id  6109e18dccb38775bdde0a51\n",
      "2021-08-04 00:38:34+00:00  : Model Id  6109e18accb38775bdde0a4f\n",
      "2021-08-04 00:38:31+00:00  : Model Id  6109e187ccb38775bdde0a4d\n",
      "2021-08-04 00:38:28+00:00  : Model Id  6109e184ccb38775bdde0a4b\n",
      "2021-08-04 00:38:25+00:00  : Model Id  6109e181ccb38775bdde0a49\n",
      "2021-08-04 00:22:38+00:00  : Model Id  6109ddceccb38775bdde0a41\n",
      " \n",
      "[[0, 0.9998779512789286, 1.0, 0, 1.0, 1.0, 0, 1.0, 1.0, 1.0, 0, 1.0, 1.0, 1.0, 0, 1.0, 1.0, 1.0, 0, 0, 1.0, 1.0, 1.0], [0, 0.9998789451714579, 1.0, 0, 1.0, 1.0, 0, 1.0, 1.0, 1.0, 0, 1.0, 1.0, 1.0, 0, 1.0, 1.0, 1.0, 0, 0, 1.0, 1.0, 1.0], [0, 0.999879795297445, 1.0, 0, 1.0, 1.0, 0, 1.0, 1.0, 1.0, 0, 1.0, 1.0, 1.0, 0, 1.0, 1.0, 1.0, 0, 0, 1.0, 1.0, 1.0], [0, 0.9998807898801996, 1.0, 0, 1.0, 1.0, 0, 1.0, 1.0, 1.0, 0, 1.0, 1.0, 1.0, 0, 1.0, 1.0, 1.0, 0, 0, 1.0, 1.0, 1.0], [0, 0.9998816406565643, 1.0, 0, 1.0, 1.0, 0, 1.0, 1.0, 1.0, 0, 1.0, 1.0, 1.0, 0, 1.0, 1.0, 1.0, 0, 0, 1.0, 1.0, 1.0]]\n"
     ]
    }
   ],
   "metadata": {}
  },
  {
   "cell_type": "code",
   "execution_count": null,
   "source": [
    "def diff_model(model_vgg16, model_resnet50):\n",
    "    for l1, l2 in zip(model_vgg16.layers, model_resnet50.layers):\n",
    "        w1 = l1.get_weights()\n",
    "        w2 = l2.get_weights()\n",
    "        if len(w1) > 0:\n",
    "            wa1 = np.ndarray.flatten(w1[0])\n",
    "            wa2 = np.ndarray.flatten(w2[0])\n",
    "            # Weights available\n",
    "            print(l1.get_config()['name'],\n",
    "                w1[0].shape,\n",
    "                np.std(wa1), np.median(wa1),\n",
    "                w2[0].shape,\n",
    "                np.std(wa2), np.median(wa2),\n",
    "                np.std(wa1) == np.std(wa2)\n",
    "            )\n",
    "            \n",
    "        else:\n",
    "            print(l1.get_config()['name'],len(w1))"
   ],
   "outputs": [],
   "metadata": {}
  },
  {
   "cell_type": "code",
   "execution_count": 16,
   "source": [
    "#Display a comparison of multiple layers\n",
    "def get_weights_print_stats(layer):\n",
    "    W = layer.get_weights()\n",
    "    if len(W) > 0:\n",
    "        print(len(W))\n",
    "        print(W[0].shape)\n",
    "    return W\n",
    "\n",
    "def hist_weights(weights, bins=100, label='default'):\n",
    "    for weight in weights:\n",
    "        \n",
    "        plt.hist(np.ndarray.flatten(weight), bins=bins, label=label)\n",
    "\n",
    "'''\n",
    "for l1, l2 in zip(model_vgg16.layers, model_resnet50.layers):\n",
    "    print(l1.get_config()['name'])\n",
    "    W = get_weights_print_stats(l1)\n",
    "    hist_weights(W, label='Model 1')\n",
    "    W = get_weights_print_stats(l2)\n",
    "    hist_weights(W, label='Model 2')\n",
    "    plt.show()\n",
    "'''\n",
    "\n",
    "show_all = False\n",
    "\n",
    "hist_std1 = []\n",
    "hist_std2 = []\n",
    "hist_skew1 = []\n",
    "hist_skew2 = []\n",
    "\n",
    "for l1, l2 in zip(model_vgg16_imagenet.layers, model_vgg16.layers):\n",
    "\n",
    "    w1 = l1.get_weights()\n",
    "    w2 = l2.get_weights()\n",
    "\n",
    "\n",
    "    if len(w1) > 0:\n",
    "        # Layers available\n",
    "\n",
    "        weight1_value   = np.ndarray.flatten(w1[0])\n",
    "        weight1_skew  = skew(np.ndarray.flatten(w1[0]))\n",
    "        weight1_std     = np.std(weight1_value).item()\n",
    "        # print('std1 {:.4f}, skew1 {:.4f}'.format(weight1_std, weight1_skew))\n",
    "        \n",
    "        weight2_value   = np.ndarray.flatten(w2[0])\n",
    "        weight2_skew  = skew(np.ndarray.flatten(w2[0]))\n",
    "        weight2_std     = np.std(weight2_value).item()\n",
    "        # print('std2 {:.4f}, skew2 {:.4f}'.format(weight2_std, weight2_skew))\n",
    "\n",
    "        hist_std1.append(weight1_std)\n",
    "        hist_std2.append(weight2_std)\n",
    "        hist_skew1.append(weight1_skew)\n",
    "        hist_skew2.append(weight2_skew)\n",
    "        \n",
    "        if show_all:\n",
    "            print(l1.get_config()['name'],len(w1), w1[0].shape)\n",
    "            plt.hist(\n",
    "                [ np.ndarray.flatten(w1[0]),\n",
    "                np.ndarray.flatten(w2[0])],\n",
    "                alpha=0.5, bins=1000, label=['X','Y'])\n",
    "            plt.legend(loc='upper right')\n",
    "\n",
    "            plt.show()\n",
    "\n"
   ],
   "outputs": [],
   "metadata": {}
  },
  {
   "cell_type": "code",
   "execution_count": null,
   "source": [
    "hist_std = 1\n",
    "hist_skew = 1\n",
    "for i,v in enumerate(hist_std1):\n",
    "    if (v != 0):\n",
    "        hist_std = (hist_std2[i] / v) * hist_std\n",
    "    if (hist_skew1[i] != 0):\n",
    "        hist_skew = (hist_skew2[i] / hist_skew1[i]) * hist_skew\n",
    "\n",
    "print ('std diff : {:.4f} %'.format((1-hist_std) * 100))\n",
    "print ('skw diff : {:.4f} %'.format((1-hist_skew) * 100))\n",
    "\n",
    "layers = len(hist_std1)\n",
    "plt.bar( np.arange(layers) * 2, hist_std1, color = 'red' , alpha=0.5, label='std1')\n",
    "plt.bar( np.arange(layers)* 2 + 1, hist_std2, color = 'blue', alpha=0.5, label='std2' )\n",
    "plt.legend(loc='upper right')\n",
    "\n",
    "plt.show\n",
    "\n"
   ],
   "outputs": [
    {
     "output_type": "stream",
     "name": "stdout",
     "text": [
      "std diff : -126595.3922 %\n",
      "skw diff : 100.0000 %\n"
     ]
    },
    {
     "output_type": "execute_result",
     "data": {
      "text/plain": [
       "<function matplotlib.pyplot.show(close=None, block=None)>"
      ]
     },
     "metadata": {},
     "execution_count": 15
    },
    {
     "output_type": "display_data",
     "data": {
      "text/plain": [
       "<Figure size 432x288 with 1 Axes>"
      ],
      "image/png": "[encoded data removed]"
     },
     "metadata": {
      "needs_background": "light"
     }
    }
   ],
   "metadata": {}
  },
  {
   "cell_type": "code",
   "execution_count": null,
   "source": [
    "layers = len(hist_skew1)\n",
    "print(layers)\n",
    "plt.bar( np.arange(layers) * 2, hist_skew1, color = 'red' , alpha=0.5, label='skew1')\n",
    "plt.bar( np.arange(layers)* 2 + 1, hist_skew2, color = 'blue', alpha=0.5, label='skew2' )\n",
    "plt.legend(loc='upper right')\n",
    "plt.show"
   ],
   "outputs": [
    {
     "output_type": "stream",
     "name": "stdout",
     "text": [
      "16\n"
     ]
    },
    {
     "output_type": "execute_result",
     "data": {
      "text/plain": [
       "<function matplotlib.pyplot.show(close=None, block=None)>"
      ]
     },
     "metadata": {},
     "execution_count": 16
    },
    {
     "output_type": "display_data",
     "data": {
      "text/plain": [
       "<Figure size 432x288 with 1 Axes>"
      ],
      "image/png": "[encoded data removed]"
     },
     "metadata": {
      "needs_background": "light"
     }
    }
   ],
   "metadata": {}
  },
  {
   "cell_type": "code",
   "execution_count": null,
   "source": [],
   "outputs": [],
   "metadata": {}
  }
 ],
 "metadata": {
  "orig_nbformat": 4,
  "language_info": {
   "name": "python",
   "version": "3.8.10",
   "mimetype": "text/x-python",
   "codemirror_mode": {
    "name": "ipython",
    "version": 3
   },
   "pygments_lexer": "ipython3",
   "nbconvert_exporter": "python",
   "file_extension": ".py"
  },
  "kernelspec": {
   "name": "python3",
   "display_name": "Python 3.8.10 64-bit ('base': conda)"
  },
  "interpreter": {
   "hash": "90948722effb0dbfc6ba9cb222e51e19b083ecb130b6edbb8e1b374c6a2c8c07"
  }
 },
 "nbformat": 4,
 "nbformat_minor": 2
}