{
 "cells": [
  {
   "cell_type": "markdown",
   "source": [
    "This notebook is the tester for developing a system for recording models in a simplistic method"
   ],
   "metadata": {}
  },
  {
   "cell_type": "code",
   "execution_count": 1,
   "source": [
    "import numpy as np\n",
    "import pandas as pd\n",
    "import tensorflow as tf\n",
    "import matplotlib.pyplot as plt\n",
    "from scipy.stats import skew\n",
    "\n",
    "\n",
    "import logging\n",
    "log = logging.getLogger(__name__)\n",
    "\n",
    "logging.basicConfig(filename='{}.log'.format('test'), level=logging.DEBUG)\n",
    "log.info('Initiated Logging')\n",
    "\n"
   ],
   "outputs": [],
   "metadata": {}
  },
  {
   "cell_type": "code",
   "execution_count": 2,
   "source": [
    "from lifecycle import database\n",
    "from lifecycle import models\n",
    "\n",
    "\n",
    "%load_ext autoreload\n",
    "%autoreload 2\n",
    "\n",
    "log.info('creating model lifecycle class')\n",
    "my_life = models.lifecycle()\n",
    "mydb = database.lifecycle_db (\n",
    "    username = 'projectUser',password = 'DCUpassword',\n",
    "    user='brendan.bonner2@mail.dcu.ie', organisation='Dublin City University',\n",
    "    lifecycle=my_life)\n",
    "mydb.init_model_db()\n"
   ],
   "outputs": [],
   "metadata": {}
  },
  {
   "cell_type": "code",
   "execution_count": 3,
   "source": [
    "model_vgg16 = tf.keras.applications.VGG16(\n",
    "    include_top=True,\n",
    "    weights=None,\n",
    "    input_tensor=None,\n",
    "    input_shape=None,\n",
    "    pooling=None,\n",
    "    classes=1000\n",
    ")\n",
    "\n",
    "model_vgg16_imagenet = tf.keras.applications.VGG16(\n",
    "    include_top=True,\n",
    "    weights=\"imagenet\",\n",
    "    input_tensor=None,\n",
    "    input_shape=None,\n",
    "    pooling=None,\n",
    "    classes=1000\n",
    ")\n",
    "\n",
    "\n",
    "model_vgg16_test = model_vgg16_imagenet\n",
    "\n",
    "model_resnet50 = tf.keras.applications.ResNet50(\n",
    "    include_top=True,\n",
    "    weights=None,\n",
    "    input_tensor=None,\n",
    "    input_shape=None,\n",
    "    pooling=None,\n",
    "    classes=500\n",
    ")\n",
    "\n",
    "\n",
    "model_resnet50_imagenet = tf.keras.applications.ResNet50(\n",
    "    include_top=True,\n",
    "    weights='imagenet',\n",
    "    input_tensor=None,\n",
    "    input_shape=None,\n",
    "    pooling=None\n",
    ")"
   ],
   "outputs": [],
   "metadata": {}
  },
  {
   "cell_type": "code",
   "execution_count": 5,
   "source": [
    "\n"
   ],
   "outputs": [],
   "metadata": {}
  },
  {
   "cell_type": "code",
   "execution_count": 4,
   "source": [
    "\n",
    "vgg_signature1 = mydb.push_model(model_vgg16)\n",
    "print(vgg_signature1)\n",
    "vgg_signature2 = mydb.push_model(model_vgg16_test)\n",
    "print(vgg_signature2)\n",
    "\n"
   ],
   "outputs": [
    {
     "output_type": "stream",
     "name": "stdout",
     "text": [
      "d3736a95cbc627a29203563dbf00a643ec1dffd4bd3a5af2c8b5dd33d11917f0\n",
      "ede69fca86a03c780a98dcec6fc1cfe406a3448dcba95663baa18bf853bc2f0f\n"
     ]
    }
   ],
   "metadata": {}
  },
  {
   "cell_type": "code",
   "execution_count": 5,
   "source": [
    "# get a signature and write it to the model\n",
    "\n",
    "local = True\n",
    "\n",
    "parent = mydb.push_model(model_resnet50,local=local)\n",
    "last = mydb.push_model(model_resnet50_imagenet,parent=parent,local=local)\n",
    "print(parent, last)\n",
    "parent = mydb.push_model(model_vgg16_imagenet,local=local)\n",
    "last = mydb.push_model(model_vgg16_test, parent=parent,local=local)\n",
    "print(parent, last)\n"
   ],
   "outputs": [
    {
     "output_type": "stream",
     "name": "stdout",
     "text": [
      "6908bf510614228f4b57f2428cea4a87a16f7d2bf3880a43cc98edc40d98ce1f 11038ddd9667dc41fdda32191266367a344ac28c0dde3bb3f5a86d8c7b67f0b0\n",
      "ede69fca86a03c780a98dcec6fc1cfe406a3448dcba95663baa18bf853bc2f0f ede69fca86a03c780a98dcec6fc1cfe406a3448dcba95663baa18bf853bc2f0f\n"
     ]
    }
   ],
   "metadata": {}
  },
  {
   "cell_type": "code",
   "execution_count": 6,
   "source": [
    "# Push all default models from Keras\n",
    "keras_model_list = {\n",
    "    'VGG16': tf.keras.applications.VGG16,\n",
    "    'DenseNet121': tf.keras.applications.DenseNet121,\n",
    "    'Xception': tf.keras.applications.Xception,\n",
    "    'ResNet50': tf.keras.applications.ResNet50,\n",
    "    'ResNet50V2': tf.keras.applications.ResNet50V2,\n",
    "    'MobileNet': tf.keras.applications.MobileNet,\n",
    "    'MobileNetV2': tf.keras.applications.MobileNetV2\n",
    "}\n",
    "\n",
    "local=False\n",
    "\n",
    "for name, model_type in enumerate(keras_model_list):\n",
    "    print(model_type)\n",
    "    model = keras_model_list[model_type]()\n",
    "    print(mydb.push_model(model,model_source = model_type, organisation='Keras',local=local))\n",
    "\n"
   ],
   "outputs": [
    {
     "output_type": "stream",
     "name": "stdout",
     "text": [
      "VGG16\n",
      "ede69fca86a03c780a98dcec6fc1cfe406a3448dcba95663baa18bf853bc2f0f\n",
      "DenseNet121\n",
      "42f9a65180edde3acf9eb4a0ff56659d79e2f7093e62d5a2de315555307b5e96\n",
      "Xception\n",
      "bbd930cc56dfa39dc55e1318d9b5da2571d9eff0eeb96de7648faacb69c253cd\n",
      "ResNet50\n",
      "11038ddd9667dc41fdda32191266367a344ac28c0dde3bb3f5a86d8c7b67f0b0\n",
      "ResNet50V2\n",
      "10bf6fbdb86fca9e3e1bce872218c43a7017d4b13b397dfa1ab756eca3dc7d0b\n",
      "MobileNet\n",
      "39b71fdd645325e8eef30d20de0eae89016a1433fad4ce4e72bba89d42194c8e\n",
      "MobileNetV2\n",
      "67e68324dfc941f6318304b99e0afddd8d50fd1636204701949fa2777428f308\n"
     ]
    }
   ],
   "metadata": {}
  },
  {
   "cell_type": "code",
   "execution_count": 56,
   "source": [
    "xception1 = mydb.get_model_data(signature='11038ddd9667dc41fdda32191266367a344ac28c0dde3bb3f5a86d8c7b67f0b0')\n",
    "xception2 = mydb.get_model_data(signature='10bf6fbdb86fca9e3e1bce872218c43a7017d4b13b397dfa1ab756eca3dc7d0b')\n",
    "\n",
    "x = xception1['structure']\n",
    "y = xception2['structure']\n",
    "\n",
    "shared_items = {k: x[k] for k in x if k in y and x[k] == y[k]}\n",
    "print (len(shared_items))\n",
    "unshared_items = {k: x[k] for k in x if k in y and x[k] != y[k]}\n",
    "print (len(unshared_items))\n"
   ],
   "outputs": [
    {
     "output_type": "stream",
     "name": "stdout",
     "text": [
      "24\n",
      "153\n"
     ]
    }
   ],
   "metadata": {}
  },
  {
   "cell_type": "code",
   "execution_count": 61,
   "source": [
    "# Push the default vgg if not already pushed\n",
    "last = mydb.push_model(model_vgg16_imagenet, parent=vgg_signature2, user='brendanboner@gmail.com', local=True)"
   ],
   "outputs": [],
   "metadata": {}
  },
  {
   "cell_type": "code",
   "execution_count": 60,
   "source": [
    "model_vgg16_test = model_vgg16_imagenet"
   ],
   "outputs": [],
   "metadata": {}
  },
  {
   "cell_type": "code",
   "execution_count": 62,
   "source": [
    "# Test capacity to differentiate small changes\n",
    "\n",
    "import random\n",
    "\n",
    "layer_ref = random.randint(0,10)\n",
    "\n",
    "for x in range(10):\n",
    "    weights = model_vgg16_test.layers[1].get_weights()\n",
    "    # weights[0][0][0][0][layer_ref] = weights[0][0][0][0][layer_ref] * 1.001\n",
    "    weights[0][0][0] = weights[0][0][0] * 0.25\n",
    "\n",
    "    model_vgg16_test.layers[1].set_weights(weights)\n",
    "    last = mydb.push_model(model_vgg16_test, parent=last)\n",
    "    print(last)\n"
   ],
   "outputs": [
    {
     "output_type": "stream",
     "name": "stdout",
     "text": [
      "91c9120842bd9efcfb26bd6bae1eb55cf6347702f371bfbdc1ea835f9ecb5d08\n",
      "91c9120842bd9efcfb26bd6bae1eb55cf6347702f371bfbdc1ea835f9ecb5d08\n",
      "91c9120842bd9efcfb26bd6bae1eb55cf6347702f371bfbdc1ea835f9ecb5d08\n",
      "91c9120842bd9efcfb26bd6bae1eb55cf6347702f371bfbdc1ea835f9ecb5d08\n",
      "91c9120842bd9efcfb26bd6bae1eb55cf6347702f371bfbdc1ea835f9ecb5d08\n",
      "91c9120842bd9efcfb26bd6bae1eb55cf6347702f371bfbdc1ea835f9ecb5d08\n",
      "91c9120842bd9efcfb26bd6bae1eb55cf6347702f371bfbdc1ea835f9ecb5d08\n",
      "91c9120842bd9efcfb26bd6bae1eb55cf6347702f371bfbdc1ea835f9ecb5d08\n",
      "91c9120842bd9efcfb26bd6bae1eb55cf6347702f371bfbdc1ea835f9ecb5d08\n",
      "91c9120842bd9efcfb26bd6bae1eb55cf6347702f371bfbdc1ea835f9ecb5d08\n"
     ]
    }
   ],
   "metadata": {}
  },
  {
   "cell_type": "code",
   "execution_count": 63,
   "source": [
    "# Compare Updated Model\n",
    "model_trail = mydb.get_history(last)\n",
    "for x in model_trail:\n",
    "    print_struct = False\n",
    "    if x['structure']:\n",
    "        if x['structure'] > 0: s = True\n",
    "\n",
    "    if x['data']:\n",
    "        print_val = (1 - x['data']) * 100\n",
    "    else:\n",
    "        print_val = 0\n",
    "\n",
    "    print('{} {}, Structure Change: {}, Value Change {:.4f}%'. format(\n",
    "        x['timestamp'],\n",
    "        x['username'],\n",
    "        print_struct,\n",
    "        print_val))\n"
   ],
   "outputs": [
    {
     "output_type": "stream",
     "name": "stdout",
     "text": [
      "2021-08-05 00:50:27+00:00 brendan.bonner2@mail.dcu.ie, Structure Change: False, Value Change 0.0000%\n",
      "2021-08-05 00:50:24+00:00 brendan.bonner2@mail.dcu.ie, Structure Change: False, Value Change 0.0000%\n",
      "2021-08-05 00:50:21+00:00 brendan.bonner2@mail.dcu.ie, Structure Change: False, Value Change 0.0000%\n",
      "2021-08-05 00:50:18+00:00 brendan.bonner2@mail.dcu.ie, Structure Change: False, Value Change 0.0000%\n",
      "2021-08-05 00:50:15+00:00 brendan.bonner2@mail.dcu.ie, Structure Change: False, Value Change 0.0000%\n",
      "2021-08-05 00:50:12+00:00 brendan.bonner2@mail.dcu.ie, Structure Change: False, Value Change 0.0000%\n",
      "2021-08-05 00:50:09+00:00 brendan.bonner2@mail.dcu.ie, Structure Change: False, Value Change -0.0000%\n",
      "2021-08-05 00:50:06+00:00 brendan.bonner2@mail.dcu.ie, Structure Change: False, Value Change -0.0006%\n",
      "2021-08-05 00:50:03+00:00 brendan.bonner2@mail.dcu.ie, Structure Change: False, Value Change -0.0100%\n",
      "2021-08-05 00:50:00+00:00 brendan.bonner2@mail.dcu.ie, Structure Change: False, Value Change -0.1611%\n",
      "2021-08-04 23:57:37+00:00 brendan.bonner2@mail.dcu.ie, Structure Change: False, Value Change -2.5412%\n",
      "2021-08-04 23:57:34+00:00 brendan.bonner2@mail.dcu.ie, Structure Change: False, Value Change -1.4580%\n",
      "2021-08-04 23:57:32+00:00 brendan.bonner2@mail.dcu.ie, Structure Change: False, Value Change -2.2051%\n",
      "2021-08-04 23:57:29+00:00 brendan.bonner2@mail.dcu.ie, Structure Change: False, Value Change -3.2810%\n",
      "2021-08-04 23:57:26+00:00 brendan.bonner2@mail.dcu.ie, Structure Change: False, Value Change -4.7711%\n",
      "2021-08-04 23:57:23+00:00 brendan.bonner2@mail.dcu.ie, Structure Change: False, Value Change -6.7272%\n",
      "2021-08-04 23:57:20+00:00 brendan.bonner2@mail.dcu.ie, Structure Change: False, Value Change -9.1223%\n",
      "2021-08-04 23:57:18+00:00 brendan.bonner2@mail.dcu.ie, Structure Change: False, Value Change -11.8179%\n",
      "2021-08-04 23:57:15+00:00 brendan.bonner2@mail.dcu.ie, Structure Change: False, Value Change -14.5786%\n",
      "2021-08-04 23:57:12+00:00 brendan.bonner2@mail.dcu.ie, Structure Change: False, Value Change -17.1461%\n",
      "2021-08-04 23:49:03+00:00 brendan.bonner2@mail.dcu.ie, Structure Change: False, Value Change -19.3281%\n",
      "2021-08-04 23:49:00+00:00 brendan.bonner2@mail.dcu.ie, Structure Change: False, Value Change 13.5528%\n",
      "2021-08-04 23:48:57+00:00 brendan.bonner2@mail.dcu.ie, Structure Change: False, Value Change 12.5250%\n",
      "2021-08-04 23:48:54+00:00 brendan.bonner2@mail.dcu.ie, Structure Change: False, Value Change 11.2927%\n",
      "2021-08-04 23:48:51+00:00 brendan.bonner2@mail.dcu.ie, Structure Change: False, Value Change 9.8925%\n",
      "2021-08-04 23:48:47+00:00 brendan.bonner2@mail.dcu.ie, Structure Change: False, Value Change 8.3948%\n",
      "2021-08-04 23:48:45+00:00 brendan.bonner2@mail.dcu.ie, Structure Change: False, Value Change 6.8931%\n",
      "2021-08-04 23:48:42+00:00 brendan.bonner2@mail.dcu.ie, Structure Change: False, Value Change 5.4818%\n",
      "2021-08-04 23:48:38+00:00 brendan.bonner2@mail.dcu.ie, Structure Change: False, Value Change 4.2340%\n",
      "2021-08-04 23:48:35+00:00 brendan.bonner2@mail.dcu.ie, Structure Change: False, Value Change 3.1889%\n",
      "2021-08-04 23:46:35+00:00 brendan.bonner2@mail.dcu.ie, Structure Change: False, Value Change 2.3528%\n",
      "2021-08-04 23:46:32+00:00 brendan.bonner2@mail.dcu.ie, Structure Change: False, Value Change 0.0000%\n",
      "2021-08-04 23:46:29+00:00 brendan.bonner2@mail.dcu.ie, Structure Change: False, Value Change 0.0000%\n",
      "2021-08-04 23:46:26+00:00 brendan.bonner2@mail.dcu.ie, Structure Change: False, Value Change 0.0000%\n",
      "2021-08-04 23:46:23+00:00 brendan.bonner2@mail.dcu.ie, Structure Change: False, Value Change 0.0000%\n",
      "2021-08-04 23:46:20+00:00 brendan.bonner2@mail.dcu.ie, Structure Change: False, Value Change 0.0000%\n",
      "2021-08-04 23:46:17+00:00 brendan.bonner2@mail.dcu.ie, Structure Change: False, Value Change 0.0000%\n",
      "2021-08-04 23:46:14+00:00 brendan.bonner2@mail.dcu.ie, Structure Change: False, Value Change 0.0000%\n",
      "2021-08-04 23:46:11+00:00 brendan.bonner2@mail.dcu.ie, Structure Change: False, Value Change 0.0000%\n",
      "2021-08-04 23:46:08+00:00 brendan.bonner2@mail.dcu.ie, Structure Change: False, Value Change 0.0000%\n",
      "2021-08-04 23:39:08+00:00 brendan.bonner2@mail.dcu.ie, Structure Change: False, Value Change 0.0000%\n"
     ]
    }
   ],
   "metadata": {}
  },
  {
   "cell_type": "code",
   "execution_count": 30,
   "source": [
    "\n",
    "ancestor = mydb.get_ancestor(last)"
   ],
   "outputs": [],
   "metadata": {}
  },
  {
   "cell_type": "code",
   "execution_count": 64,
   "source": [
    "#Display a comparison of multiple layers\n",
    "\n",
    "def hist_weights(sig1, sig2):\n",
    "\n",
    "    hist_std1 = []\n",
    "    hist_std2 = []\n",
    "    hist_skew1 = []\n",
    "    hist_skew2 = []\n",
    "\n",
    "    hist_1 = mydb.get_model_data(signature=sig1)\n",
    "    hist_2 = mydb.get_model_data(signature=sig2)\n",
    "\n",
    "    for key, value in hist_1['data'].items():\n",
    "        hist_std1.append(value['weight_std'])\n",
    "        hist_skew1.append(value['skew'])\n",
    "\n",
    "    for key, value in hist_2['data'].items():\n",
    "        hist_std2.append(value['weight_std'])\n",
    "        hist_skew2.append(value['skew'])\n",
    "\n",
    "    layers = len(hist_1['data'])\n",
    "    plt.bar( np.arange(layers) * 2, hist_std1, color = 'red' , alpha=0.5, label='std')\n",
    "    plt.bar( np.arange(layers)* 2 + 1, hist_std2, color = 'blue', alpha=0.5, label='std2' )\n",
    "    plt.legend(loc='upper right')\n",
    "    plt.show\n",
    "\n",
    "    plt.bar( np.arange(layers) * 2 -0.5, hist_skew1, color = 'green' , alpha=0.5, label='skew1')\n",
    "    plt.bar( np.arange(layers)* 2 + 0.5, hist_skew2, color = 'gold', alpha=0.5, label='skew2' )\n",
    "    plt.legend(loc='upper right')\n",
    "    plt.show\n",
    "\n",
    "\n",
    "#hist_weights(sig1, sig2)\n",
    "hist_weights(last, ancestor)\n"
   ],
   "outputs": [
    {
     "output_type": "display_data",
     "data": {
      "text/plain": [
       "<Figure size 432x288 with 1 Axes>"
      ],
      "image/png": "[encoded data removed]"
     },
     "metadata": {
      "needs_background": "light"
     }
    }
   ],
   "metadata": {}
  },
  {
   "cell_type": "code",
   "execution_count": null,
   "source": [
    "hist_std = 1\n",
    "hist_skew = 1\n",
    "for i,v in enumerate(hist_std1):\n",
    "    if (v != 0):\n",
    "        hist_std = (hist_std2[i] / v) * hist_std\n",
    "    if (hist_skew1[i] != 0):\n",
    "        hist_skew = (hist_skew2[i] / hist_skew1[i]) * hist_skew\n",
    "\n",
    "print ('std diff : {:.4f} %'.format((1-hist_std) * 100))\n",
    "print ('skw diff : {:.4f} %'.format((1-hist_skew) * 100))\n",
    "\n",
    "layers = len(hist_std1)\n",
    "\n",
    "\n",
    "plt.bar( np.arange(layers) * 2, hist_std1, color = 'red' , alpha=0.5, label='std1')\n",
    "plt.bar( np.arange(layers)* 2 + 1, hist_std2, color = 'blue', alpha=0.5, label='std2' )\n",
    "plt.legend(loc='upper right')\n",
    "\n",
    "plt.show\n",
    "\n"
   ],
   "outputs": [
    {
     "output_type": "stream",
     "name": "stdout",
     "text": [
      "std diff : -126595.3922 %\n",
      "skw diff : 100.0000 %\n"
     ]
    },
    {
     "output_type": "execute_result",
     "data": {
      "text/plain": [
       "<function matplotlib.pyplot.show(close=None, block=None)>"
      ]
     },
     "metadata": {},
     "execution_count": 15
    },
    {
     "output_type": "display_data",
     "data": {
      "text/plain": [
       "<Figure size 432x288 with 1 Axes>"
      ],
      "image/png": "[encoded data removed]"
     },
     "metadata": {
      "needs_background": "light"
     }
    }
   ],
   "metadata": {}
  },
  {
   "cell_type": "code",
   "execution_count": null,
   "source": [
    "layers = len(hist_skew1)\n",
    "print(layers)\n",
    "plt.bar( np.arange(layers) * 2, hist_skew1, color = 'red' , alpha=0.5, label='skew1')\n",
    "plt.bar( np.arange(layers)* 2 + 1, hist_skew2, color = 'blue', alpha=0.5, label='skew2' )\n",
    "plt.legend(loc='upper right')\n",
    "plt.show"
   ],
   "outputs": [
    {
     "output_type": "stream",
     "name": "stdout",
     "text": [
      "16\n"
     ]
    },
    {
     "output_type": "execute_result",
     "data": {
      "text/plain": [
       "<function matplotlib.pyplot.show(close=None, block=None)>"
      ]
     },
     "metadata": {},
     "execution_count": 16
    },
    {
     "output_type": "display_data",
     "data": {
      "text/plain": [
       "<Figure size 432x288 with 1 Axes>"
      ],
      "image/png": "[encoded data removed]"
     },
     "metadata": {
      "needs_background": "light"
     }
    }
   ],
   "metadata": {}
  },
  {
   "cell_type": "code",
   "execution_count": 45,
   "source": [
    "\n",
    "# first neural network with keras tutorial\n",
    "from numpy import loadtxt\n",
    "from keras.models import Sequential\n",
    "from keras.layers import Dense\n",
    "# define the keras model\n",
    "\n",
    "model1 = Sequential()\n",
    "model1.add(Dense(12, input_dim=8, activation='relu'))\n",
    "model1.add(Dense(8, activation='relu'))\n",
    "model1.add(Dense(1, activation='sigmoid'))\n",
    "model1.compile(loss='binary_crossentropy', optimizer='adam', metrics=['accuracy'])\n",
    "\n",
    "\n",
    "model2 = Sequential()\n",
    "model2.add(Dense(12, input_dim=8, activation='relu'))\n",
    "model2.add(Dense(8, activation='relu'))\n",
    "model2.add(Dense(1, activation='sigmoid'))\n",
    "model2.add(Dense(1, activation='sigmoid'))\n",
    "model2.compile(loss='binary_crossentropy', optimizer='adam', metrics=['accuracy'])\n",
    "\n",
    "print(model1.summary(), model2.summary())\n",
    "\n"
   ],
   "outputs": [
    {
     "output_type": "stream",
     "name": "stdout",
     "text": [
      "Model: \"sequential\"\n",
      "_________________________________________________________________\n",
      "Layer (type)                 Output Shape              Param #   \n",
      "=================================================================\n",
      "dense (Dense)                (None, 12)                108       \n",
      "_________________________________________________________________\n",
      "dense_1 (Dense)              (None, 8)                 104       \n",
      "_________________________________________________________________\n",
      "dense_2 (Dense)              (None, 1)                 9         \n",
      "=================================================================\n",
      "Total params: 221\n",
      "Trainable params: 221\n",
      "Non-trainable params: 0\n",
      "_________________________________________________________________\n",
      "Model: \"sequential_1\"\n",
      "_________________________________________________________________\n",
      "Layer (type)                 Output Shape              Param #   \n",
      "=================================================================\n",
      "dense_3 (Dense)              (None, 12)                108       \n",
      "_________________________________________________________________\n",
      "dense_4 (Dense)              (None, 8)                 104       \n",
      "_________________________________________________________________\n",
      "dense_5 (Dense)              (None, 1)                 9         \n",
      "_________________________________________________________________\n",
      "dense_6 (Dense)              (None, 1)                 2         \n",
      "=================================================================\n",
      "Total params: 223\n",
      "Trainable params: 223\n",
      "Non-trainable params: 0\n",
      "_________________________________________________________________\n",
      "None None\n"
     ]
    }
   ],
   "metadata": {}
  },
  {
   "cell_type": "code",
   "execution_count": 48,
   "source": [
    "\n",
    "sig1 = mydb.push_model(model1)\n",
    "sig2 = mydb.push_model(model2)\n",
    "\n",
    "print(mydb.get_signature(sig1))\n",
    "mydb.compare_models(sig1,sig2)"
   ],
   "outputs": [
    {
     "output_type": "stream",
     "name": "stdout",
     "text": [
      "{'_id': ObjectId('610b31e1a985835c60aec9ab'), 'signature': 'ad0d96dbe354e2c07000ed44e7613fbd15acffda58a0e1ec350cf8a6dbd5bee3', 'parent': None, 'username': 'brendan.bonner2@mail.dcu.ie', 'organisation': 'Dublin City University', 'model_source': '', 'model_data': ObjectId('610b31e1a985835c60aec9aa')}\n"
     ]
    },
    {
     "output_type": "execute_result",
     "data": {
      "text/plain": [
       "{'structure': {'dictionary_item_added': 1},\n",
       " 'data': [0.9886274302058712, 1.1771883825934093, 1.5374055067233445]}"
      ]
     },
     "metadata": {},
     "execution_count": 48
    }
   ],
   "metadata": {}
  },
  {
   "cell_type": "code",
   "execution_count": null,
   "source": [],
   "outputs": [],
   "metadata": {}
  }
 ],
 "metadata": {
  "orig_nbformat": 4,
  "language_info": {
   "name": "python",
   "version": "3.8.10",
   "mimetype": "text/x-python",
   "codemirror_mode": {
    "name": "ipython",
    "version": 3
   },
   "pygments_lexer": "ipython3",
   "nbconvert_exporter": "python",
   "file_extension": ".py"
  },
  "kernelspec": {
   "name": "python3",
   "display_name": "Python 3.8.10 64-bit ('base': conda)"
  },
  "interpreter": {
   "hash": "90948722effb0dbfc6ba9cb222e51e19b083ecb130b6edbb8e1b374c6a2c8c07"
  }
 },
 "nbformat": 4,
 "nbformat_minor": 2
}