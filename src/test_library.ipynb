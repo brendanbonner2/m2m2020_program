{
 "cells": [
  {
   "cell_type": "markdown",
   "source": [
    "This notebook is the tester for developing a system for recording models in a simplistic method"
   ],
   "metadata": {}
  },
  {
   "cell_type": "code",
   "execution_count": 2,
   "source": [
    "import numpy as np\n",
    "import pandas as pd\n",
    "import tensorflow as tf\n",
    "import matplotlib.pyplot as plt\n",
    "from scipy.stats import skew\n",
    "\n",
    "\n",
    "import logging\n",
    "log = logging.getLogger(__name__)\n",
    "\n",
    "logging.basicConfig(filename='{}.log'.format('test'), level=logging.DEBUG)\n",
    "log.info('Initiated Logging')\n",
    "\n"
   ],
   "outputs": [],
   "metadata": {}
  },
  {
   "cell_type": "code",
   "execution_count": 3,
   "source": [
    "%load_ext autoreload\n",
    "%autoreload 2\n",
    "\n",
    "\n",
    "from lifecycle import lifecycle_model\n",
    "from lifecycle import lifecycle_db\n",
    "\n",
    "\n",
    "# local_db_cluster = 'cluster0.7ilyj.mongodb.net'\n",
    "# local_username = 'projectUser'\n",
    "# local_password = 'DCUpassword'\n",
    "# localcloudclient = \"mongodb+srv://{}:{}@{}/local_test\".format(\n",
    "#     local_username, local_password, local_db_cluster\n",
    "#     )\n",
    "\n",
    "my_life = lifecycle_model()\n",
    "mydb = lifecycle_db (\n",
    "#    localclient=localcloudclient,\n",
    "    username = 'projectUser',password = 'DCUpassword',\n",
    "    user='brendan.bonner2@mail.dcu.ie', organisation='Dublin City University',\n",
    "    lifecycle=my_life)\n",
    "mydb.init_model_db()\n"
   ],
   "outputs": [],
   "metadata": {}
  },
  {
   "cell_type": "code",
   "execution_count": 4,
   "source": [
    "model_vgg16 = tf.keras.applications.VGG16(\n",
    "    include_top=True,\n",
    "    weights=\"imagenet\",\n",
    "    input_tensor=None,\n",
    "    input_shape=None,\n",
    "    pooling=None,\n",
    "    classes=1000\n",
    ")\n",
    "\n",
    "model_vgg16_test = model_vgg16\n",
    "\n",
    "model_resnet50 = tf.keras.applications.ResNet50(\n",
    "    include_top=True,\n",
    "    weights='imagenet',\n",
    "    input_tensor=None,\n",
    "    input_shape=None,\n",
    "    pooling=None\n",
    ")"
   ],
   "outputs": [],
   "metadata": {}
  },
  {
   "cell_type": "code",
   "execution_count": 5,
   "source": [
    "\n",
    "\n",
    "signature_vgg = mydb.push_model(model_vgg16,model_source=\"Keras Original VGG\")\n",
    "mydb.push_to_cloud(signature_vgg)\n",
    "signature_resnet = mydb.push_model(model_resnet50,local=False, model_source=\"Keras Original ResNet50\")\n"
   ],
   "outputs": [],
   "metadata": {}
  },
  {
   "cell_type": "code",
   "execution_count": 1,
   "source": [
    "# Write function to get the memory utilisation of data model:\n",
    "import sys\n",
    "\n",
    "def get_size(obj, seen=None):\n",
    "    \"\"\"Recursively finds size of objects\"\"\"\n",
    "    size = sys.getsizeof(obj)\n",
    "    if seen is None:\n",
    "        seen = set()\n",
    "    obj_id = id(obj)\n",
    "    if obj_id in seen:\n",
    "        return 0\n",
    "    # Important mark as seen *before* entering recursion to gracefully handle\n",
    "    # self-referential objects\n",
    "    seen.add(obj_id)\n",
    "    if isinstance(obj, dict):\n",
    "        size += sum([get_size(v, seen) for v in obj.values()])\n",
    "        size += sum([get_size(k, seen) for k in obj.keys()])\n",
    "    elif hasattr(obj, '__dict__'):\n",
    "        size += get_size(obj.__dict__, seen)\n",
    "    elif hasattr(obj, '__iter__') and not isinstance(obj, (str, bytes, bytearray)):\n",
    "        size += sum([get_size(i, seen) for i in obj])\n",
    "    return size"
   ],
   "outputs": [],
   "metadata": {}
  },
  {
   "cell_type": "code",
   "execution_count": 16,
   "source": [
    "\n",
    "import time\n",
    "\n",
    "# Push all default models from Keras\n",
    "keras_model_list = {\n",
    "    'Original VGG16': tf.keras.applications.VGG16,\n",
    "    'Original DenseNet121': tf.keras.applications.DenseNet121,\n",
    "    'Original DenseNet169': tf.keras.applications.DenseNet169,\n",
    "    'Original Xception': tf.keras.applications.Xception,\n",
    "    'Xception': tf.keras.applications.Xception,\n",
    "    'ResNet50': tf.keras.applications.ResNet50,\n",
    "    'ResNet50V2': tf.keras.applications.ResNet50V2,\n",
    "    'MobileNet': tf.keras.applications.MobileNet,\n",
    "    'MobileNetV2': tf.keras.applications.MobileNetV2\n",
    "}\n",
    "\n",
    "for name, model_type in enumerate(keras_model_list):\n",
    "    model = keras_model_list[model_type]()\n",
    "    start = time.time()\n",
    "    signature = mydb.push_model(model,model_source = model_type, organisation='Keras', local=False)\n",
    "    lifecycle_model = mydb.get_model_data(signature=signature,local=False)\n",
    "    end = time.time()\n",
    "\n",
    "    lifecycle_size = get_size(lifecycle_model)\n",
    "    print('{}\\t{}\\t{:.1f}kb\\t{:.02f}s'.format(name, model_type, lifecycle_size/1000, end-start))\n",
    "\n",
    "\n"
   ],
   "outputs": [
    {
     "output_type": "stream",
     "name": "stdout",
     "text": [
      "0\tOriginal VGG16\t38.2kb\t4.07s\n",
      "1\tOriginal DenseNet121\t693.8kb\t0.38s\n",
      "2\tOriginal DenseNet169\t952.1kb\t0.91s\n",
      "3\tOriginal Xception\t219.4kb\t0.26s\n",
      "4\tXception\t219.4kb\t0.26s\n",
      "5\tResNet50\t292.0kb\t0.43s\n",
      "6\tResNet50V2\t311.3kb\t0.43s\n",
      "7\tMobileNet\t149.3kb\t0.18s\n",
      "8\tMobileNetV2\t248.5kb\t0.20s\n"
     ]
    }
   ],
   "metadata": {}
  },
  {
   "cell_type": "code",
   "execution_count": 1,
   "source": [
    "# Make a small adjustment to test the SHA change\n",
    "model_vgg16_test = model_vgg16\n",
    "\n",
    "first_time = True\n",
    "for x in range(5):\n",
    "    weights = model_vgg16_test.layers[1].get_weights()\n",
    "    weights[0][0][0][0] = weights[0][0][0][0] * 1.004\n",
    "    weights[0][0][0] = weights[0][0][0] * 1.025\n",
    "\n",
    "    model_vgg16_test.layers[1].set_weights(weights)\n",
    "    if first_time:\n",
    "        last = mydb.push_model(model_vgg16_test, parent=signature_vgg)\n",
    "    else:\n",
    "        last = mydb.push_model(model_vgg16_test, useParent=True)\n",
    "    first_time = False\n",
    "    print(last)\n",
    "\n",
    "mydb.family_tree(signature_vgg)"
   ],
   "outputs": [
    {
     "output_type": "error",
     "ename": "NameError",
     "evalue": "name 'model_vgg16' is not defined",
     "traceback": [
      "\u001b[0;31m---------------------------------------------------------------------------\u001b[0m",
      "\u001b[0;31mNameError\u001b[0m                                 Traceback (most recent call last)",
      "\u001b[0;32m<ipython-input-1-265b4d74cdfd>\u001b[0m in \u001b[0;36m<module>\u001b[0;34m\u001b[0m\n\u001b[1;32m      1\u001b[0m \u001b[0;31m# Make a small adjustment to test the SHA change\u001b[0m\u001b[0;34m\u001b[0m\u001b[0;34m\u001b[0m\u001b[0;34m\u001b[0m\u001b[0m\n\u001b[0;32m----> 2\u001b[0;31m \u001b[0mmodel_vgg16_test\u001b[0m \u001b[0;34m=\u001b[0m \u001b[0mmodel_vgg16\u001b[0m\u001b[0;34m\u001b[0m\u001b[0;34m\u001b[0m\u001b[0m\n\u001b[0m\u001b[1;32m      3\u001b[0m \u001b[0;34m\u001b[0m\u001b[0m\n\u001b[1;32m      4\u001b[0m \u001b[0mfirst_time\u001b[0m \u001b[0;34m=\u001b[0m \u001b[0;32mTrue\u001b[0m\u001b[0;34m\u001b[0m\u001b[0;34m\u001b[0m\u001b[0m\n\u001b[1;32m      5\u001b[0m \u001b[0;32mfor\u001b[0m \u001b[0mx\u001b[0m \u001b[0;32min\u001b[0m \u001b[0mrange\u001b[0m\u001b[0;34m(\u001b[0m\u001b[0;36m5\u001b[0m\u001b[0;34m)\u001b[0m\u001b[0;34m:\u001b[0m\u001b[0;34m\u001b[0m\u001b[0;34m\u001b[0m\u001b[0m\n",
      "\u001b[0;31mNameError\u001b[0m: name 'model_vgg16' is not defined"
     ]
    }
   ],
   "metadata": {}
  },
  {
   "cell_type": "code",
   "execution_count": 6,
   "source": [
    "# Push all default models from Keras\n",
    "keras_model_list = {\n",
    "    'VGG16': tf.keras.applications.VGG16,\n",
    "    'DenseNet121': tf.keras.applications.DenseNet121,\n",
    "    'Xception': tf.keras.applications.Xception,\n",
    "    'ResNet50': tf.keras.applications.ResNet50,\n",
    "    'ResNet50V2': tf.keras.applications.ResNet50V2,\n",
    "    'MobileNet': tf.keras.applications.MobileNet,\n",
    "    'MobileNetV2': tf.keras.applications.MobileNetV2\n",
    "}\n",
    "\n",
    "local=False\n",
    "\n",
    "for name, model_type in enumerate(keras_model_list):\n",
    "    print(model_type)\n",
    "    model = keras_model_list[model_type]()\n",
    "    print(mydb.push_model(model,model_source = model_type, organisation='Keras',local=local))\n",
    "\n"
   ],
   "outputs": [
    {
     "output_type": "stream",
     "name": "stdout",
     "text": [
      "VGG16\n",
      "ede69fca86a03c780a98dcec6fc1cfe406a3448dcba95663baa18bf853bc2f0f\n",
      "DenseNet121\n",
      "42f9a65180edde3acf9eb4a0ff56659d79e2f7093e62d5a2de315555307b5e96\n",
      "Xception\n",
      "bbd930cc56dfa39dc55e1318d9b5da2571d9eff0eeb96de7648faacb69c253cd\n",
      "ResNet50\n",
      "11038ddd9667dc41fdda32191266367a344ac28c0dde3bb3f5a86d8c7b67f0b0\n",
      "ResNet50V2\n",
      "10bf6fbdb86fca9e3e1bce872218c43a7017d4b13b397dfa1ab756eca3dc7d0b\n",
      "MobileNet\n",
      "39b71fdd645325e8eef30d20de0eae89016a1433fad4ce4e72bba89d42194c8e\n",
      "MobileNetV2\n",
      "67e68324dfc941f6318304b99e0afddd8d50fd1636204701949fa2777428f308\n"
     ]
    }
   ],
   "metadata": {}
  },
  {
   "cell_type": "code",
   "execution_count": 24,
   "source": [
    "# Compare Updated Model\n",
    "last = 'fdbd6c588bf88021f7762d428fbc2e4ab52887fc4634dc3f3c7345d67ad1ff69'\n",
    "model_trail = mydb.get_history(last)\n",
    "for x in model_trail:\n",
    "    print_struct = False\n",
    "    if x['structural_diff']:\n",
    "        if x['structural_diff'] > 0: s = True\n",
    "\n",
    "    if x['data_diff']:\n",
    "        print_weight = (1 - x['data_diff']['weight']) * 100\n",
    "        print_skew = (1 - x['data_diff']['skew']) * 100\n",
    "    else:\n",
    "        print_weight = 0\n",
    "        print_skew = 0\n",
    "\n",
    "    print('{} {}, Structure Change: {}, Weight Change {:.4f}% Skew Change {:.4f}%'. format(\n",
    "        x['timestamp'],\n",
    "        x['username'],\n",
    "        print_struct,\n",
    "        print_weight,\n",
    "        print_skew))\n"
   ],
   "outputs": [
    {
     "output_type": "stream",
     "name": "stdout",
     "text": [
      "2021-08-08 23:24:31+00:00 brendan.bonner2@mail.dcu.ie, Structure Change: False, Weight Change 0.3657% Skew Change -20.6553%\n",
      "2021-08-08 23:24:28+00:00 brendan.bonner2@mail.dcu.ie, Structure Change: False, Weight Change 0.3496% Skew Change -16.1780%\n",
      "2021-08-08 23:24:25+00:00 brendan.bonner2@mail.dcu.ie, Structure Change: False, Weight Change 0.3342% Skew Change -13.1552%\n",
      "2021-08-08 23:24:21+00:00 brendan.bonner2@mail.dcu.ie, Structure Change: False, Weight Change 0.3194% Skew Change -10.9794%\n",
      "2021-08-08 23:24:16+00:00 brendan.bonner2@mail.dcu.ie, Structure Change: False, Weight Change 0.5589% Skew Change -25.9141%\n",
      "2021-08-08 23:04:38+00:00 brendan.bonner2@mail.dcu.ie, Structure Change: False, Weight Change 0.0000% Skew Change 0.0000%\n"
     ]
    }
   ],
   "metadata": {}
  },
  {
   "cell_type": "code",
   "execution_count": 7,
   "source": [
    "\n",
    "ancestor = mydb.get_ancestor(last)"
   ],
   "outputs": [],
   "metadata": {}
  },
  {
   "cell_type": "code",
   "execution_count": 8,
   "source": [
    "#Display a comparison of multiple layers\n",
    "\n",
    "def hist_weights(sig1, sig2):\n",
    "\n",
    "    hist_std1 = []\n",
    "    hist_std2 = []\n",
    "    hist_skew1 = []\n",
    "    hist_skew2 = []\n",
    "\n",
    "    hist_1 = mydb.get_model_data(signature=sig1)\n",
    "    hist_2 = mydb.get_model_data(signature=sig2)\n",
    "\n",
    "    for key, value in hist_1['data'].items():\n",
    "        hist_std1.append(value['weight_std'])\n",
    "        hist_skew1.append(value['skew'])\n",
    "\n",
    "    for key, value in hist_2['data'].items():\n",
    "        hist_std2.append(value['weight_std'])\n",
    "        hist_skew2.append(value['skew'])\n",
    "\n",
    "    layers = len(hist_1['data'])\n",
    "    plt.bar( np.arange(layers) * 2, hist_std1, color = 'red' , alpha=0.5, label='std')\n",
    "    plt.bar( np.arange(layers)* 2 + 1, hist_std2, color = 'blue', alpha=0.5, label='std2' )\n",
    "    plt.legend(loc='upper right')\n",
    "    plt.show\n",
    "\n",
    "    plt.bar( np.arange(layers) * 2 -0.5, hist_skew1, color = 'green' , alpha=0.5, label='skew1')\n",
    "    plt.bar( np.arange(layers)* 2 + 0.5, hist_skew2, color = 'gold', alpha=0.5, label='skew2' )\n",
    "    plt.legend(loc='upper right')\n",
    "    plt.show\n",
    "\n",
    "\n",
    "#hist_weights(sig1, sig2)\n",
    "hist_weights(last, ancestor)\n"
   ],
   "outputs": [
    {
     "output_type": "display_data",
     "data": {
      "text/plain": [
       "<Figure size 432x288 with 1 Axes>"
      ],
      "image/png": "[encoded data removed]"
     },
     "metadata": {
      "needs_background": "light"
     }
    }
   ],
   "metadata": {}
  },
  {
   "cell_type": "code",
   "execution_count": 9,
   "source": [
    "hist_std = 1\n",
    "hist_skew = 1\n",
    "for i,v in enumerate(hist_std1):\n",
    "    if (v != 0):\n",
    "        hist_std = (hist_std2[i] / v) * hist_std\n",
    "    if (hist_skew1[i] != 0):\n",
    "        hist_skew = (hist_skew2[i] / hist_skew1[i]) * hist_skew\n",
    "\n",
    "print ('std diff : {:.4f} %'.format((1-hist_std) * 100))\n",
    "print ('skw diff : {:.4f} %'.format((1-hist_skew) * 100))\n",
    "\n",
    "layers = len(hist_std1)\n",
    "\n",
    "\n",
    "plt.bar( np.arange(layers) * 2, hist_std1, color = 'red' , alpha=0.5, label='std1')\n",
    "plt.bar( np.arange(layers)* 2 + 1, hist_std2, color = 'blue', alpha=0.5, label='std2' )\n",
    "plt.legend(loc='upper right')\n",
    "\n",
    "plt.show\n",
    "\n"
   ],
   "outputs": [
    {
     "output_type": "error",
     "ename": "NameError",
     "evalue": "name 'hist_std1' is not defined",
     "traceback": [
      "\u001b[0;31m---------------------------------------------------------------------------\u001b[0m",
      "\u001b[0;31mNameError\u001b[0m                                 Traceback (most recent call last)",
      "\u001b[0;32m<ipython-input-9-d2098c3c692b>\u001b[0m in \u001b[0;36m<module>\u001b[0;34m\u001b[0m\n\u001b[1;32m      1\u001b[0m \u001b[0mhist_std\u001b[0m \u001b[0;34m=\u001b[0m \u001b[0;36m1\u001b[0m\u001b[0;34m\u001b[0m\u001b[0;34m\u001b[0m\u001b[0m\n\u001b[1;32m      2\u001b[0m \u001b[0mhist_skew\u001b[0m \u001b[0;34m=\u001b[0m \u001b[0;36m1\u001b[0m\u001b[0;34m\u001b[0m\u001b[0;34m\u001b[0m\u001b[0m\n\u001b[0;32m----> 3\u001b[0;31m \u001b[0;32mfor\u001b[0m \u001b[0mi\u001b[0m\u001b[0;34m,\u001b[0m\u001b[0mv\u001b[0m \u001b[0;32min\u001b[0m \u001b[0menumerate\u001b[0m\u001b[0;34m(\u001b[0m\u001b[0mhist_std1\u001b[0m\u001b[0;34m)\u001b[0m\u001b[0;34m:\u001b[0m\u001b[0;34m\u001b[0m\u001b[0;34m\u001b[0m\u001b[0m\n\u001b[0m\u001b[1;32m      4\u001b[0m     \u001b[0;32mif\u001b[0m \u001b[0;34m(\u001b[0m\u001b[0mv\u001b[0m \u001b[0;34m!=\u001b[0m \u001b[0;36m0\u001b[0m\u001b[0;34m)\u001b[0m\u001b[0;34m:\u001b[0m\u001b[0;34m\u001b[0m\u001b[0;34m\u001b[0m\u001b[0m\n\u001b[1;32m      5\u001b[0m         \u001b[0mhist_std\u001b[0m \u001b[0;34m=\u001b[0m \u001b[0;34m(\u001b[0m\u001b[0mhist_std2\u001b[0m\u001b[0;34m[\u001b[0m\u001b[0mi\u001b[0m\u001b[0;34m]\u001b[0m \u001b[0;34m/\u001b[0m \u001b[0mv\u001b[0m\u001b[0;34m)\u001b[0m \u001b[0;34m*\u001b[0m \u001b[0mhist_std\u001b[0m\u001b[0;34m\u001b[0m\u001b[0;34m\u001b[0m\u001b[0m\n",
      "\u001b[0;31mNameError\u001b[0m: name 'hist_std1' is not defined"
     ]
    }
   ],
   "metadata": {}
  },
  {
   "cell_type": "code",
   "execution_count": null,
   "source": [
    "layers = len(hist_skew1)\n",
    "print(layers)\n",
    "plt.bar( np.arange(layers) * 2, hist_skew1, color = 'red' , alpha=0.5, label='skew1')\n",
    "plt.bar( np.arange(layers)* 2 + 1, hist_skew2, color = 'blue', alpha=0.5, label='skew2' )\n",
    "plt.legend(loc='upper right')\n",
    "plt.show"
   ],
   "outputs": [
    {
     "output_type": "stream",
     "name": "stdout",
     "text": [
      "16\n"
     ]
    },
    {
     "output_type": "execute_result",
     "data": {
      "text/plain": [
       "<function matplotlib.pyplot.show(close=None, block=None)>"
      ]
     },
     "metadata": {},
     "execution_count": 16
    },
    {
     "output_type": "display_data",
     "data": {
      "text/plain": [
       "<Figure size 432x288 with 1 Axes>"
      ],
      "image/png": "[encoded data removed]"
     },
     "metadata": {
      "needs_background": "light"
     }
    }
   ],
   "metadata": {}
  },
  {
   "cell_type": "code",
   "execution_count": 45,
   "source": [
    "\n",
    "# first neural network with keras tutorial\n",
    "from numpy import loadtxt\n",
    "from keras.models import Sequential\n",
    "from keras.layers import Dense\n",
    "# define the keras model\n",
    "\n",
    "model1 = Sequential()\n",
    "model1.add(Dense(12, input_dim=8, activation='relu'))\n",
    "model1.add(Dense(8, activation='relu'))\n",
    "model1.add(Dense(1, activation='sigmoid'))\n",
    "model1.compile(loss='binary_crossentropy', optimizer='adam', metrics=['accuracy'])\n",
    "\n",
    "\n",
    "model2 = Sequential()\n",
    "model2.add(Dense(12, input_dim=8, activation='relu'))\n",
    "model2.add(Dense(8, activation='relu'))\n",
    "model2.add(Dense(1, activation='sigmoid'))\n",
    "model2.add(Dense(1, activation='sigmoid'))\n",
    "model2.compile(loss='binary_crossentropy', optimizer='adam', metrics=['accuracy'])\n",
    "\n",
    "print(model1.summary(), model2.summary())\n",
    "\n"
   ],
   "outputs": [
    {
     "output_type": "stream",
     "name": "stdout",
     "text": [
      "Model: \"sequential\"\n",
      "_________________________________________________________________\n",
      "Layer (type)                 Output Shape              Param #   \n",
      "=================================================================\n",
      "dense (Dense)                (None, 12)                108       \n",
      "_________________________________________________________________\n",
      "dense_1 (Dense)              (None, 8)                 104       \n",
      "_________________________________________________________________\n",
      "dense_2 (Dense)              (None, 1)                 9         \n",
      "=================================================================\n",
      "Total params: 221\n",
      "Trainable params: 221\n",
      "Non-trainable params: 0\n",
      "_________________________________________________________________\n",
      "Model: \"sequential_1\"\n",
      "_________________________________________________________________\n",
      "Layer (type)                 Output Shape              Param #   \n",
      "=================================================================\n",
      "dense_3 (Dense)              (None, 12)                108       \n",
      "_________________________________________________________________\n",
      "dense_4 (Dense)              (None, 8)                 104       \n",
      "_________________________________________________________________\n",
      "dense_5 (Dense)              (None, 1)                 9         \n",
      "_________________________________________________________________\n",
      "dense_6 (Dense)              (None, 1)                 2         \n",
      "=================================================================\n",
      "Total params: 223\n",
      "Trainable params: 223\n",
      "Non-trainable params: 0\n",
      "_________________________________________________________________\n",
      "None None\n"
     ]
    }
   ],
   "metadata": {}
  },
  {
   "cell_type": "code",
   "execution_count": 48,
   "source": [
    "\n",
    "sig1 = mydb.push_model(model1)\n",
    "sig2 = mydb.push_model(model2)\n",
    "\n",
    "print(mydb.get_signature(sig1))\n",
    "mydb.compare_models(sig1,sig2)"
   ],
   "outputs": [
    {
     "output_type": "stream",
     "name": "stdout",
     "text": [
      "{'_id': ObjectId('610b31e1a985835c60aec9ab'), 'signature': 'ad0d96dbe354e2c07000ed44e7613fbd15acffda58a0e1ec350cf8a6dbd5bee3', 'parent': None, 'username': 'brendan.bonner2@mail.dcu.ie', 'organisation': 'Dublin City University', 'model_source': '', 'model_data': ObjectId('610b31e1a985835c60aec9aa')}\n"
     ]
    },
    {
     "output_type": "execute_result",
     "data": {
      "text/plain": [
       "{'structure': {'dictionary_item_added': 1},\n",
       " 'data': [0.9886274302058712, 1.1771883825934093, 1.5374055067233445]}"
      ]
     },
     "metadata": {},
     "execution_count": 48
    }
   ],
   "metadata": {}
  },
  {
   "cell_type": "code",
   "execution_count": 11,
   "source": [
    "import hashlib\n",
    "import time \n",
    "model = tf.keras.applications.VGG16()\n",
    "\n",
    "start = time.time()\n",
    "sha = hashlib.sha256()\n",
    "sha.update(repr(model).encode('utf-8'))\n",
    "end = time.time()\n",
    "print('base model hash:', end-start)\n",
    "\n",
    "start = time.time()\n",
    "my_life.create_model_data(model)\n",
    "end = time.time()\n",
    "print('mydb model hash:', end-start)\n",
    "\n",
    "\n"
   ],
   "outputs": [
    {
     "output_type": "stream",
     "name": "stdout",
     "text": [
      "base model hash: 0.0001442432403564453\n",
      "mydb model hash: 4.187538146972656\n"
     ]
    }
   ],
   "metadata": {}
  },
  {
   "cell_type": "code",
   "execution_count": null,
   "source": [],
   "outputs": [],
   "metadata": {}
  }
 ],
 "metadata": {
  "orig_nbformat": 4,
  "language_info": {
   "name": "python",
   "version": "3.6.13",
   "mimetype": "text/x-python",
   "codemirror_mode": {
    "name": "ipython",
    "version": 3
   },
   "pygments_lexer": "ipython3",
   "nbconvert_exporter": "python",
   "file_extension": ".py"
  },
  "kernelspec": {
   "name": "python3",
   "display_name": "Python 3.6.13 64-bit ('lifecycle': conda)"
  },
  "interpreter": {
   "hash": "1b898f264c82dac465c396532731bb86787e46422ebd999ff35205ae90278b44"
  }
 },
 "nbformat": 4,
 "nbformat_minor": 2
}