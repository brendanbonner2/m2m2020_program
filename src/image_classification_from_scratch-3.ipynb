{
 "cells": [
  {
   "cell_type": "markdown",
   "source": [
    "# Image classification from scratch\n",
    "\n",
    "**Author:** [fchollet](https://twitter.com/fchollet)<br>\n",
    "**Date created:** 2020/04/27<br>\n",
    "**Last modified:** 2020/04/28<br>\n",
    "**Description:** Training an image classifier from scratch on the Kaggle Cats vs Dogs dataset."
   ],
   "metadata": {
    "id": "QXtqdnSR0S1D"
   }
  },
  {
   "cell_type": "markdown",
   "source": [
    "## Introduction\n",
    "\n",
    "This example shows how to do image classification from scratch, starting from JPEG\n",
    "image files on disk, without leveraging pre-trained weights or a pre-made Keras\n",
    "Application model. We demonstrate the workflow on the Kaggle Cats vs Dogs binary\n",
    " classification dataset.\n",
    "\n",
    "We use the `image_dataset_from_directory` utility to generate the datasets, and\n",
    "we use Keras image preprocessing layers for image standardization and data augmentation.\n"
   ],
   "metadata": {
    "id": "FJgo6uHA0S1G"
   }
  },
  {
   "cell_type": "markdown",
   "source": [
    "## Setup\n"
   ],
   "metadata": {
    "id": "u90Kx-To0S1G"
   }
  },
  {
   "cell_type": "code",
   "execution_count": 5,
   "source": [
    "import tensorflow as tf\n",
    "from tensorflow import keras\n",
    "from tensorflow.keras import layers\n",
    "import matplotlib.pyplot as plt\n"
   ],
   "outputs": [],
   "metadata": {
    "id": "pmITheAS0S1H"
   }
  },
  {
   "cell_type": "code",
   "execution_count": 6,
   "source": [
    "# setup lifecycle environment\n",
    "\n",
    "%load_ext autoreload\n",
    "%autoreload 2\n",
    "\n",
    "import logging\n",
    "log = logging.getLogger(__name__)\n",
    "logging.basicConfig(filename='{}.log'.format('classifier'), level=logging.DEBUG)\n",
    "log.info('Initiated Logging')\n",
    "\n",
    "from lifecycle import database\n",
    "from lifecycle import models\n",
    "from lifecycle import callback\n",
    "\n",
    "log.info('creating model lifecycle class')\n",
    "my_life = models.lifecycle()\n",
    "mydb = database.lifecycle_db (\n",
    "    username = 'projectUser',password = 'DCUpassword',\n",
    "    user='brendan.bonner2@mail.dcu.ie', organisation='Dublin City University',\n",
    "    lifecycle=my_life)\n",
    "mydb.init_model_db()\n",
    "\n"
   ],
   "outputs": [],
   "metadata": {}
  },
  {
   "cell_type": "markdown",
   "source": [
    "## Load the data: the Cats vs Dogs dataset\n",
    "\n",
    "### Raw data download\n",
    "\n",
    "First, let's download the 786M ZIP archive of the raw data:\n"
   ],
   "metadata": {
    "id": "Lvk6AG3a0S1H"
   }
  },
  {
   "cell_type": "code",
   "execution_count": 3,
   "source": [
    "!curl -O https://download.microsoft.com/download/3/E/1/3E1C3F21-ECDB-4869-8368-6DEBA77B919F/kagglecatsanddogs_3367a.zip\n"
   ],
   "outputs": [
    {
     "output_type": "stream",
     "name": "stdout",
     "text": [
      "  % Total    % Received % Xferd  Average Speed   Time    Time     Time  Current\n",
      "                                 Dload  Upload   Total   Spent    Left  Speed\n",
      "100  786M  100  786M    0     0  16.6M      0  0:00:47  0:00:47 --:--:-- 17.0M\n"
     ]
    }
   ],
   "metadata": {
    "id": "OWhL58x50S1H"
   }
  },
  {
   "cell_type": "code",
   "execution_count": null,
   "source": [
    "!unzip -q kagglecatsanddogs_3367a.zip\n",
    "!ls\n",
    "\n"
   ],
   "outputs": [],
   "metadata": {
    "id": "SRKWe9rM0S1I"
   }
  },
  {
   "cell_type": "markdown",
   "source": [
    "Now we have a `PetImages` folder which contain two subfolders, `Cat` and `Dog`. Each\n",
    " subfolder contains image files for each category.\n"
   ],
   "metadata": {
    "id": "zLWqQhJ90S1I"
   }
  },
  {
   "cell_type": "code",
   "execution_count": 7,
   "source": [
    "\n",
    "!ls /tmp/PetImages\n"
   ],
   "outputs": [
    {
     "output_type": "stream",
     "name": "stdout",
     "text": [
      "\u001b[1m\u001b[36mCat\u001b[m\u001b[m \u001b[1m\u001b[36mDog\u001b[m\u001b[m\n"
     ]
    }
   ],
   "metadata": {
    "id": "wQm_-dOv0S1I"
   }
  },
  {
   "cell_type": "markdown",
   "source": [
    "### Filter out corrupted images\n",
    "\n",
    "When working with lots of real-world image data, corrupted images are a common\n",
    "occurence. Let's filter out badly-encoded images that do not feature the string \"JFIF\"\n",
    " in their header.\n"
   ],
   "metadata": {
    "id": "pYmF9bXn0S1J"
   }
  },
  {
   "cell_type": "code",
   "execution_count": 3,
   "source": [
    "import os\n",
    "\n",
    "num_skipped = 0\n",
    "for folder_name in (\"Cat\", \"Dog\"):\n",
    "    folder_path = os.path.join(\"/tmp/PetImages\", folder_name)\n",
    "    for fname in os.listdir(folder_path):\n",
    "        fpath = os.path.join(folder_path, fname)\n",
    "        try:\n",
    "            fobj = open(fpath, \"rb\")\n",
    "            is_jfif = tf.compat.as_bytes(\"JFIF\") in fobj.peek(10)\n",
    "        finally:\n",
    "            fobj.close()\n",
    "\n",
    "        if not is_jfif:\n",
    "            num_skipped += 1\n",
    "            # Delete corrupted image\n",
    "            os.remove(fpath)\n",
    "\n",
    "print(\"Deleted %d images\" % num_skipped)\n"
   ],
   "outputs": [
    {
     "output_type": "stream",
     "name": "stdout",
     "text": [
      "Deleted 0 images\n"
     ]
    }
   ],
   "metadata": {
    "id": "_etrIkIL0S1J"
   }
  },
  {
   "cell_type": "markdown",
   "source": [
    "## Generate a `Dataset`\n"
   ],
   "metadata": {
    "id": "0Dol8SVZ0S1J"
   }
  },
  {
   "cell_type": "code",
   "execution_count": 7,
   "source": [
    "image_size = (180, 180)\n",
    "batch_size = 32\n",
    "\n",
    "train_ds = tf.keras.preprocessing.image_dataset_from_directory(\n",
    "    \"/tmp/PetImages\",\n",
    "    validation_split=0.2,\n",
    "    subset=\"training\",\n",
    "    seed=1337,\n",
    "    image_size=image_size,\n",
    "    batch_size=batch_size,\n",
    ")\n",
    "val_ds = tf.keras.preprocessing.image_dataset_from_directory(\n",
    "    \"/tmp/PetImages\",\n",
    "    validation_split=0.2,\n",
    "    subset=\"validation\",\n",
    "    seed=1337,\n",
    "    image_size=image_size,\n",
    "    batch_size=batch_size,\n",
    ")\n"
   ],
   "outputs": [
    {
     "output_type": "stream",
     "name": "stdout",
     "text": [
      "Found 13303 files belonging to 2 classes.\n",
      "Using 10643 files for training.\n",
      "Found 13303 files belonging to 2 classes.\n",
      "Using 2660 files for validation.\n"
     ]
    }
   ],
   "metadata": {
    "id": "LWO8COdv0S1J"
   }
  },
  {
   "cell_type": "markdown",
   "source": [
    "## Visualize the data\n",
    "\n",
    "Here are the first 9 images in the training dataset. As you can see, label 1 is \"dog\"\n",
    " and label 0 is \"cat\".\n"
   ],
   "metadata": {
    "id": "R4DyvX_B0S1K"
   }
  },
  {
   "cell_type": "code",
   "execution_count": null,
   "source": [
    "import matplotlib.pyplot as plt\n",
    "\n",
    "plt.figure(figsize=(10, 10))\n",
    "for images, labels in train_ds.take(1):\n",
    "    for i in range(9):\n",
    "        ax = plt.subplot(3, 3, i + 1)\n",
    "        plt.imshow(images[i].numpy().astype(\"uint8\"))\n",
    "        plt.title(int(labels[i]))\n",
    "        plt.axis(\"off\")\n"
   ],
   "outputs": [],
   "metadata": {
    "id": "CjFKqI2l0S1K"
   }
  },
  {
   "cell_type": "markdown",
   "source": [
    "## Using image data augmentation\n",
    "\n",
    "When you don't have a large image dataset, it's a good practice to artificially\n",
    "introduce sample diversity by applying random yet realistic transformations to the\n",
    "training images, such as random horizontal flipping or small random rotations. This\n",
    "helps expose the model to different aspects of the training data while slowing down\n",
    " overfitting.\n"
   ],
   "metadata": {
    "id": "DpE56Son0S1K"
   }
  },
  {
   "cell_type": "code",
   "execution_count": 4,
   "source": [
    "data_augmentation = keras.Sequential(\n",
    "    [\n",
    "        layers.experimental.preprocessing.RandomFlip(\"horizontal\"),\n",
    "        layers.experimental.preprocessing.RandomRotation(0.1),\n",
    "    ]\n",
    ")\n"
   ],
   "outputs": [],
   "metadata": {
    "id": "S1T7Lnvo0S1L"
   }
  },
  {
   "cell_type": "markdown",
   "source": [
    "Let's visualize what the augmented samples look like, by applying `data_augmentation`\n",
    " repeatedly to the first image in the dataset:\n"
   ],
   "metadata": {
    "id": "ibqCAqov0S1L"
   }
  },
  {
   "cell_type": "code",
   "execution_count": null,
   "source": [
    "plt.figure(figsize=(10, 10))\n",
    "for images, _ in train_ds.take(1):\n",
    "    for i in range(9):\n",
    "        augmented_images = data_augmentation(images)\n",
    "        ax = plt.subplot(3, 3, i + 1)\n",
    "        plt.imshow(augmented_images[0].numpy().astype(\"uint8\"))\n",
    "        plt.axis(\"off\")\n"
   ],
   "outputs": [],
   "metadata": {
    "id": "KDVRnoK_0S1L"
   }
  },
  {
   "cell_type": "markdown",
   "source": [
    "## Standardizing the data\n",
    "\n",
    "Our image are already in a standard size (180x180), as they are being yielded as\n",
    "contiguous `float32` batches by our dataset. However, their RGB channel values are in\n",
    " the `[0, 255]` range. This is not ideal for a neural network;\n",
    "in general you should seek to make your input values small. Here, we will\n",
    "standardize values to be in the `[0, 1]` by using a `Rescaling` layer at the start of\n",
    " our model.\n"
   ],
   "metadata": {
    "id": "XthS-a540S1M"
   }
  },
  {
   "cell_type": "markdown",
   "source": [
    "## Two options to preprocess the data\n",
    "\n",
    "There are two ways you could be using the `data_augmentation` preprocessor:\n",
    "\n",
    "**Option 1: Make it part of the model**, like this:\n",
    "\n",
    "```python\n",
    "inputs = keras.Input(shape=input_shape)\n",
    "x = data_augmentation(inputs)\n",
    "x = layers.experimental.preprocessing.Rescaling(1./255)(x)\n",
    "...  # Rest of the model\n",
    "```\n",
    "\n",
    "With this option, your data augmentation will happen *on device*, synchronously\n",
    "with the rest of the model execution, meaning that it will benefit from GPU\n",
    " acceleration.\n",
    "\n",
    "Note that data augmentation is inactive at test time, so the input samples will only be\n",
    " augmented during `fit()`, not when calling `evaluate()` or `predict()`.\n",
    "\n",
    "If you're training on GPU, this is the better option.\n",
    "\n",
    "**Option 2: apply it to the dataset**, so as to obtain a dataset that yields batches of\n",
    " augmented images, like this:\n",
    "\n",
    "```python\n",
    "augmented_train_ds = train_ds.map(\n",
    "  lambda x, y: (data_augmentation(x, training=True), y))\n",
    "```\n",
    "\n",
    "With this option, your data augmentation will happen **on CPU**, asynchronously, and will\n",
    " be buffered before going into the model.\n",
    "\n",
    "If you're training on CPU, this is the better option, since it makes data augmentation\n",
    " asynchronous and non-blocking.\n",
    "\n",
    "In our case, we'll go with the first option.\n"
   ],
   "metadata": {
    "id": "GM9xzXMu0S1M"
   }
  },
  {
   "cell_type": "markdown",
   "source": [
    "## Configure the dataset for performance\n",
    "\n",
    "Let's make sure to use buffered prefetching so we can yield data from disk without\n",
    " having I/O becoming blocking:\n"
   ],
   "metadata": {
    "id": "ZY-6balJ0S1M"
   }
  },
  {
   "cell_type": "code",
   "execution_count": 8,
   "source": [
    "train_ds = train_ds.prefetch(buffer_size=32)\n",
    "val_ds = val_ds.prefetch(buffer_size=32)\n"
   ],
   "outputs": [],
   "metadata": {
    "id": "5nA1h0EM0S1N"
   }
  },
  {
   "cell_type": "markdown",
   "source": [
    "## Build a model\n",
    "\n",
    "We'll build a small version of the Xception network. We haven't particularly tried to\n",
    "optimize the architecture; if you want to do a systematic search for the best model\n",
    " configuration, consider using\n",
    "[Keras Tuner](https://github.com/keras-team/keras-tuner).\n",
    "\n",
    "Note that:\n",
    "\n",
    "- We start the model with the `data_augmentation` preprocessor, followed by a\n",
    " `Rescaling` layer.\n",
    "- We include a `Dropout` layer before the final classification layer.\n"
   ],
   "metadata": {
    "id": "l3re29nE0S1N"
   }
  },
  {
   "cell_type": "code",
   "execution_count": 9,
   "source": [
    "\n",
    "def make_model(input_shape, num_classes):\n",
    "    inputs = keras.Input(shape=input_shape)\n",
    "    # Image augmentation block\n",
    "    x = data_augmentation(inputs)\n",
    "\n",
    "    # Entry block\n",
    "    x = layers.experimental.preprocessing.Rescaling(1.0 / 255)(x)\n",
    "    x = layers.Conv2D(32, 3, strides=2, padding=\"same\")(x)\n",
    "    x = layers.BatchNormalization()(x)\n",
    "    x = layers.Activation(\"relu\")(x)\n",
    "\n",
    "    x = layers.Conv2D(64, 3, padding=\"same\")(x)\n",
    "    x = layers.BatchNormalization()(x)\n",
    "    x = layers.Activation(\"relu\")(x)\n",
    "\n",
    "    previous_block_activation = x  # Set aside residual\n",
    "\n",
    "    for size in [128, 256, 512, 728]:\n",
    "        x = layers.Activation(\"relu\")(x)\n",
    "        x = layers.SeparableConv2D(size, 3, padding=\"same\")(x)\n",
    "        x = layers.SeparableConv2D(size, 3, padding=\"same\")(x) #!!!\n",
    "\n",
    "        x = layers.BatchNormalization()(x)\n",
    "\n",
    "        x = layers.Activation(\"relu\")(x)\n",
    "        x = layers.SeparableConv2D(size, 3, padding=\"same\")(x)\n",
    "        x = layers.BatchNormalization()(x)\n",
    "\n",
    "        x = layers.MaxPooling2D(3, strides=2, padding=\"same\")(x)\n",
    "\n",
    "        # Project residual\n",
    "        residual = layers.Conv2D(size, 1, strides=2, padding=\"same\")(\n",
    "            previous_block_activation\n",
    "        )\n",
    "        x = layers.add([x, residual])  # Add back residual\n",
    "        previous_block_activation = x  # Set aside next residual\n",
    "\n",
    "    x = layers.SeparableConv2D(1024, 3, padding=\"same\")(x)\n",
    "    x = layers.BatchNormalization()(x)\n",
    "    x = layers.Activation(\"relu\")(x)\n",
    "\n",
    "    x = layers.GlobalAveragePooling2D()(x)\n",
    "    if num_classes == 2:\n",
    "        activation = \"sigmoid\"\n",
    "        units = 1\n",
    "    else:\n",
    "        activation = \"softmax\"\n",
    "        units = num_classes\n",
    "\n",
    "    x = layers.Dropout(0.5)(x)\n",
    "    outputs = layers.Dense(units, activation=activation)(x)\n",
    "    return keras.Model(inputs, outputs)\n",
    "\n",
    "\n",
    "model = make_model(input_shape=image_size + (3,), num_classes=2)\n",
    "#keras.utils.plot_model(model, show_shapes=True)\n"
   ],
   "outputs": [],
   "metadata": {
    "id": "gMHEgS9o0S1N"
   }
  },
  {
   "cell_type": "markdown",
   "source": [
    "## Lifecycle : Add First Model to Local Repository\n"
   ],
   "metadata": {}
  },
  {
   "cell_type": "code",
   "execution_count": 27,
   "source": [
    "signature = mydb.push_model(model, \n",
    "    model_source = 'https://keras.io/examples/vision/image_classification_from_scratch/',\n",
    "    user = 'bonnerb2',\n",
    "    organisation = 'DCU',\n",
    "    parent=baseline)\n",
    "    \n",
    "print(signature)"
   ],
   "outputs": [
    {
     "output_type": "stream",
     "name": "stdout",
     "text": [
      "563ebf10f1b0ca5d849db1840add6202f4746d3e36bcaa4eda9c09b2d6503b6b\n"
     ]
    }
   ],
   "metadata": {}
  },
  {
   "cell_type": "code",
   "execution_count": null,
   "source": [
    "class UpdateLifecycleCallback(keras.callbacks.Callback):\n",
    "\n",
    "     def on_epoch_end(self, epoch, logs=None):\n",
    "        signature = mydb.push_model(model, \n",
    "            source = 'https://keras.io/examples/vision/image_classification_from_scratch/',\n",
    "            user = 'fchollet',\n",
    "            organisation = 'Keras',\n",
    "            parent = signature )\n",
    "            \n",
    "        keys = list(logs.keys())\n",
    "        print(\"End epoch {} of training; got log keys: {}\".format(epoch, keys))\n",
    "\n",
    "\n",
    "    def on_train_batch_end(self, batch, logs=None):\n",
    "        keys = list(logs.keys())\n",
    "        print(\"...Training: end of batch {}; got log keys: {}\".format(batch, keys))\n",
    "\n",
    "\n"
   ],
   "outputs": [],
   "metadata": {}
  },
  {
   "cell_type": "markdown",
   "source": [
    "## Train the model\n"
   ],
   "metadata": {
    "id": "LGZozNH00S1O"
   }
  },
  {
   "cell_type": "code",
   "execution_count": null,
   "source": [
    "epochs = 50\n",
    "\n",
    "callbacks = [\n",
    "    keras.callbacks.ModelCheckpoint(\"save_at_{epoch}.h5\"),\n",
    "]\n",
    "model.compile(\n",
    "    optimizer=keras.optimizers.Adam(1e-3),\n",
    "    loss=\"binary_crossentropy\",\n",
    "    metrics=[\"accuracy\"],\n",
    ")\n",
    "model.fit(\n",
    "    train_ds, epochs=epochs, callbacks=callbacks, validation_data=val_ds,\n",
    ")\n"
   ],
   "outputs": [],
   "metadata": {
    "id": "BnDnqlV20S1O"
   }
  },
  {
   "cell_type": "markdown",
   "source": [
    "We get to ~96% validation accuracy after training for 50 epochs on the full dataset.\n"
   ],
   "metadata": {
    "id": "Gjqc3xuU0S1O"
   }
  },
  {
   "cell_type": "markdown",
   "source": [
    "## Run inference on new data\n",
    "\n",
    "Note that data augmentation and dropout are inactive at inference time.\n"
   ],
   "metadata": {
    "id": "uiGhFFiO0S1O"
   }
  },
  {
   "cell_type": "code",
   "execution_count": null,
   "source": [
    "img = keras.preprocessing.image.load_img(\n",
    "    \"PetImages/Cat/6779.jpg\", target_size=image_size\n",
    ")\n",
    "img_array = keras.preprocessing.image.img_to_array(img)\n",
    "img_array = tf.expand_dims(img_array, 0)  # Create batch axis\n",
    "\n",
    "predictions = model.predict(img_array)\n",
    "score = predictions[0]\n",
    "print(\n",
    "    \"This image is %.2f percent cat and %.2f percent dog.\"\n",
    "    % (100 * (1 - score), 100 * score)\n",
    ")\n"
   ],
   "outputs": [],
   "metadata": {
    "id": "vwkyhdWv0S1P"
   }
  },
  {
   "cell_type": "code",
   "execution_count": null,
   "source": [
    "sig1 = '94c0166b301082fd8662144e9c70e432629597edb8deee830cb3bd2234d43931'\n",
    "sig2 = '91775713211dadbf5c20590ecee084d4872054d19af91fd05de9e4e8476aedb5'\n",
    "#mydb.plot_history(sig1)\n",
    "mydb.plot_changes(sig1, sig2)\n",
    "#mydb.compare_models(sig1, sig2)\n",
    "\n"
   ],
   "outputs": [],
   "metadata": {}
  },
  {
   "cell_type": "code",
   "execution_count": 34,
   "source": [
    "\n",
    "baseline = '3df6150b0f4aa9faa8c0c7d715df30c22b4515377ffa79b3ad5d47b9cf9bdb32'\n",
    "\n",
    "\n",
    "history = mydb.get_history(baseline, full_data=True)\n",
    "\n",
    "full_weight = []\n",
    "full_skew = []\n",
    "full_date = []\n",
    "\n",
    "for m in history:\n",
    "\n",
    "    date = m['timestamp']\n",
    "\n",
    "    if m['data']:\n",
    "        graph_data_weight = []\n",
    "        graph_data_skew = []\n",
    "        for k,v in m['data'].items():\n",
    "            graph_data_weight.append(v['weight_std'])\n",
    "            graph_data_skew.append(v['skew'])\n",
    "    full_weight.append(graph_data_weight)\n",
    "    full_skew.append(graph_data_skew)\n",
    "    full_date.append(date)\n",
    "\n",
    "print(len(full_weight))\n",
    "print(len(full_skew[1]))\n",
    "   "
   ],
   "outputs": [
    {
     "output_type": "stream",
     "name": "stdout",
     "text": [
      "37\n",
      "51\n"
     ]
    }
   ],
   "metadata": {}
  },
  {
   "cell_type": "code",
   "execution_count": 53,
   "source": [
    "\n",
    "\n",
    "from ipywidgets import interact, interactive, fixed, interact_manual\n",
    "import ipywidgets as widgets\n",
    "import matplotlib.pyplot as plt\n",
    "%matplotlib inline\n",
    "\n",
    "import numpy as np\n",
    "\n",
    "history_size = len(full_weight)\n",
    "max_weight = np.max(full_weight)\n",
    "max_skew = np.max(full_skew)\n",
    "print('History Size', history_size)\n",
    "\n",
    "x = np.arange(0, layers)\n",
    "\n",
    "def plot_func(value):\n",
    "   disptime = value -1\n",
    "   fig, ax = plt.subplots()\n",
    "   layers = len(full_weight[0])\n",
    "   x = np.arange(0, layers)\n",
    "   ax.grid(True)\n",
    "\n",
    "\n",
    "   y_weight = full_weight[disptime]\n",
    "   y_skew = full_skew[disptime]\n",
    "\n",
    "   y = full_weight[disptime]\n",
    "   plt.grid(True)\n",
    "   plt.ylim(0, max_weight*1.1)\n",
    "   plt.title(full_date[disptime])\n",
    "   plt.bar(x, y_skew, color='red', alpha=0.4)\n",
    "   plt.bar(x, y_weight, alpha=0.8)\n",
    "\n",
    "interact(plot_func, value = widgets.IntSlider(value=1, min=1, max=history_size,step=1))\n",
    "\n"
   ],
   "outputs": [
    {
     "output_type": "stream",
     "name": "stdout",
     "text": [
      "History Size 37\n"
     ]
    },
    {
     "output_type": "display_data",
     "data": {
      "text/plain": [
       "interactive(children=(IntSlider(value=1, description='value', max=37, min=1), Output()), _dom_classes=('widget…"
      ],
      "application/vnd.jupyter.widget-view+json": {
       "version_major": 2,
       "version_minor": 0,
       "model_id": "37e5b977cf82497d93099070973ca150"
      }
     },
     "metadata": {}
    },
    {
     "output_type": "execute_result",
     "data": {
      "text/plain": [
       "<function __main__.plot_func(value)>"
      ]
     },
     "metadata": {},
     "execution_count": 53
    }
   ],
   "metadata": {}
  },
  {
   "cell_type": "code",
   "execution_count": 103,
   "source": [
    "\n",
    "from ipywidgets import interact, interactive, fixed, interact_manual\n",
    "import ipywidgets as widgets\n",
    "import matplotlib.pyplot as plt\n",
    "%matplotlib inline\n",
    "\n",
    "import numpy as np\n",
    "\n",
    "history_size = len(full_weight)\n",
    "\n",
    "graphdata = full_weight\n",
    "color1 = 'blue'\n",
    "# graphdata = full_skew\n",
    "# color1 = 'red'\n",
    "max_value = np.max(graphdata)\n",
    "min_value = np.min(graphdata)\n",
    "\n",
    "x = np.arange(0, layers)\n",
    "\n",
    "def plot_func(value):\n",
    "   disptime = value -1\n",
    "   fig, ax = plt.subplots()\n",
    "   layers = len(graphdata[0])\n",
    "   x = np.arange(0, layers)\n",
    "   ax.grid(True)\n",
    "\n",
    "\n",
    "   y_data = graphdata[disptime]\n",
    "\n",
    "   plt.grid(True)\n",
    "   plt.ylim(0, max_value*1.1)\n",
    "   plt.title(full_date[disptime])\n",
    "   plt.bar(x, y_data, color=color1, alpha=0.7)\n",
    "\n",
    "interact(plot_func, value = widgets.IntSlider(value=1, min=1, max=history_size,step=1))\n"
   ],
   "outputs": [
    {
     "output_type": "display_data",
     "data": {
      "text/plain": [
       "interactive(children=(IntSlider(value=1, description='value', max=37, min=1), Output()), _dom_classes=('widget…"
      ],
      "application/vnd.jupyter.widget-view+json": {
       "version_major": 2,
       "version_minor": 0,
       "model_id": "c28329c4d8d943f9b3469812eef57988"
      }
     },
     "metadata": {}
    },
    {
     "output_type": "execute_result",
     "data": {
      "text/plain": [
       "<function __main__.plot_func(value)>"
      ]
     },
     "metadata": {},
     "execution_count": 103
    }
   ],
   "metadata": {}
  },
  {
   "cell_type": "code",
   "execution_count": 101,
   "source": [
    "\n",
    "import matplotlib.pyplot as plt\n",
    "%matplotlib inline\n",
    "import numpy as np\n",
    "from matplotlib import animation\n",
    "\n",
    "\n",
    "history_size = len(full_weight)\n",
    "\n",
    "graphdata = full_weight\n",
    "color1 = 'lightblue'\n",
    "# graphdata = full_skew\n",
    "# color1 = 'red'\n",
    "max_value = np.max(graphdata)\n",
    "min_value = np.min(graphdata)\n",
    "\n",
    "layers = len(graphdata[0])\n",
    "x = np.arange(0, layers)\n",
    "y_data = graphdata[0]\n",
    "\n",
    "# First set up the figure, the axis, and the plot element we want to animate\n",
    "fig = plt.figure()\n",
    "ax = plt.axes(xlim=(0, layers), ylim=(0, max_value*1.1))\n",
    "\n",
    "\n",
    "ax.grid(True)\n",
    "ax.set_title(full_date[0])\n",
    "\n",
    "def animate(value):\n",
    "    ax.clear()\n",
    "    disptime = value -1\n",
    "    ax.set_title(full_date[disptime])\n",
    "    ax.set_ylim(0, max_value*1.1)\n",
    "    ax.legend()\n",
    "    y_data = graphdata[disptime]\n",
    "    bar = ax.bar(x, y_data, label=\"weights\")\n",
    "    return bar\n",
    "    \n",
    "\n",
    "anim = animation.FuncAnimation(fig,animate,frames=history_size,interval=250,blit=True)\n",
    "\n",
    "anim.save('basic_animation.mp4', fps=30, extra_args=['-vcodec', 'libx264'])\n",
    "plt.show()\n",
    "anim.save('basic_animation.mp4')\n",
    "\n"
   ],
   "outputs": [
    {
     "output_type": "display_data",
     "data": {
      "text/plain": [
       "<Figure size 432x288 with 1 Axes>"
      ],
      "image/png": "[encoded data removed]"
     },
     "metadata": {
      "needs_background": "light"
     }
    }
   ],
   "metadata": {}
  },
  {
   "cell_type": "code",
   "execution_count": null,
   "source": [],
   "outputs": [],
   "metadata": {}
  }
 ],
 "metadata": {
  "colab": {
   "collapsed_sections": [],
   "name": "image_classification_from_scratch",
   "provenance": [],
   "toc_visible": true
  },
  "interpreter": {
   "hash": "1b898f264c82dac465c396532731bb86787e46422ebd999ff35205ae90278b44"
  },
  "kernelspec": {
   "name": "python3",
   "display_name": "Python 3.6.13 64-bit ('lifecycle': conda)"
  },
  "language_info": {
   "codemirror_mode": {
    "name": "ipython",
    "version": 3
   },
   "file_extension": ".py",
   "mimetype": "text/x-python",
   "name": "python",
   "nbconvert_exporter": "python",
   "pygments_lexer": "ipython3",
   "version": "3.6.13"
  }
 },
 "nbformat": 4,
 "nbformat_minor": 4
}