{
  "nbformat": 4,
  "nbformat_minor": 2,
  "metadata": {
    "colab": {
      "name": "image_classification_from_scratch",
      "provenance": [],
      "collapsed_sections": [],
      "toc_visible": true
    },
    "kernelspec": {
      "name": "python3",
      "display_name": "Python 3.8.10 64-bit ('base': conda)"
    },
    "language_info": {
      "codemirror_mode": {
        "name": "ipython",
        "version": 3
      },
      "file_extension": ".py",
      "mimetype": "text/x-python",
      "name": "python",
      "nbconvert_exporter": "python",
      "pygments_lexer": "ipython3",
      "version": "3.8.10"
    },
    "interpreter": {
      "hash": "90948722effb0dbfc6ba9cb222e51e19b083ecb130b6edbb8e1b374c6a2c8c07"
    }
  },
  "cells": [
    {
      "cell_type": "markdown",
      "source": [
        "# Image classification from scratch\n",
        "\n",
        "**Author:** [fchollet](https://twitter.com/fchollet)<br>\n",
        "**Date created:** 2020/04/27<br>\n",
        "**Last modified:** 2020/04/28<br>\n",
        "**Description:** Training an image classifier from scratch on the Kaggle Cats vs Dogs dataset."
      ],
      "metadata": {
        "id": "QXtqdnSR0S1D"
      }
    },
    {
      "cell_type": "markdown",
      "source": [
        "## Introduction\n",
        "\n",
        "This example shows how to do image classification from scratch, starting from JPEG\n",
        "image files on disk, without leveraging pre-trained weights or a pre-made Keras\n",
        "Application model. We demonstrate the workflow on the Kaggle Cats vs Dogs binary\n",
        " classification dataset.\n",
        "\n",
        "We use the `image_dataset_from_directory` utility to generate the datasets, and\n",
        "we use Keras image preprocessing layers for image standardization and data augmentation.\n"
      ],
      "metadata": {
        "id": "FJgo6uHA0S1G"
      }
    },
    {
      "cell_type": "markdown",
      "source": [
        "## Setup\n"
      ],
      "metadata": {
        "id": "u90Kx-To0S1G"
      }
    },
    {
      "cell_type": "code",
      "execution_count": 1,
      "source": [
        "import tensorflow as tf\n",
        "from tensorflow import keras\n",
        "from tensorflow.keras import layers\n"
      ],
      "outputs": [],
      "metadata": {
        "id": "pmITheAS0S1H"
      }
    },
    {
      "cell_type": "code",
      "execution_count": 2,
      "source": [
        "# setup lifecycle environment\n",
        "\n",
        "\n",
        "import logging\n",
        "log = logging.getLogger(__name__)\n",
        "logging.basicConfig(filename='{}.log'.format('classifier'), level=logging.DEBUG)\n",
        "log.info('Initiated Logging')\n",
        "\n",
        "from lifecycle import database\n",
        "from lifecycle import models\n",
        "\n",
        "log.info('creating model lifecycle class')\n",
        "my_life = models.lifecycle()\n",
        "mydb = database.lifecycle_db (\n",
        "    username = 'projectUser',password = 'DCUpassword',\n",
        "    user='brendan.bonner2@mail.dcu.ie', organisation='Dublin City University',\n",
        "    lifecycle=my_life)\n",
        "mydb.init_model_db()\n",
        "\n"
      ],
      "outputs": [],
      "metadata": {}
    },
    {
      "cell_type": "markdown",
      "source": [
        "## Load the data: the Cats vs Dogs dataset\n",
        "\n",
        "### Raw data download\n",
        "\n",
        "First, let's download the 786M ZIP archive of the raw data:\n"
      ],
      "metadata": {
        "id": "Lvk6AG3a0S1H"
      }
    },
    {
      "cell_type": "code",
      "execution_count": 3,
      "source": [
        "!curl -O https://download.microsoft.com/download/3/E/1/3E1C3F21-ECDB-4869-8368-6DEBA77B919F/kagglecatsanddogs_3367a.zip\n"
      ],
      "outputs": [
        {
          "output_type": "stream",
          "name": "stdout",
          "text": [
            "  % Total    % Received % Xferd  Average Speed   Time    Time     Time  Current\n",
            "                                 Dload  Upload   Total   Spent    Left  Speed\n",
            "100  786M  100  786M    0     0  16.6M      0  0:00:47  0:00:47 --:--:-- 17.0M\n"
          ]
        }
      ],
      "metadata": {
        "id": "OWhL58x50S1H"
      }
    },
    {
      "cell_type": "code",
      "execution_count": 4,
      "source": [
        "!unzip -q kagglecatsanddogs_3367a.zip\n",
        "!ls\n"
      ],
      "outputs": [
        {
          "output_type": "stream",
          "name": "stdout",
          "text": [
            "^C\n",
            "\u001b[1m\u001b[36m1-create_neural-network\u001b[m\u001b[m\n",
            "\u001b[1m\u001b[36m2-create-metric-measurements\u001b[m\u001b[m\n",
            "\u001b[1m\u001b[36m3-optimise-and-store\u001b[m\u001b[m\n",
            "\u001b[1m\u001b[36m4-visualise-metrics\u001b[m\u001b[m\n",
            "Icon?\n",
            "\u001b[1m\u001b[36mPetImages\u001b[m\u001b[m\n",
            "README.md\n",
            "classifier.log\n",
            "develop_analysis.ipynb\n",
            "image_classification_from_scratch-2.ipynb\n",
            "kagglecatsanddogs_3367a.zip\n",
            "\u001b[1m\u001b[36mlifecycle\u001b[m\u001b[m\n",
            "model_analyser\n",
            "\u001b[1m\u001b[36mpython\u001b[m\u001b[m\n",
            "run_test.py\n",
            "test.log\n",
            "test_library.ipynb\n"
          ]
        }
      ],
      "metadata": {
        "id": "SRKWe9rM0S1I"
      }
    },
    {
      "cell_type": "markdown",
      "source": [
        "Now we have a `PetImages` folder which contain two subfolders, `Cat` and `Dog`. Each\n",
        " subfolder contains image files for each category.\n"
      ],
      "metadata": {
        "id": "zLWqQhJ90S1I"
      }
    },
    {
      "cell_type": "code",
      "execution_count": 5,
      "source": [
        "!ls PetImages\n"
      ],
      "outputs": [
        {
          "output_type": "stream",
          "name": "stdout",
          "text": [
            "\u001b[1m\u001b[36mCat\u001b[m\u001b[m   \u001b[1m\u001b[36mDog\u001b[m\u001b[m   Icon?\n"
          ]
        }
      ],
      "metadata": {
        "id": "wQm_-dOv0S1I"
      }
    },
    {
      "cell_type": "markdown",
      "source": [
        "### Filter out corrupted images\n",
        "\n",
        "When working with lots of real-world image data, corrupted images are a common\n",
        "occurence. Let's filter out badly-encoded images that do not feature the string \"JFIF\"\n",
        " in their header.\n"
      ],
      "metadata": {
        "id": "pYmF9bXn0S1J"
      }
    },
    {
      "cell_type": "code",
      "execution_count": 6,
      "source": [
        "import os\n",
        "\n",
        "num_skipped = 0\n",
        "for folder_name in (\"Cat\", \"Dog\"):\n",
        "    folder_path = os.path.join(\"PetImages\", folder_name)\n",
        "    for fname in os.listdir(folder_path):\n",
        "        fpath = os.path.join(folder_path, fname)\n",
        "        try:\n",
        "            fobj = open(fpath, \"rb\")\n",
        "            is_jfif = tf.compat.as_bytes(\"JFIF\") in fobj.peek(10)\n",
        "        finally:\n",
        "            fobj.close()\n",
        "\n",
        "        if not is_jfif:\n",
        "            num_skipped += 1\n",
        "            # Delete corrupted image\n",
        "            os.remove(fpath)\n",
        "\n",
        "print(\"Deleted %d images\" % num_skipped)\n"
      ],
      "outputs": [
        {
          "output_type": "error",
          "ename": "KeyboardInterrupt",
          "evalue": "",
          "traceback": [
            "\u001b[0;31m---------------------------------------------------------------------------\u001b[0m",
            "\u001b[0;31mKeyboardInterrupt\u001b[0m                         Traceback (most recent call last)",
            "\u001b[0;32m<ipython-input-6-bc63b398184c>\u001b[0m in \u001b[0;36m<module>\u001b[0;34m\u001b[0m\n\u001b[1;32m     15\u001b[0m             \u001b[0mnum_skipped\u001b[0m \u001b[0;34m+=\u001b[0m \u001b[0;36m1\u001b[0m\u001b[0;34m\u001b[0m\u001b[0;34m\u001b[0m\u001b[0m\n\u001b[1;32m     16\u001b[0m             \u001b[0;31m# Delete corrupted image\u001b[0m\u001b[0;34m\u001b[0m\u001b[0;34m\u001b[0m\u001b[0;34m\u001b[0m\u001b[0m\n\u001b[0;32m---> 17\u001b[0;31m             \u001b[0mos\u001b[0m\u001b[0;34m.\u001b[0m\u001b[0mremove\u001b[0m\u001b[0;34m(\u001b[0m\u001b[0mfpath\u001b[0m\u001b[0;34m)\u001b[0m\u001b[0;34m\u001b[0m\u001b[0;34m\u001b[0m\u001b[0m\n\u001b[0m\u001b[1;32m     18\u001b[0m \u001b[0;34m\u001b[0m\u001b[0m\n\u001b[1;32m     19\u001b[0m \u001b[0mprint\u001b[0m\u001b[0;34m(\u001b[0m\u001b[0;34m\"Deleted %d images\"\u001b[0m \u001b[0;34m%\u001b[0m \u001b[0mnum_skipped\u001b[0m\u001b[0;34m)\u001b[0m\u001b[0;34m\u001b[0m\u001b[0;34m\u001b[0m\u001b[0m\n",
            "\u001b[0;31mKeyboardInterrupt\u001b[0m: "
          ]
        }
      ],
      "metadata": {
        "id": "_etrIkIL0S1J"
      }
    },
    {
      "cell_type": "markdown",
      "source": [
        "## Generate a `Dataset`\n"
      ],
      "metadata": {
        "id": "0Dol8SVZ0S1J"
      }
    },
    {
      "cell_type": "code",
      "execution_count": 7,
      "source": [
        "image_size = (180, 180)\n",
        "batch_size = 32\n",
        "\n",
        "train_ds = tf.keras.preprocessing.image_dataset_from_directory(\n",
        "    \"PetImages\",\n",
        "    validation_split=0.2,\n",
        "    subset=\"training\",\n",
        "    seed=1337,\n",
        "    image_size=image_size,\n",
        "    batch_size=batch_size,\n",
        ")\n",
        "val_ds = tf.keras.preprocessing.image_dataset_from_directory(\n",
        "    \"PetImages\",\n",
        "    validation_split=0.2,\n",
        "    subset=\"validation\",\n",
        "    seed=1337,\n",
        "    image_size=image_size,\n",
        "    batch_size=batch_size,\n",
        ")\n"
      ],
      "outputs": [
        {
          "output_type": "stream",
          "name": "stdout",
          "text": [
            "Found 13070 files belonging to 2 classes.\n",
            "Using 10456 files for training.\n"
          ]
        },
        {
          "output_type": "error",
          "ename": "KeyboardInterrupt",
          "evalue": "",
          "traceback": [
            "\u001b[0;31m---------------------------------------------------------------------------\u001b[0m",
            "\u001b[0;31mKeyboardInterrupt\u001b[0m                         Traceback (most recent call last)",
            "\u001b[0;32m<ipython-input-7-818e7bae4d07>\u001b[0m in \u001b[0;36m<module>\u001b[0;34m\u001b[0m\n\u001b[1;32m     10\u001b[0m     \u001b[0mbatch_size\u001b[0m\u001b[0;34m=\u001b[0m\u001b[0mbatch_size\u001b[0m\u001b[0;34m,\u001b[0m\u001b[0;34m\u001b[0m\u001b[0;34m\u001b[0m\u001b[0m\n\u001b[1;32m     11\u001b[0m )\n\u001b[0;32m---> 12\u001b[0;31m val_ds = tf.keras.preprocessing.image_dataset_from_directory(\n\u001b[0m\u001b[1;32m     13\u001b[0m     \u001b[0;34m\"PetImages\"\u001b[0m\u001b[0;34m,\u001b[0m\u001b[0;34m\u001b[0m\u001b[0;34m\u001b[0m\u001b[0m\n\u001b[1;32m     14\u001b[0m     \u001b[0mvalidation_split\u001b[0m\u001b[0;34m=\u001b[0m\u001b[0;36m0.2\u001b[0m\u001b[0;34m,\u001b[0m\u001b[0;34m\u001b[0m\u001b[0;34m\u001b[0m\u001b[0m\n",
            "\u001b[0;32m~/opt/anaconda3/lib/python3.8/site-packages/tensorflow/python/keras/preprocessing/image_dataset.py\u001b[0m in \u001b[0;36mimage_dataset_from_directory\u001b[0;34m(directory, labels, label_mode, class_names, color_mode, batch_size, image_size, shuffle, seed, validation_split, subset, interpolation, follow_links, smart_resize)\u001b[0m\n\u001b[1;32m    181\u001b[0m   \u001b[0;32mif\u001b[0m \u001b[0mseed\u001b[0m \u001b[0;32mis\u001b[0m \u001b[0;32mNone\u001b[0m\u001b[0;34m:\u001b[0m\u001b[0;34m\u001b[0m\u001b[0;34m\u001b[0m\u001b[0m\n\u001b[1;32m    182\u001b[0m     \u001b[0mseed\u001b[0m \u001b[0;34m=\u001b[0m \u001b[0mnp\u001b[0m\u001b[0;34m.\u001b[0m\u001b[0mrandom\u001b[0m\u001b[0;34m.\u001b[0m\u001b[0mrandint\u001b[0m\u001b[0;34m(\u001b[0m\u001b[0;36m1e6\u001b[0m\u001b[0;34m)\u001b[0m\u001b[0;34m\u001b[0m\u001b[0;34m\u001b[0m\u001b[0m\n\u001b[0;32m--> 183\u001b[0;31m   image_paths, labels, class_names = dataset_utils.index_directory(\n\u001b[0m\u001b[1;32m    184\u001b[0m       \u001b[0mdirectory\u001b[0m\u001b[0;34m,\u001b[0m\u001b[0;34m\u001b[0m\u001b[0;34m\u001b[0m\u001b[0m\n\u001b[1;32m    185\u001b[0m       \u001b[0mlabels\u001b[0m\u001b[0;34m,\u001b[0m\u001b[0;34m\u001b[0m\u001b[0;34m\u001b[0m\u001b[0m\n",
            "\u001b[0;32m~/opt/anaconda3/lib/python3.8/site-packages/tensorflow/python/keras/preprocessing/dataset_utils.py\u001b[0m in \u001b[0;36mindex_directory\u001b[0;34m(directory, labels, formats, class_names, shuffle, seed, follow_links)\u001b[0m\n\u001b[1;32m     92\u001b[0m   \u001b[0mlabels_list\u001b[0m \u001b[0;34m=\u001b[0m \u001b[0;34m[\u001b[0m\u001b[0;34m]\u001b[0m\u001b[0;34m\u001b[0m\u001b[0;34m\u001b[0m\u001b[0m\n\u001b[1;32m     93\u001b[0m   \u001b[0;32mfor\u001b[0m \u001b[0mres\u001b[0m \u001b[0;32min\u001b[0m \u001b[0mresults\u001b[0m\u001b[0;34m:\u001b[0m\u001b[0;34m\u001b[0m\u001b[0;34m\u001b[0m\u001b[0m\n\u001b[0;32m---> 94\u001b[0;31m     \u001b[0mpartial_filenames\u001b[0m\u001b[0;34m,\u001b[0m \u001b[0mpartial_labels\u001b[0m \u001b[0;34m=\u001b[0m \u001b[0mres\u001b[0m\u001b[0;34m.\u001b[0m\u001b[0mget\u001b[0m\u001b[0;34m(\u001b[0m\u001b[0;34m)\u001b[0m\u001b[0;34m\u001b[0m\u001b[0;34m\u001b[0m\u001b[0m\n\u001b[0m\u001b[1;32m     95\u001b[0m     \u001b[0mlabels_list\u001b[0m\u001b[0;34m.\u001b[0m\u001b[0mappend\u001b[0m\u001b[0;34m(\u001b[0m\u001b[0mpartial_labels\u001b[0m\u001b[0;34m)\u001b[0m\u001b[0;34m\u001b[0m\u001b[0;34m\u001b[0m\u001b[0m\n\u001b[1;32m     96\u001b[0m     \u001b[0mfilenames\u001b[0m \u001b[0;34m+=\u001b[0m \u001b[0mpartial_filenames\u001b[0m\u001b[0;34m\u001b[0m\u001b[0;34m\u001b[0m\u001b[0m\n",
            "\u001b[0;32m~/opt/anaconda3/lib/python3.8/multiprocessing/pool.py\u001b[0m in \u001b[0;36mget\u001b[0;34m(self, timeout)\u001b[0m\n\u001b[1;32m    763\u001b[0m \u001b[0;34m\u001b[0m\u001b[0m\n\u001b[1;32m    764\u001b[0m     \u001b[0;32mdef\u001b[0m \u001b[0mget\u001b[0m\u001b[0;34m(\u001b[0m\u001b[0mself\u001b[0m\u001b[0;34m,\u001b[0m \u001b[0mtimeout\u001b[0m\u001b[0;34m=\u001b[0m\u001b[0;32mNone\u001b[0m\u001b[0;34m)\u001b[0m\u001b[0;34m:\u001b[0m\u001b[0;34m\u001b[0m\u001b[0;34m\u001b[0m\u001b[0m\n\u001b[0;32m--> 765\u001b[0;31m         \u001b[0mself\u001b[0m\u001b[0;34m.\u001b[0m\u001b[0mwait\u001b[0m\u001b[0;34m(\u001b[0m\u001b[0mtimeout\u001b[0m\u001b[0;34m)\u001b[0m\u001b[0;34m\u001b[0m\u001b[0;34m\u001b[0m\u001b[0m\n\u001b[0m\u001b[1;32m    766\u001b[0m         \u001b[0;32mif\u001b[0m \u001b[0;32mnot\u001b[0m \u001b[0mself\u001b[0m\u001b[0;34m.\u001b[0m\u001b[0mready\u001b[0m\u001b[0;34m(\u001b[0m\u001b[0;34m)\u001b[0m\u001b[0;34m:\u001b[0m\u001b[0;34m\u001b[0m\u001b[0;34m\u001b[0m\u001b[0m\n\u001b[1;32m    767\u001b[0m             \u001b[0;32mraise\u001b[0m \u001b[0mTimeoutError\u001b[0m\u001b[0;34m\u001b[0m\u001b[0;34m\u001b[0m\u001b[0m\n",
            "\u001b[0;32m~/opt/anaconda3/lib/python3.8/multiprocessing/pool.py\u001b[0m in \u001b[0;36mwait\u001b[0;34m(self, timeout)\u001b[0m\n\u001b[1;32m    760\u001b[0m \u001b[0;34m\u001b[0m\u001b[0m\n\u001b[1;32m    761\u001b[0m     \u001b[0;32mdef\u001b[0m \u001b[0mwait\u001b[0m\u001b[0;34m(\u001b[0m\u001b[0mself\u001b[0m\u001b[0;34m,\u001b[0m \u001b[0mtimeout\u001b[0m\u001b[0;34m=\u001b[0m\u001b[0;32mNone\u001b[0m\u001b[0;34m)\u001b[0m\u001b[0;34m:\u001b[0m\u001b[0;34m\u001b[0m\u001b[0;34m\u001b[0m\u001b[0m\n\u001b[0;32m--> 762\u001b[0;31m         \u001b[0mself\u001b[0m\u001b[0;34m.\u001b[0m\u001b[0m_event\u001b[0m\u001b[0;34m.\u001b[0m\u001b[0mwait\u001b[0m\u001b[0;34m(\u001b[0m\u001b[0mtimeout\u001b[0m\u001b[0;34m)\u001b[0m\u001b[0;34m\u001b[0m\u001b[0;34m\u001b[0m\u001b[0m\n\u001b[0m\u001b[1;32m    763\u001b[0m \u001b[0;34m\u001b[0m\u001b[0m\n\u001b[1;32m    764\u001b[0m     \u001b[0;32mdef\u001b[0m \u001b[0mget\u001b[0m\u001b[0;34m(\u001b[0m\u001b[0mself\u001b[0m\u001b[0;34m,\u001b[0m \u001b[0mtimeout\u001b[0m\u001b[0;34m=\u001b[0m\u001b[0;32mNone\u001b[0m\u001b[0;34m)\u001b[0m\u001b[0;34m:\u001b[0m\u001b[0;34m\u001b[0m\u001b[0;34m\u001b[0m\u001b[0m\n",
            "\u001b[0;32m~/opt/anaconda3/lib/python3.8/threading.py\u001b[0m in \u001b[0;36mwait\u001b[0;34m(self, timeout)\u001b[0m\n\u001b[1;32m    556\u001b[0m             \u001b[0msignaled\u001b[0m \u001b[0;34m=\u001b[0m \u001b[0mself\u001b[0m\u001b[0;34m.\u001b[0m\u001b[0m_flag\u001b[0m\u001b[0;34m\u001b[0m\u001b[0;34m\u001b[0m\u001b[0m\n\u001b[1;32m    557\u001b[0m             \u001b[0;32mif\u001b[0m \u001b[0;32mnot\u001b[0m \u001b[0msignaled\u001b[0m\u001b[0;34m:\u001b[0m\u001b[0;34m\u001b[0m\u001b[0;34m\u001b[0m\u001b[0m\n\u001b[0;32m--> 558\u001b[0;31m                 \u001b[0msignaled\u001b[0m \u001b[0;34m=\u001b[0m \u001b[0mself\u001b[0m\u001b[0;34m.\u001b[0m\u001b[0m_cond\u001b[0m\u001b[0;34m.\u001b[0m\u001b[0mwait\u001b[0m\u001b[0;34m(\u001b[0m\u001b[0mtimeout\u001b[0m\u001b[0;34m)\u001b[0m\u001b[0;34m\u001b[0m\u001b[0;34m\u001b[0m\u001b[0m\n\u001b[0m\u001b[1;32m    559\u001b[0m             \u001b[0;32mreturn\u001b[0m \u001b[0msignaled\u001b[0m\u001b[0;34m\u001b[0m\u001b[0;34m\u001b[0m\u001b[0m\n\u001b[1;32m    560\u001b[0m \u001b[0;34m\u001b[0m\u001b[0m\n",
            "\u001b[0;32m~/opt/anaconda3/lib/python3.8/threading.py\u001b[0m in \u001b[0;36mwait\u001b[0;34m(self, timeout)\u001b[0m\n\u001b[1;32m    300\u001b[0m         \u001b[0;32mtry\u001b[0m\u001b[0;34m:\u001b[0m    \u001b[0;31m# restore state no matter what (e.g., KeyboardInterrupt)\u001b[0m\u001b[0;34m\u001b[0m\u001b[0;34m\u001b[0m\u001b[0m\n\u001b[1;32m    301\u001b[0m             \u001b[0;32mif\u001b[0m \u001b[0mtimeout\u001b[0m \u001b[0;32mis\u001b[0m \u001b[0;32mNone\u001b[0m\u001b[0;34m:\u001b[0m\u001b[0;34m\u001b[0m\u001b[0;34m\u001b[0m\u001b[0m\n\u001b[0;32m--> 302\u001b[0;31m                 \u001b[0mwaiter\u001b[0m\u001b[0;34m.\u001b[0m\u001b[0macquire\u001b[0m\u001b[0;34m(\u001b[0m\u001b[0;34m)\u001b[0m\u001b[0;34m\u001b[0m\u001b[0;34m\u001b[0m\u001b[0m\n\u001b[0m\u001b[1;32m    303\u001b[0m                 \u001b[0mgotit\u001b[0m \u001b[0;34m=\u001b[0m \u001b[0;32mTrue\u001b[0m\u001b[0;34m\u001b[0m\u001b[0;34m\u001b[0m\u001b[0m\n\u001b[1;32m    304\u001b[0m             \u001b[0;32melse\u001b[0m\u001b[0;34m:\u001b[0m\u001b[0;34m\u001b[0m\u001b[0;34m\u001b[0m\u001b[0m\n",
            "\u001b[0;31mKeyboardInterrupt\u001b[0m: "
          ]
        }
      ],
      "metadata": {
        "id": "LWO8COdv0S1J"
      }
    },
    {
      "cell_type": "markdown",
      "source": [
        "## Visualize the data\n",
        "\n",
        "Here are the first 9 images in the training dataset. As you can see, label 1 is \"dog\"\n",
        " and label 0 is \"cat\".\n"
      ],
      "metadata": {
        "id": "R4DyvX_B0S1K"
      }
    },
    {
      "cell_type": "code",
      "execution_count": null,
      "source": [
        "import matplotlib.pyplot as plt\n",
        "\n",
        "plt.figure(figsize=(10, 10))\n",
        "for images, labels in train_ds.take(1):\n",
        "    for i in range(9):\n",
        "        ax = plt.subplot(3, 3, i + 1)\n",
        "        plt.imshow(images[i].numpy().astype(\"uint8\"))\n",
        "        plt.title(int(labels[i]))\n",
        "        plt.axis(\"off\")\n"
      ],
      "outputs": [],
      "metadata": {
        "id": "CjFKqI2l0S1K"
      }
    },
    {
      "cell_type": "markdown",
      "source": [
        "## Using image data augmentation\n",
        "\n",
        "When you don't have a large image dataset, it's a good practice to artificially\n",
        "introduce sample diversity by applying random yet realistic transformations to the\n",
        "training images, such as random horizontal flipping or small random rotations. This\n",
        "helps expose the model to different aspects of the training data while slowing down\n",
        " overfitting.\n"
      ],
      "metadata": {
        "id": "DpE56Son0S1K"
      }
    },
    {
      "cell_type": "code",
      "execution_count": null,
      "source": [
        "data_augmentation = keras.Sequential(\n",
        "    [\n",
        "        layers.experimental.preprocessing.RandomFlip(\"horizontal\"),\n",
        "        layers.experimental.preprocessing.RandomRotation(0.1),\n",
        "    ]\n",
        ")\n"
      ],
      "outputs": [],
      "metadata": {
        "id": "S1T7Lnvo0S1L"
      }
    },
    {
      "cell_type": "markdown",
      "source": [
        "Let's visualize what the augmented samples look like, by applying `data_augmentation`\n",
        " repeatedly to the first image in the dataset:\n"
      ],
      "metadata": {
        "id": "ibqCAqov0S1L"
      }
    },
    {
      "cell_type": "code",
      "execution_count": null,
      "source": [
        "plt.figure(figsize=(10, 10))\n",
        "for images, _ in train_ds.take(1):\n",
        "    for i in range(9):\n",
        "        augmented_images = data_augmentation(images)\n",
        "        ax = plt.subplot(3, 3, i + 1)\n",
        "        plt.imshow(augmented_images[0].numpy().astype(\"uint8\"))\n",
        "        plt.axis(\"off\")\n"
      ],
      "outputs": [],
      "metadata": {
        "id": "KDVRnoK_0S1L"
      }
    },
    {
      "cell_type": "markdown",
      "source": [
        "## Standardizing the data\n",
        "\n",
        "Our image are already in a standard size (180x180), as they are being yielded as\n",
        "contiguous `float32` batches by our dataset. However, their RGB channel values are in\n",
        " the `[0, 255]` range. This is not ideal for a neural network;\n",
        "in general you should seek to make your input values small. Here, we will\n",
        "standardize values to be in the `[0, 1]` by using a `Rescaling` layer at the start of\n",
        " our model.\n"
      ],
      "metadata": {
        "id": "XthS-a540S1M"
      }
    },
    {
      "cell_type": "markdown",
      "source": [
        "## Two options to preprocess the data\n",
        "\n",
        "There are two ways you could be using the `data_augmentation` preprocessor:\n",
        "\n",
        "**Option 1: Make it part of the model**, like this:\n",
        "\n",
        "```python\n",
        "inputs = keras.Input(shape=input_shape)\n",
        "x = data_augmentation(inputs)\n",
        "x = layers.experimental.preprocessing.Rescaling(1./255)(x)\n",
        "...  # Rest of the model\n",
        "```\n",
        "\n",
        "With this option, your data augmentation will happen *on device*, synchronously\n",
        "with the rest of the model execution, meaning that it will benefit from GPU\n",
        " acceleration.\n",
        "\n",
        "Note that data augmentation is inactive at test time, so the input samples will only be\n",
        " augmented during `fit()`, not when calling `evaluate()` or `predict()`.\n",
        "\n",
        "If you're training on GPU, this is the better option.\n",
        "\n",
        "**Option 2: apply it to the dataset**, so as to obtain a dataset that yields batches of\n",
        " augmented images, like this:\n",
        "\n",
        "```python\n",
        "augmented_train_ds = train_ds.map(\n",
        "  lambda x, y: (data_augmentation(x, training=True), y))\n",
        "```\n",
        "\n",
        "With this option, your data augmentation will happen **on CPU**, asynchronously, and will\n",
        " be buffered before going into the model.\n",
        "\n",
        "If you're training on CPU, this is the better option, since it makes data augmentation\n",
        " asynchronous and non-blocking.\n",
        "\n",
        "In our case, we'll go with the first option.\n"
      ],
      "metadata": {
        "id": "GM9xzXMu0S1M"
      }
    },
    {
      "cell_type": "markdown",
      "source": [
        "## Configure the dataset for performance\n",
        "\n",
        "Let's make sure to use buffered prefetching so we can yield data from disk without\n",
        " having I/O becoming blocking:\n"
      ],
      "metadata": {
        "id": "ZY-6balJ0S1M"
      }
    },
    {
      "cell_type": "code",
      "execution_count": null,
      "source": [
        "train_ds = train_ds.prefetch(buffer_size=32)\n",
        "val_ds = val_ds.prefetch(buffer_size=32)\n"
      ],
      "outputs": [],
      "metadata": {
        "id": "5nA1h0EM0S1N"
      }
    },
    {
      "cell_type": "markdown",
      "source": [
        "## Build a model\n",
        "\n",
        "We'll build a small version of the Xception network. We haven't particularly tried to\n",
        "optimize the architecture; if you want to do a systematic search for the best model\n",
        " configuration, consider using\n",
        "[Keras Tuner](https://github.com/keras-team/keras-tuner).\n",
        "\n",
        "Note that:\n",
        "\n",
        "- We start the model with the `data_augmentation` preprocessor, followed by a\n",
        " `Rescaling` layer.\n",
        "- We include a `Dropout` layer before the final classification layer.\n"
      ],
      "metadata": {
        "id": "l3re29nE0S1N"
      }
    },
    {
      "cell_type": "code",
      "execution_count": null,
      "source": [
        "\n",
        "def make_model(input_shape, num_classes):\n",
        "    inputs = keras.Input(shape=input_shape)\n",
        "    # Image augmentation block\n",
        "    x = data_augmentation(inputs)\n",
        "\n",
        "    # Entry block\n",
        "    x = layers.experimental.preprocessing.Rescaling(1.0 / 255)(x)\n",
        "    x = layers.Conv2D(32, 3, strides=2, padding=\"same\")(x)\n",
        "    x = layers.BatchNormalization()(x)\n",
        "    x = layers.Activation(\"relu\")(x)\n",
        "\n",
        "    x = layers.Conv2D(64, 3, padding=\"same\")(x)\n",
        "    x = layers.BatchNormalization()(x)\n",
        "    x = layers.Activation(\"relu\")(x)\n",
        "\n",
        "    previous_block_activation = x  # Set aside residual\n",
        "\n",
        "    for size in [128, 256, 512, 728]:\n",
        "        x = layers.Activation(\"relu\")(x)\n",
        "        x = layers.SeparableConv2D(size, 3, padding=\"same\")(x)\n",
        "        x = layers.BatchNormalization()(x)\n",
        "\n",
        "        x = layers.Activation(\"relu\")(x)\n",
        "        x = layers.SeparableConv2D(size, 3, padding=\"same\")(x)\n",
        "        x = layers.BatchNormalization()(x)\n",
        "\n",
        "        x = layers.MaxPooling2D(3, strides=2, padding=\"same\")(x)\n",
        "\n",
        "        # Project residual\n",
        "        residual = layers.Conv2D(size, 1, strides=2, padding=\"same\")(\n",
        "            previous_block_activation\n",
        "        )\n",
        "        x = layers.add([x, residual])  # Add back residual\n",
        "        previous_block_activation = x  # Set aside next residual\n",
        "\n",
        "    x = layers.SeparableConv2D(1024, 3, padding=\"same\")(x)\n",
        "    x = layers.BatchNormalization()(x)\n",
        "    x = layers.Activation(\"relu\")(x)\n",
        "\n",
        "    x = layers.GlobalAveragePooling2D()(x)\n",
        "    if num_classes == 2:\n",
        "        activation = \"sigmoid\"\n",
        "        units = 1\n",
        "    else:\n",
        "        activation = \"softmax\"\n",
        "        units = num_classes\n",
        "\n",
        "    x = layers.Dropout(0.5)(x)\n",
        "    outputs = layers.Dense(units, activation=activation)(x)\n",
        "    return keras.Model(inputs, outputs)\n",
        "\n",
        "\n",
        "model = make_model(input_shape=image_size + (3,), num_classes=2)\n",
        "keras.utils.plot_model(model, show_shapes=True)\n"
      ],
      "outputs": [],
      "metadata": {
        "id": "gMHEgS9o0S1N"
      }
    },
    {
      "cell_type": "markdown",
      "source": [
        "## Lifecycle : Add First Model to Local Repository\n"
      ],
      "metadata": {}
    },
    {
      "cell_type": "code",
      "execution_count": null,
      "source": [
        "signature = mydb.push_model(model, \n",
        "    source = 'https://keras.io/examples/vision/image_classification_from_scratch/',\n",
        "    user = 'fchollet',\n",
        "    organisation = 'Keras')\n",
        "    \n",
        "print(signature)"
      ],
      "outputs": [],
      "metadata": {}
    },
    {
      "cell_type": "code",
      "execution_count": null,
      "source": [
        "class UpdateLifecycleCallback(keras.callbacks.Callback):\n",
        "\n",
        "     def on_epoch_end(self, epoch, logs=None):\n",
        "        signature = mydb.push_model(model, \n",
        "            source = 'https://keras.io/examples/vision/image_classification_from_scratch/',\n",
        "            user = 'fchollet',\n",
        "            organisation = 'Keras',\n",
        "            parent = signature )\n",
        "            \n",
        "        keys = list(logs.keys())\n",
        "        print(\"End epoch {} of training; got log keys: {}\".format(epoch, keys))\n",
        "\n",
        "\n",
        "    def on_train_batch_end(self, batch, logs=None):\n",
        "        keys = list(logs.keys())\n",
        "        print(\"...Training: end of batch {}; got log keys: {}\".format(batch, keys))\n",
        "\n",
        "\n"
      ],
      "outputs": [],
      "metadata": {}
    },
    {
      "cell_type": "markdown",
      "source": [
        "## Train the model\n"
      ],
      "metadata": {
        "id": "LGZozNH00S1O"
      }
    },
    {
      "cell_type": "code",
      "execution_count": null,
      "source": [
        "epochs = 50\n",
        "\n",
        "callbacks = [\n",
        "    keras.callbacks.ModelCheckpoint(\"save_at_{epoch}.h5\"),\n",
        "]\n",
        "model.compile(\n",
        "    optimizer=keras.optimizers.Adam(1e-3),\n",
        "    loss=\"binary_crossentropy\",\n",
        "    metrics=[\"accuracy\"],\n",
        ")\n",
        "model.fit(\n",
        "    train_ds, epochs=epochs, callbacks=callbacks, validation_data=val_ds,\n",
        ")\n"
      ],
      "outputs": [],
      "metadata": {
        "id": "BnDnqlV20S1O"
      }
    },
    {
      "cell_type": "markdown",
      "source": [
        "We get to ~96% validation accuracy after training for 50 epochs on the full dataset.\n"
      ],
      "metadata": {
        "id": "Gjqc3xuU0S1O"
      }
    },
    {
      "cell_type": "markdown",
      "source": [
        "## Run inference on new data\n",
        "\n",
        "Note that data augmentation and dropout are inactive at inference time.\n"
      ],
      "metadata": {
        "id": "uiGhFFiO0S1O"
      }
    },
    {
      "cell_type": "code",
      "execution_count": null,
      "source": [
        "img = keras.preprocessing.image.load_img(\n",
        "    \"PetImages/Cat/6779.jpg\", target_size=image_size\n",
        ")\n",
        "img_array = keras.preprocessing.image.img_to_array(img)\n",
        "img_array = tf.expand_dims(img_array, 0)  # Create batch axis\n",
        "\n",
        "predictions = model.predict(img_array)\n",
        "score = predictions[0]\n",
        "print(\n",
        "    \"This image is %.2f percent cat and %.2f percent dog.\"\n",
        "    % (100 * (1 - score), 100 * score)\n",
        ")\n"
      ],
      "outputs": [],
      "metadata": {
        "id": "vwkyhdWv0S1P"
      }
    }
  ]
}